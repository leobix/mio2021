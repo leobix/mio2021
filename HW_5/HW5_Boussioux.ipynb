{
 "cells": [
  {
   "cell_type": "code",
   "execution_count": 3,
   "id": "bored-publisher",
   "metadata": {},
   "outputs": [
    {
     "ename": "LoadError",
     "evalue": "\u001b[91mGurobi Error 10009: Failed to obtain a valid license\u001b[39m",
     "output_type": "error",
     "traceback": [
      "\u001b[91mGurobi Error 10009: Failed to obtain a valid license\u001b[39m",
      "",
      "Stacktrace:",
      " [1] error(::String) at ./error.jl:33",
      " [2] Gurobi.Env() at /Users/leonardboussioux/.julia/packages/Gurobi/qk7lG/src/MOI_wrapper.jl:89",
      " [3] top-level scope at In[3]:6",
      " [4] include_string(::Function, ::Module, ::String, ::String) at ./loading.jl:1091"
     ]
    }
   ],
   "source": [
    "using DataFrames, CSV\n",
    "using JuMP, Gurobi\n",
    "using LinearAlgebra, Random, Printf\n",
    "using Plots\n",
    "\n",
    "const GRB_ENV = Gurobi.Env()"
   ]
  },
  {
   "cell_type": "code",
   "execution_count": null,
   "id": "incorrect-success",
   "metadata": {},
   "outputs": [],
   "source": [
    "Pb1_arcs.csv: A 90×5 matrix reporting, for each arc (column 1), the starting and ending\n",
    "nodes (columns 2 and 3), the capacity (column 4) and the construction cost (column 5).\n",
    "– Pb2_transport.csv: A 90×3 matrix reporting the unit transportation cost on each arc (rows)\n",
    "for each customer (columns).\n",
    "– Pb2_demand.csv: A 3×2 matrix reporting the demand from each customer (rows) in each\n",
    "scenario (columns).\n",
    "– Pb2_customer_OD.csv: A 3×2 matrix reporting, for each customer (rows), the origin (column\n",
    "1) and the destination (column 2)."
   ]
  },
  {
   "cell_type": "code",
   "execution_count": 7,
   "id": "complete-engagement",
   "metadata": {},
   "outputs": [
    {
     "data": {
      "text/html": [
       "<table class=\"data-frame\"><thead><tr><th></th><th>x1</th><th>x2</th></tr><tr><th></th><th>Int64</th><th>Int64</th></tr></thead><tbody><p>3 rows × 2 columns</p><tr><th>1</th><td>1</td><td>9</td></tr><tr><th>2</th><td>4</td><td>2</td></tr><tr><th>3</th><td>8</td><td>2</td></tr></tbody></table>"
      ],
      "text/latex": [
       "\\begin{tabular}{r|cc}\n",
       "\t& x1 & x2\\\\\n",
       "\t\\hline\n",
       "\t& Int64 & Int64\\\\\n",
       "\t\\hline\n",
       "\t1 & 1 & 9 \\\\\n",
       "\t2 & 4 & 2 \\\\\n",
       "\t3 & 8 & 2 \\\\\n",
       "\\end{tabular}\n"
      ],
      "text/plain": [
       "\u001b[1m3×2 DataFrame\u001b[0m\n",
       "\u001b[1m Row \u001b[0m│\u001b[1m x1    \u001b[0m\u001b[1m x2    \u001b[0m\n",
       "\u001b[1m     \u001b[0m│\u001b[90m Int64 \u001b[0m\u001b[90m Int64 \u001b[0m\n",
       "─────┼──────────────\n",
       "   1 │     1      9\n",
       "   2 │     4      2\n",
       "   3 │     8      2"
      ]
     },
     "execution_count": 7,
     "metadata": {},
     "output_type": "execute_result"
    }
   ],
   "source": [
    "arcs = CSV.read(\"Pb1_arcs.csv\", DataFrame)\n",
    "transport = CSV.read(\"Pb1_transport.csv\", DataFrame)\n",
    "demand = CSV.read(\"Pb1_demand.csv\", DataFrame)\n",
    "customers = CSV.read(\"Pb1_customer_OD.csv\", DataFrame)"
   ]
  },
  {
   "cell_type": "code",
   "execution_count": 13,
   "id": "revised-summit",
   "metadata": {},
   "outputs": [
    {
     "data": {
      "text/plain": [
       "(90, 5)"
      ]
     },
     "execution_count": 13,
     "metadata": {},
     "output_type": "execute_result"
    }
   ],
   "source": [
    "size(arcs)"
   ]
  },
  {
   "cell_type": "markdown",
   "id": "occasional-training",
   "metadata": {},
   "source": [
    "## 1. Problem setup\n",
    "\n",
    "We want to solve the following stochastic facility location problem:\n",
    "\n",
    "$$\\begin{align}\n",
    "\\min\\quad & \\sum_{i=1}^Nc_ix_i+\\sum_{s=1}^Sp_s\\left(\\sum_{i=1}^N\\sum_{j=1}^Mt_{ij}y_{ij}^s + \\sum_{j=1}^Mq_jz_{j}^s\\right)\\\\\n",
    "\\text{s.t.}\\quad & \\sum_{i=1}^Ny_{ij}^s+z_j^s\\ge d_j^s & \\forall j\\in [M], s\\in [S]\\\\\n",
    "& \\sum_{j=1}^My_{ij}^s \\le C_ix_i&\\forall i\\in[N], s\\in[S]\\\\\n",
    "& \\mathbf{y,z}\\ge 0, \\mathbf{x}\\in\\{0,1\\}^N\n",
    "\\end{align}$$"
   ]
  },
  {
   "cell_type": "markdown",
   "id": "sexual-novel",
   "metadata": {},
   "source": [
    "Dual subproblem $s$:\n",
    "$$\\begin{align}\n",
    "\\max\\quad &  \\sum_{j=1}^M \\mu_j d_j^s - \\sum_{i=1}^N\\lambda_iC_ix_i\\\\\n",
    "\\text{s.t.}\\quad & \\mu_j -\\lambda_i \\le t_{ij} & \\forall i\\in[N], j\\in[M]\\\\\n",
    "& \\mu_j \\le q_j &\\forall j\\in [M]\\\\\n",
    "& \\mathbf{\\mu, \\lambda}\\ge 0\n",
    "\\end{align}$$\n",
    "\n",
    "- If the dual subproblem is unbounded, we obtain an extreme ray $(\\mu^*, \\lambda^*)$ and add a feasibility cut:\n",
    "$$\\sum_{j=1}^M\\mu^*_j d_j^s - \\sum_{i=1}^N \\lambda^*_i C_i x_i \\le 0$$\n",
    "\n",
    "- If the dual subproblem solves to optimality, we obtain an extreme point $(\\mu^*, \\lambda^*)$ and add an optimality cut:\n",
    "$$θ_s \\ge \\sum_{j=1}^M\\mu^*_j d_j^s - \\sum_{i=1}^N\\lambda^*_i C_i x_i$$"
   ]
  },
  {
   "cell_type": "markdown",
   "id": "arctic-flush",
   "metadata": {},
   "source": [
    "\\begin{equation}\n",
    "    \\label{eq:subproblem-stochastic-dual}\n",
    "    \\begin{array}{ll}\n",
    "        \\max & \\sum_{k \\in \\mathcal{K}} d_k^s ({\\pi_{O_k, k}^s - \\pi_{D_k,k}^s}) + \\sum_{(i, j) \\in \\mathcal{A}} u_{i j} x_{i j} \\mu_{ i j}^s \\\\\n",
    "        \\text { s.t. } & \\pi_{i, k}^s - \\pi_{j, k}^s + \\mu_{i j}^s \\leq f_{i j k}, \\forall (i, j) \\in \\mathcal{A}, k \\in \\mathcal{K} \\\\\n",
    "        & \\pi_{i k}^s \\in \\mathbb{R}, \\forall i \\in \\mathcal{N}, k \\in \\mathcal{K} \\\\\n",
    "        & \\mu_{i j}^s \\leq 0,  \\forall(i, j) \\in \\mathcal{A} \\\\\n",
    "    \\end{array}\n",
    "\\end{equation}"
   ]
  },
  {
   "cell_type": "code",
   "execution_count": 4,
   "id": "about-diversity",
   "metadata": {},
   "outputs": [
    {
     "ename": "LoadError",
     "evalue": "\u001b[91mUndefVarError: FacilityLocationData not defined\u001b[39m",
     "output_type": "error",
     "traceback": [
      "\u001b[91mUndefVarError: FacilityLocationData not defined\u001b[39m",
      "",
      "Stacktrace:",
      " [1] top-level scope at In[4]:1",
      " [2] include_string(::Function, ::Module, ::String, ::String) at ./loading.jl:1091"
     ]
    }
   ],
   "source": [
    "\"Solve problem using multi-cut Benders decomposition\"\n",
    "function solve_benders_multi(data::FacilityLocationData; verbose::Bool=false)\n",
    "    # define main problem\n",
    "    MP = Model(() -> Gurobi.Optimizer(GRB_ENV));\n",
    "    set_optimizer_attributes(MP, \"TimeLimit\" => 60, \"MIPGap\" => 1e-4, \"OutputFlag\" => 0)\n",
    "    N = size(arcs, 1); M = size(customers, 1); S = size(demand, 2)\n",
    "    @variable(MP, x[1:N], Bin)\n",
    "    @variable(MP, θ[1:S] >= 0)\n",
    "    @objective(MP, Min, sum(arcs[3][i] * x[i] for i=1:N) + sum(1/S * θ[s] for s in 1:S))\n",
    "\n",
    "    lower_bound_all = []; upper_bound_all = []\n",
    "    MP_time = []; SP_max_time = []; SP_time = []\n",
    "    while true\n",
    "        # solve master problem\n",
    "        push!(MP_time, @elapsed optimize!(MP))\n",
    "        lower_bound_new = objective_value(MP)\n",
    "        push!(lower_bound_all, lower_bound_new)\n",
    "        x_MP = value.(MP[:x])\n",
    "        # solve S subproblems\n",
    "        obj_SP = zeros(S)\n",
    "        SP_time_all = zeros(S)\n",
    "        for s = 1:S\n",
    "            SP_dual = Model(() -> Gurobi.Optimizer(GRB_ENV))\n",
    "            set_optimizer_attributes(SP_dual, \"OutputFlag\" => 0)\n",
    "            @variable(SP_dual, λ[1:N] >= 0);\n",
    "            @variable(SP_dual, μ[1:M] >= 0);\n",
    "            @objective(SP_dual, Max,\n",
    "                       sum(μ[j] * demand[j,s] for j in 1:M) -\n",
    "                       sum(λ[i] * arcs[4][i] * x_MP[i] for i in 1:N))\n",
    "            @constraint(SP_dual, [i in 1:N, j in 1:M], μ[j] - λ[i] <= transport[i,j])\n",
    "            @constraint(SP_dual, [j in 1:M], μ[j] <= data.cost_unmet_demand[j])\n",
    "            SP_time_all[s] = @elapsed optimize!(SP_dual)\n",
    "            obj_SP_dual = objective_value(SP_dual)\n",
    "            λ_val = value.(SP_dual[:λ])\n",
    "            μ_val = value.(SP_dual[:μ])            \n",
    "            if termination_status(SP_dual) == MOI.DUAL_INFEASIBLE # feasibility cut\n",
    "                @constraint(MP, sum(μ_val[j] * demand[j, s] for j in 1:M) -\n",
    "                            sum(λ_val[i] * arcs[4][i] * x[i] for i in 1:N) <= 0)\n",
    "                obj_SP[s] = 999999999\n",
    "            elseif termination_status(SP_dual) == MOI.OPTIMAL\n",
    "                @constraint(MP, θ[s] >= sum(μ_val[j] * data.demand[j,s] for j in 1:M) -\n",
    "                            sum(λ_val[i] * data.capacity[i] * x[i] for i in 1:N))\n",
    "                obj_SP[s] = obj_SP_dual\n",
    "            end\n",
    "        end\n",
    "        push!(SP_max_time, maximum(SP_time_all))\n",
    "        push!(SP_time, sum(SP_time_all))\n",
    "        upper_bound_new = sum(data.facility_cost[i] * x_MP[i] for i=1:N) + sum(data.prob[s] * obj_SP[s] for s in 1:S)\n",
    "        push!(upper_bound_all, upper_bound_new)\n",
    "        verbose && @printf(\"Sol: %.2f - Bound: %.2f\\n\", upper_bound_all[end], lower_bound_all[end])\n",
    "        if sum(MP_time) + sum(SP_time) >= TIME_LIMIT ||\n",
    "            (upper_bound_new-lower_bound_new)/lower_bound_new < OPTIMALITY_GAP\n",
    "            break\n",
    "        end\n",
    "    end\n",
    "    return upper_bound_all, lower_bound_all, MP_time, SP_time, SP_max_time\n",
    "end"
   ]
  }
 ],
 "metadata": {
  "kernelspec": {
   "display_name": "Julia 1.5.3",
   "language": "julia",
   "name": "julia-1.5"
  },
  "language_info": {
   "file_extension": ".jl",
   "mimetype": "application/julia",
   "name": "julia",
   "version": "1.5.3"
  }
 },
 "nbformat": 4,
 "nbformat_minor": 5
}
