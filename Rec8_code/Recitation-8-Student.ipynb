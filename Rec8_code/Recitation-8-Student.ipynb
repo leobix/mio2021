{
 "cells": [
  {
   "cell_type": "markdown",
   "metadata": {},
   "source": [
    "# Recitation 8: Cutting planes and branching"
   ]
  },
  {
   "cell_type": "code",
   "execution_count": null,
   "metadata": {},
   "outputs": [],
   "source": [
    "using JuMP, Gurobi\n",
    "using Plots, LinearAlgebra, Random"
   ]
  },
  {
   "cell_type": "markdown",
   "metadata": {},
   "source": [
    "# Part 1: Cuts\n",
    "\n",
    "We consider the problem from lecture:\n",
    "\n",
    "$$\\min x_{n+1}$$ $$\\text{s.t. }2\\sum_{i=1}^nx_i + x_{n+1}=2k + 1.$$\n",
    "\n",
    "Recall that because the RHS is odd, we have no choice but to set $x_{n+1}=1$. However, it can require a lot of work for the solver to figure this out. We will explore the effects of different parameters on the branch-and-bound tree.\n",
    "\n",
    "First, we write a function to solve the problem for arbitrary $n$ and $k$:"
   ]
  },
  {
   "cell_type": "code",
   "execution_count": null,
   "metadata": {},
   "outputs": [],
   "source": [
    "\"Solve the optimization problem for n and k - pass a vector of parameters to the solver...\"\n",
    "function odd_x(n::Int, k::Int; parameters::Vector=[])\n",
    "    model = Model(Gurobi.Optimizer)\n",
    "    # Pass Gurobi configuration parameters\n",
    "\n",
    "    # Define the optimization problem\n",
    "\n",
    "    # Solve the problem\n",
    "    optimize!(model)\n",
    "end"
   ]
  },
  {
   "cell_type": "markdown",
   "metadata": {},
   "source": [
    "Now, let's try to solve it with default parameters, except turning off presolve."
   ]
  },
  {
   "cell_type": "code",
   "execution_count": null,
   "metadata": {},
   "outputs": [],
   "source": [
    "odd_x(20, 10, parameters = [\"Presolve\" => 0])"
   ]
  },
  {
   "cell_type": "markdown",
   "metadata": {},
   "source": [
    "We explored over 126,000 nodes and it took over 1 second to solve the problem. This is a lot of work!\n",
    "\n",
    "Let's see if we can use solver parameters to reduce this. First, we try the `Cuts` parameter:"
   ]
  },
  {
   "cell_type": "code",
   "execution_count": null,
   "metadata": {},
   "outputs": [],
   "source": [
    "odd_x(20, 10, parameters=[\"Presolve\" => 0, \"Cuts\" => 0])"
   ]
  },
  {
   "cell_type": "markdown",
   "metadata": {},
   "source": [
    "**Effect of toggling the `Cuts` parameter:**\n",
    "\n",
    "With cuts completely off, or a \"moderate\" cut generating strategy, we explore over 184,000 nodes. With an aggressive cut generating strategy, we reduce the set of nodes explored to under 9000, and solve time is divided by more than 10.\n",
    "\n",
    "It's a bit tiresome to read the logs, so let's output the number of nodes visited and the solve time directly from the function."
   ]
  },
  {
   "cell_type": "code",
   "execution_count": null,
   "metadata": {},
   "outputs": [],
   "source": [
    "\"Solve the optimization problem for n and k - pass a vector of parameters to the solver, return node count and time\"\n",
    "function odd_x_nodes(n::Int, k::Int; parameters::Vector=[])\n",
    "    model = Model(Gurobi.Optimizer)\n",
    "    set_optimizer_attributes(model, parameters...)\n",
    "    # Define optimization problem\n",
    "    @variable(model, x[1:(n+1)], Bin)\n",
    "    @objective(model, Min, x[n+1])\n",
    "    @constraint(model, 2 * sum(x[i] for i = 1:n) + x[n + 1] == 2 * k + 1)\n",
    "    # Solve the problem and get runtime\n",
    "    \n",
    "    # Extract the number of nodes visited\n",
    "\n",
    "end"
   ]
  },
  {
   "cell_type": "markdown",
   "metadata": {},
   "source": [
    "Now, we can plot the node counts for different values of the `Cuts` parameter."
   ]
  },
  {
   "cell_type": "code",
   "execution_count": null,
   "metadata": {},
   "outputs": [],
   "source": [
    "result = [odd_x_nodes(20, 10, parameters = [\"OutputFlag\" => 0, \"Presolve\" => 0, \"Cuts\" => i]) for i = [0, 1, 2]]"
   ]
  },
  {
   "cell_type": "markdown",
   "metadata": {},
   "source": [
    "Let's plot what that looks like"
   ]
  },
  {
   "cell_type": "code",
   "execution_count": null,
   "metadata": {},
   "outputs": [],
   "source": [
    "bar([0, 1, 2], log10.(first.(result)), yticks=([1, 2, 3, 4, 5], [\"1e$i\" for i = 1:5]),\n",
    "    xticks = ([0, 1, 2], [\"Cuts = $j\" for j = 0:2]), label=\"\", ylabel=\"Nodes visited\")"
   ]
  },
  {
   "cell_type": "code",
   "execution_count": null,
   "metadata": {},
   "outputs": [],
   "source": [
    "bar([0, 1, 2], (last.(result)), fill=\"orange\", linecolor=\"orange\",\n",
    "    xticks = ([0, 1, 2], [\"Cuts = $j\" for j = 0:2]), label=\"\", ylabel=\"Solve time (s)\")"
   ]
  },
  {
   "cell_type": "markdown",
   "metadata": {},
   "source": [
    "If we look at the logs carefully, we see that flow cover cuts (when `Cuts = 1`) and Gomory cuts (when `Cuts = 2`) are used. We can try to manipulate these manually using the parameters:\n",
    "- `FlowCoverCuts`: 0 is off, 1 is moderate, 2 is aggressive\n",
    "- `GomoryPasses`: indicates the number of attempts we make to add Gomory cuts (0 is off)"
   ]
  },
  {
   "cell_type": "code",
   "execution_count": null,
   "metadata": {},
   "outputs": [],
   "source": [
    "result2 = [odd_x_nodes(20, 10, parameters = [\"OutputFlag\" => 0, \"Presolve\" => 0, \"Cuts\" => -1,\n",
    "                                            \"FlowCoverCuts\" => i, \"GomoryPasses\" => j])\n",
    "           for i = [0, 1, 2], j = [0, 1, 2, 4, 8, 16, 32, 64]]"
   ]
  },
  {
   "cell_type": "code",
   "execution_count": null,
   "metadata": {},
   "outputs": [],
   "source": [
    "plot(log10.(first.(result2))', label=permutedims([\"FlowCoverCuts = $i\" for i = 0:2]), lw=4, ls=:auto,\n",
    "     xticks = (collect(1:8), [0, 1, 2, 4, 8, 16, 32, 64]), xlabel=\"GomoryPasses\",\n",
    "     yticks=([1, 2, 3, 4, 5], [\"1e$i\" for i = 1:5]), ylabel=\"Nodes visited\")"
   ]
  },
  {
   "cell_type": "markdown",
   "metadata": {},
   "source": [
    "If we are aggressive enough about generating Gomory cuts, we can really simplify the problem a lot.\n",
    "\n",
    "It turns out that the top-level `Cuts` parameter can take values beyond 0 (off), 1 (moderate) and 2 (aggressive). We can set `Cuts=3` for very aggressive cut generation."
   ]
  },
  {
   "cell_type": "code",
   "execution_count": null,
   "metadata": {},
   "outputs": [],
   "source": [
    "odd_x(100, 50, parameters=[\"OutputFlag\" => 1, \"Presolve\" => 0, \"Cuts\" => 2])"
   ]
  },
  {
   "cell_type": "markdown",
   "metadata": {},
   "source": [
    "**Result:** We got it down to exploring a single node! When tinkering with parameters, it's always a good idea to check the highest-level parameters first..."
   ]
  },
  {
   "cell_type": "markdown",
   "metadata": {},
   "source": [
    "# Part 2: Symmetry\n",
    "\n",
    "The problem we've considered so far is highly symmetric! In fact, we really do not care which $k$ variables among the first $n$ we set to 1. Gurobi has a way to detect and correct for symmetric formulations."
   ]
  },
  {
   "cell_type": "code",
   "execution_count": null,
   "metadata": {},
   "outputs": [],
   "source": [
    "odd_x(20, 10, parameters=[\"OutputFlag\" => 1, \"Presolve\" => 0, \"Cuts\"=> 2, \"Symmetry\" => 0])"
   ]
  },
  {
   "cell_type": "markdown",
   "metadata": {},
   "source": [
    "Unfortunately, it looks like Gurobi is not able to find any symmetry in the formulation, and the number of explored nodes is not reduced...\n",
    "\n",
    "However, we know there are ways to reduce symmetry. In particular, we can impose an **order** on the first $n$ variables, by ensuring that $x_i=1$ only if $x_{i-1}=1$. We can modify the formulation as:"
   ]
  },
  {
   "cell_type": "code",
   "execution_count": null,
   "metadata": {},
   "outputs": [],
   "source": [
    "\"Solve the optimization problem for n and k - pass a vector of parameters to the solver\"\n",
    "function odd_x_fast(n::Int, k::Int; parameters::Vector=[])\n",
    "    model = Model(Gurobi.Optimizer)\n",
    "    set_optimizer_attributes(model, parameters...)\n",
    "    # Define optimization problem\n",
    "    @variable(model, x[1:(n+1)], Bin)\n",
    "    @objective(model, Min, x[n+1])\n",
    "    @constraint(model, 2 * sum(x[i] for i = 1:n) + x[n + 1] == 2 * k + 1)\n",
    "    # add order-inducing constraints\n",
    "\n",
    "    \n",
    "    # Solve the problem\n",
    "    optimize!(model)\n",
    "end"
   ]
  },
  {
   "cell_type": "markdown",
   "metadata": {},
   "source": [
    "And when we apply it to the problem..."
   ]
  },
  {
   "cell_type": "code",
   "execution_count": null,
   "metadata": {},
   "outputs": [],
   "source": [
    "odd_x_fast(20, 10, parameters = [\"OutputFlag\" => 1, \"Presolve\" => 0])"
   ]
  },
  {
   "cell_type": "markdown",
   "metadata": {},
   "source": [
    "... we find that the solver immediately deduces that $x_{n+1}=0$ is infeasible."
   ]
  },
  {
   "cell_type": "markdown",
   "metadata": {},
   "source": [
    "# Part 3: Branching\n",
    "\n",
    "Another way to solve problems more efficiently is to modify the branching scheme. We can control this at a high-level using the `VarBranch` parameter, which can take the following values:\n",
    "- Choose automatically (-1)\n",
    "- Pseudo reduced cost branching (0)\n",
    "- Pseudo shadow price branching (1)\n",
    "- Maximum infeasibility branching (2)\n",
    "- Strong branching (3)\n",
    "\n",
    "To test the impact of this parameter, we will use a problem instance from [MIPLIB](https://miplib.zib.de/index.html), a library of MIP instances that is used for benchmarking new algorithms. "
   ]
  },
  {
   "cell_type": "code",
   "execution_count": null,
   "metadata": {},
   "outputs": [],
   "source": [
    "function solve_markshare(parameters::Vector = [])\n",
    "    new_model = read_from_file(\"markshare4.mps\")\n",
    "    set_optimizer(new_model, Gurobi.Optimizer)\n",
    "    set_optimizer_attributes(new_model, parameters...)\n",
    "    solvetime = @elapsed optimize!(new_model)\n",
    "    return (solvetime, MOI.get(new_model, MOI.NodeCount()))\n",
    "end"
   ]
  },
  {
   "cell_type": "markdown",
   "metadata": {},
   "source": [
    "Let's solve it for varying branching strategies, and plot the result."
   ]
  },
  {
   "cell_type": "code",
   "execution_count": null,
   "metadata": {
    "scrolled": true
   },
   "outputs": [],
   "source": [
    "result3 = [solve_markshare([\"Presolve\" => 1, \"Cuts\" => 0, \"VarBranch\" => i, \"OutputFlag\" => 0,\n",
    "                           \"Heuristics\" => 0, \"TimeLimit\" => 30]) for i = -1:3];"
   ]
  },
  {
   "cell_type": "code",
   "execution_count": null,
   "metadata": {},
   "outputs": [],
   "source": [
    "bar(collect(-1:3), (last.(result3)),\n",
    "    xticks = ([-1, 0, 1, 2, 3], [\"Auto\", \"Reduced cost\", \"Shadow price\", \"Max infeasibility\", \"Strong\"]),\n",
    "    label=\"\", ylabel=\"Nodes visited\")"
   ]
  },
  {
   "cell_type": "code",
   "execution_count": null,
   "metadata": {},
   "outputs": [],
   "source": [
    "bar(collect(-1:3), (first.(result3)), fill=\"orange\", lc=\"orange\",\n",
    "    xticks = ([-1, 0, 1, 2, 3], [\"Auto\", \"Reduced cost\", \"Shadow price\", \"Max infeasibility\", \"Strong\"]),\n",
    "    label=\"\", ylabel=\"Time (s)\")"
   ]
  },
  {
   "cell_type": "markdown",
   "metadata": {},
   "source": [
    "There is not a clear winner here: strong branching reduces the number of nodes significantly, but also takes more time making each branching decision.\n",
    "\n",
    "Can we use the branching strategies to reduce the number of nodes in our first example?"
   ]
  },
  {
   "cell_type": "code",
   "execution_count": null,
   "metadata": {},
   "outputs": [],
   "source": [
    "result4 = [odd_x_nodes(20, 10, parameters = [\"OutputFlag\" => 0, \"Presolve\" => 0,\n",
    "                                             \"Cuts\" => 0, \"VarBranch\" => i]) for i = -1:3]\n",
    "@show first.(result4);"
   ]
  },
  {
   "cell_type": "markdown",
   "metadata": {},
   "source": [
    "The effect of the high-level branching strategy is not significant. We know much more about the structure of the problem than what we've told Gurobi, so it is still having trouble.\n",
    "\n",
    "Next, we can try a more fine-grained method to modify branching decisions. Consider the following example with two binary variables, and let the objective be to maximize $y$. The optimal fractional solution is $(\\frac{1}{2}, \\frac{5}{6})$.\n",
    "\n",
    "![](example.pdf)\n",
    "\n",
    "If we branch on $x$ first, we obtain the following disjunction:\n",
    "\n",
    "![](example-branch1.pdf)\n",
    "\n",
    "In this case, the optimal solution to the relaxation is $(0, \\frac{1}{3})$, and we need to branch again to get an integral solution. In contrast, if we had branched on $y$ first, we would have immediately obtained the convex hull of the integer set:\n",
    "\n",
    "![](example-branch2.pdf)\n",
    "\n",
    "In our case, it's not totally clear which variable we should prioritize, but let's try it out! For any variable, we can set the `BranchPriority` attribute to tell Gurobi how to branch. However, we should keep in mind that Gurobi already has an ordering strategy in mind (which is proprietary), so we do not know if it will actually follow our recommendation!"
   ]
  },
  {
   "cell_type": "code",
   "execution_count": null,
   "metadata": {},
   "outputs": [],
   "source": [
    "\"Same as before, try to toggle branching priority\"\n",
    "function odd_x_priority(n::Int, k::Int; parameters::Vector=[])\n",
    "    # To access low-level solver attributes, we need to use direct_model\n",
    "    # The main difference is that JuMP does not \"cache\" any of the variables or constraints,\n",
    "    # so we have less memory overhead, but we can't change the solver later on\n",
    "\n",
    "    \n",
    "    @variable(model, x[1:(n+1)], Bin)\n",
    "    @objective(model, Min, x[n+1])\n",
    "    @constraint(model, 2 * sum(x[i] for i = 1:n) + x[n + 1] == 2 * k + 1)\n",
    "    \n",
    "    # We can set the BranchPriority attribute as follows - default value is 0, higher means higher priority\n",
    "\n",
    "    \n",
    "    # solve\n",
    "    solvetime = @elapsed optimize!(model)\n",
    "    return MOI.get(model, MOI.NodeCount()), solvetime\n",
    "end"
   ]
  },
  {
   "cell_type": "code",
   "execution_count": null,
   "metadata": {},
   "outputs": [],
   "source": [
    "result5 = [odd_x_priority(20, 10, parameters = [\"OutputFlag\" => 0, \"Presolve\" => 0,\n",
    "                                                \"Cuts\" => 0, \"VarBranch\" => i]) for i = -1:3]\n",
    "@show first.(result5);"
   ]
  },
  {
   "cell_type": "markdown",
   "metadata": {},
   "source": [
    "And the verdict is in... absolutely nothing changed. We need to do something deeper than changing the branching priority.\n",
    "\n",
    "# Part 4: Custom branching\n",
    "\n",
    "## 4.1 A better formulation\n",
    "\n",
    "The problem we are trying to solve has a lot of symmetry. It might be a good idea to modify the formulation slightly to allow for better branching!\n",
    "\n",
    "For example, we could define new binary variables $t_1, t_2, \\ldots, t_n$ such that $t_j=0$ turns off the last $n-j+1$ variables $x_i$, i.e.,\n",
    "\n",
    "$$\\sum_{i=j}^n x_i \\le (n-j+1) t_j$$"
   ]
  },
  {
   "cell_type": "code",
   "execution_count": null,
   "metadata": {},
   "outputs": [],
   "source": [
    "\"Solve the optimization problem for n and k - pass a vector of parameters to the solver\"\n",
    "function odd_x_branch(n::Int, k::Int; parameters::Vector=[])\n",
    "    model = Model(Gurobi.Optimizer)\n",
    "    set_optimizer_attributes(model, parameters...)\n",
    "    # Define optimization problem\n",
    "    @variable(model, x[1:(n+1)], Bin)\n",
    "    @objective(model, Min, x[n+1])\n",
    "    @constraint(model, 2 * sum(x[i] for i = 1:n) + x[n + 1] == 2 * k + 1)\n",
    "    # add new variables and constraints\n",
    "\n",
    "    \n",
    "    # Solve the problem\n",
    "    solvetime = @elapsed optimize!(model)\n",
    "    return MOI.get(model, MOI.NodeCount()), solvetime\n",
    "end"
   ]
  },
  {
   "cell_type": "code",
   "execution_count": null,
   "metadata": {
    "scrolled": false
   },
   "outputs": [],
   "source": [
    "result6 = [odd_x_branch(20, 10, parameters = [\"OutputFlag\" => 0, \"Presolve\" => 0, \"Cuts\" => i]) for i = 0:2]"
   ]
  },
  {
   "cell_type": "code",
   "execution_count": null,
   "metadata": {},
   "outputs": [],
   "source": [
    "bar([0, 1, 2], log10.(first.(result6)), yticks=([1, 2, 3, 4, 5], [\"1e$i\" for i = 1:5]),\n",
    "    xticks = ([0, 1, 2], [\"Cuts = $j\" for j = 0:2]), label=\"\", ylabel=\"Nodes visited\")"
   ]
  },
  {
   "cell_type": "code",
   "execution_count": null,
   "metadata": {},
   "outputs": [],
   "source": [
    "bar([0, 1, 2], log10.(first.(result)), yticks=([1, 2, 3, 4, 5], [\"1e$i\" for i = 1:5]),\n",
    "    xticks = ([0, 1, 2], [\"Cuts = $j\" for j = 0:2]), label=\"\", ylabel=\"Nodes visited\")"
   ]
  },
  {
   "cell_type": "markdown",
   "metadata": {},
   "source": [
    "Here, we find that augmenting the formulation makes it a lot easier to branch - and there is also strong interaction with the `Cuts` parameter. Often the two work together. If you find a formulation improvement that makes it easier to branch, chances are you will also be able to generate good cuts."
   ]
  },
  {
   "cell_type": "markdown",
   "metadata": {},
   "source": [
    "## 4.2 Orbital branching\n",
    "\n",
    "At the end of lecture, we mentioned that this problem is not well-suited to a simple branching scheme. Instead, we introduced the notion of *orbital branching*.\n",
    "\n",
    "How does this work? Consider the following disjunction:\n",
    "\n",
    "$$x_1=1 \\cup x_2=1 \\cup \\ldots \\cup x_n = 1 \\cup \\sum_{i=1}^n x_i = 0$$\n",
    "\n",
    "There are $n+1$ options above. But due to symmetry, the first $n$ of them will lead to identical nodes in the branch-and-bound tree. So we can simply throw $n-1$ of them out, leaving us with the following branching:\n",
    "\n",
    "$$x_1=1 \\cup \\sum_{i=1}^n x_i = 0.$$\n",
    "\n",
    "Now, we can take a look at the first branch. We've set $x_1=1$, but we have made no assumptions about the other variables. But we can repeat the process, and simplify the disjunction\n",
    "\n",
    "$$x_2=1 \\cup \\ldots \\cup x_n = 1 \\cup \\sum_{i=2}^n x_i = 0$$\n",
    "\n",
    "to \n",
    "\n",
    "$$x_2=1 \\cup \\sum_{i=2}^n x_i = 0.$$\n",
    "\n",
    "Ideally, we'd specify to Gurobi how to perform this kind of branching, but unfortunately Gurobi doesn't give us that kind of access. If we want that kind of access, we need to use a more malleable solver like SCIP... or we can just implement the branch-and-bound scheme ourselves.\n",
    "\n",
    "**How do we do this?**\n",
    "\n",
    "In this simple problem, what we are trying to do is show that $x_{n+1}=0$ is infeasible, and therefore the minimum value of the objective is $x_{n+1}=1$. We can iterate through the disjunctions listed above and show that all of them are infeasible for $x_{n+1}=0$.\n",
    "\n",
    "We can use the functions `JuMP.fix` and `JuMP.unfix` to set and unset specific assignments to each variable."
   ]
  },
  {
   "cell_type": "code",
   "execution_count": null,
   "metadata": {},
   "outputs": [],
   "source": [
    "\"Solve the problem using orbital branching, returns optimal value of x[n+1]\"\n",
    "function odd_x_orbital(n::Int, k::Int; parameters::Vector=[])\n",
    "    model = Model(Gurobi.Optimizer)\n",
    "    set_optimizer_attributes(model, parameters...)\n",
    "    # Define optimization problem\n",
    "    @variable(model, x[1:n], Bin)\n",
    "    @constraint(model, 2 * sum(x[i] for i = 1:n) == 2 * k + 1)\n",
    "    # first we set all the variables to 0 - first orbital disjunction\n",
    "    for i = 1:n\n",
    "        JuMP.fix(x[i], 0)\n",
    "    end\n",
    "    optimize!(model)\n",
    "    if termination_status(model) != MOI.INFEASIBLE\n",
    "        return 0\n",
    "    end\n",
    "    # now we go through the left branch of the tree, and check each orbital disjunction\n",
    "    for j = 1:n\n",
    "        JuMP.fix(x[j], 1)\n",
    "        optimize!(model)\n",
    "        if termination_status(model) != MOI.INFEASIBLE\n",
    "            return 0\n",
    "        end\n",
    "    end\n",
    "    return 1\n",
    "end"
   ]
  },
  {
   "cell_type": "code",
   "execution_count": null,
   "metadata": {},
   "outputs": [],
   "source": [
    "@time odd_x_orbital(20, 10, parameters=[\"Presolve\" => 0, \"TimeLimit\" => 10, \"OutputFlag\" => 0, \"Cuts\" => 0])"
   ]
  },
  {
   "cell_type": "markdown",
   "metadata": {},
   "source": [
    "Note that in this example, we don't even use Gurobi's IP capabilities, and we just ending up solving a series of LPs, all of which are infeasible. We end up exploring just 21 nodes."
   ]
  }
 ],
 "metadata": {
  "@webio": {
   "lastCommId": null,
   "lastKernelId": null
  },
  "kernelspec": {
   "display_name": "Julia 1.5.3",
   "language": "julia",
   "name": "julia-1.5"
  },
  "language_info": {
   "file_extension": ".jl",
   "mimetype": "application/julia",
   "name": "julia",
   "version": "1.5.3"
  }
 },
 "nbformat": 4,
 "nbformat_minor": 4
}
