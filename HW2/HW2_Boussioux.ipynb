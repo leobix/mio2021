{
 "cells": [
  {
   "cell_type": "code",
   "execution_count": 1,
   "id": "fifty-lodge",
   "metadata": {},
   "outputs": [],
   "source": [
    "using JuMP\n",
    "using Gurobi\n",
    "using DataFrames\n",
    "using CSV\n",
    "using LinearAlgebra\n",
    "using Plots\n",
    "using Statistics"
   ]
  },
  {
   "cell_type": "code",
   "execution_count": 50,
   "id": "least-establishment",
   "metadata": {},
   "outputs": [
    {
     "data": {
      "text/plain": [
       "99-element Array{Float64,1}:\n",
       " 0.0\n",
       " 0.0\n",
       " 0.0\n",
       " 0.0\n",
       " 0.0\n",
       " 0.0\n",
       " 0.0\n",
       " 0.0\n",
       " 0.0\n",
       " 0.0\n",
       " 0.0\n",
       " 0.0\n",
       " 0.0\n",
       " ⋮\n",
       " 0.0\n",
       " 0.0\n",
       " 0.0\n",
       " 0.0\n",
       " 0.0\n",
       " 0.0\n",
       " 0.0\n",
       " 0.0\n",
       " 0.0\n",
       " 0.0\n",
       " 0.0\n",
       " 0.0"
      ]
     },
     "execution_count": 50,
     "metadata": {},
     "output_type": "execute_result"
    }
   ],
   "source": [
    "A = zeros(18,15+11+55+18);\n",
    "C = zeros(15+11+55+18)"
   ]
  },
  {
   "cell_type": "code",
   "execution_count": 51,
   "id": "monthly-america",
   "metadata": {},
   "outputs": [],
   "source": [
    "#Shifts of 4h\n",
    "for j=1:14\n",
    "    A[j:j+3,j].+=1\n",
    "    C[j] = 25*4\n",
    "end\n",
    "\n",
    "#Shifts of 8h\n",
    "for j=1:10\n",
    "    A[j:j+7,j+15].+=1\n",
    "    C[j+15] = 20*8\n",
    "end\n",
    "\n",
    "#Shifts of 1h\n",
    "for j=1:18\n",
    "    A[j,j+15+11]+=1\n",
    "    C[j+15+11] = 40\n",
    "end\n",
    "\n",
    "#Overtime Shifts\n",
    "n = 0\n",
    "for k=9:18\n",
    "    for j=1:(18-k+1)\n",
    "        A[j:j+k-1,j+15+11+18+n].+=1\n",
    "        if k<11\n",
    "            C[j+15+11+18+n] = 20*8+30*(k-8)\n",
    "        else\n",
    "            C[j+15+11+18+n] = 20*8+30*2+35*(k-10)\n",
    "        end\n",
    "    end\n",
    "    n+=(18-k+1)\n",
    "end"
   ]
  },
  {
   "cell_type": "code",
   "execution_count": 133,
   "id": "mounted-sunset",
   "metadata": {},
   "outputs": [
    {
     "data": {
      "text/plain": [
       "35×18 Array{Any,2}:\n",
       "  4  29  72   54   80  26  15  40   87  47  31  34   35  77  36  51  27   4\n",
       "  7  21  50  118   62  54  27  77   45  42  46  73   53  86  45  37  26  19\n",
       " 24   4  35   51   93  36  15  67   84  37  45  54   51  78  71  53  26  13\n",
       " 12  19  38   76   47  21   6  62   48  44  38  19   43  55  70  40  39  13\n",
       " 11   6  46   70  109  34  20  51   62  59  15  46   49  51  46  40  44  23\n",
       "  8  15  54  109   53  35  28  51   69  66  32  48   52  60  38  40  11   6\n",
       "  7  14  33   60   41  23  24  46   68  21  56  53   40  91  63  35  29  18\n",
       " 11   9  64   29   53  44  23  40   52  32  43  64   43  57  28  47  20  16\n",
       "  4  11  51  103   39  30  26  48   86  54  29  59   68  66  69  80  41  23\n",
       "  4  14  49   66   41  29  29  55   43  66  22  48   76  89  44  63  40  12\n",
       "  4   4  44   62   65  34  23  77  125  33  30  46   58  89  56  46  41  12\n",
       " 17  11  39   70   61  36  17  63   97  48  18  55   44  60  70  39  37  14\n",
       "  4   4  52   78   73  24  13  31   76  30  18  75   58  67  45  53  32   8\n",
       "  ⋮                     ⋮                    ⋮                    ⋮      \n",
       "  4  10  45  109   31  40  38  41   77  50  22  69  115  52  57  69  36   7\n",
       "  4   8  78   45   66  47  19  62   50  44  43  16   63  89  71  31  29   8\n",
       " 11   6  57   50   42  29  23  51   76  32  44  55   78  78  46  28  31  33\n",
       " 11  10  48   72   48  21  21  57   86  34  24  27   43  68  68  47  17  10\n",
       " 22  10  22   64   59  18  22  34   70  49  61  50   71  62  44  18  37  17\n",
       "  5   4  57  103   81  27  13  51   83  48  30  58   39  74  33  46  60   4\n",
       "  4  14  32   86   50  53  18  43   82  51  21  67   63  96  26  50  29   4\n",
       "  4  28  42   65   75  57  14  43   64  37  23  47   60  56  34  40  27   6\n",
       "  4  14  34   69   26  39  21  38   76  45  35  54   66  92  59  52  30  16\n",
       "  4  13  77   75   67  22  17  70   38  68  28  37   73  53  63  41  22   6\n",
       "  5  12  36   74  105  54  21  49   97  49  23  47   82  46  64  29  22  19\n",
       "  9  11  52   37   79  81  24  92   76  66  68  49   32  54  50  70  57   6"
      ]
     },
     "execution_count": 133,
     "metadata": {},
     "output_type": "execute_result"
    }
   ],
   "source": [
    "D1 = convert(Matrix,CSV.File(\"HW2_demand.csv\"; header=true) |> DataFrame!)[:,2:73];\n",
    "D = D1[:,1:4:72]"
   ]
  },
  {
   "cell_type": "code",
   "execution_count": 47,
   "id": "referenced-leadership",
   "metadata": {},
   "outputs": [
    {
     "data": {
      "text/plain": [
       "18×99 Array{Float64,2}:\n",
       " 1.0  0.0  0.0  0.0  0.0  0.0  0.0  0.0  …  0.0  1.0  0.0  0.0  1.0  0.0  1.0\n",
       " 1.0  1.0  0.0  0.0  0.0  0.0  0.0  0.0     0.0  1.0  1.0  0.0  1.0  1.0  1.0\n",
       " 1.0  1.0  1.0  0.0  0.0  0.0  0.0  0.0     0.0  1.0  1.0  1.0  1.0  1.0  1.0\n",
       " 1.0  1.0  1.0  1.0  0.0  0.0  0.0  0.0     1.0  1.0  1.0  1.0  1.0  1.0  1.0\n",
       " 0.0  1.0  1.0  1.0  1.0  0.0  0.0  0.0     1.0  1.0  1.0  1.0  1.0  1.0  1.0\n",
       " 0.0  0.0  1.0  1.0  1.0  1.0  0.0  0.0  …  1.0  1.0  1.0  1.0  1.0  1.0  1.0\n",
       " 0.0  0.0  0.0  1.0  1.0  1.0  1.0  0.0     1.0  1.0  1.0  1.0  1.0  1.0  1.0\n",
       " 0.0  0.0  0.0  0.0  1.0  1.0  1.0  1.0     1.0  1.0  1.0  1.0  1.0  1.0  1.0\n",
       " 0.0  0.0  0.0  0.0  0.0  1.0  1.0  1.0     1.0  1.0  1.0  1.0  1.0  1.0  1.0\n",
       " 0.0  0.0  0.0  0.0  0.0  0.0  1.0  1.0     1.0  1.0  1.0  1.0  1.0  1.0  1.0\n",
       " 0.0  0.0  0.0  0.0  0.0  0.0  0.0  1.0  …  1.0  1.0  1.0  1.0  1.0  1.0  1.0\n",
       " 0.0  0.0  0.0  0.0  0.0  0.0  0.0  0.0     1.0  1.0  1.0  1.0  1.0  1.0  1.0\n",
       " 0.0  0.0  0.0  0.0  0.0  0.0  0.0  0.0     1.0  1.0  1.0  1.0  1.0  1.0  1.0\n",
       " 0.0  0.0  0.0  0.0  0.0  0.0  0.0  0.0     1.0  1.0  1.0  1.0  1.0  1.0  1.0\n",
       " 0.0  0.0  0.0  0.0  0.0  0.0  0.0  0.0     1.0  1.0  1.0  1.0  1.0  1.0  1.0\n",
       " 0.0  0.0  0.0  0.0  0.0  0.0  0.0  0.0  …  1.0  1.0  1.0  1.0  1.0  1.0  1.0\n",
       " 0.0  0.0  0.0  0.0  0.0  0.0  0.0  0.0     1.0  0.0  1.0  1.0  1.0  1.0  1.0\n",
       " 0.0  0.0  0.0  0.0  0.0  0.0  0.0  0.0     1.0  0.0  0.0  1.0  0.0  1.0  1.0"
      ]
     },
     "execution_count": 47,
     "metadata": {},
     "output_type": "execute_result"
    }
   ],
   "source": [
    "A"
   ]
  },
  {
   "cell_type": "code",
   "execution_count": 52,
   "id": "brilliant-wagon",
   "metadata": {},
   "outputs": [
    {
     "data": {
      "text/plain": [
       "99-element Array{Float64,1}:\n",
       " 100.0\n",
       " 100.0\n",
       " 100.0\n",
       " 100.0\n",
       " 100.0\n",
       " 100.0\n",
       " 100.0\n",
       " 100.0\n",
       " 100.0\n",
       " 100.0\n",
       " 100.0\n",
       " 100.0\n",
       " 100.0\n",
       "   ⋮\n",
       " 360.0\n",
       " 360.0\n",
       " 395.0\n",
       " 395.0\n",
       " 395.0\n",
       " 395.0\n",
       " 430.0\n",
       " 430.0\n",
       " 430.0\n",
       " 465.0\n",
       " 465.0\n",
       " 500.0"
      ]
     },
     "execution_count": 52,
     "metadata": {},
     "output_type": "execute_result"
    }
   ],
   "source": [
    "C"
   ]
  },
  {
   "cell_type": "code",
   "execution_count": 72,
   "id": "tutorial-algeria",
   "metadata": {},
   "outputs": [
    {
     "data": {
      "text/plain": [
       "35×18 Array{Any,2}:\n",
       "  4  29  72   54   80  26  15  40   87  47  31  34   35  77  36  51  27   4\n",
       "  7  21  50  118   62  54  27  77   45  42  46  73   53  86  45  37  26  19\n",
       " 24   4  35   51   93  36  15  67   84  37  45  54   51  78  71  53  26  13\n",
       " 12  19  38   76   47  21   6  62   48  44  38  19   43  55  70  40  39  13\n",
       " 11   6  46   70  109  34  20  51   62  59  15  46   49  51  46  40  44  23\n",
       "  8  15  54  109   53  35  28  51   69  66  32  48   52  60  38  40  11   6\n",
       "  7  14  33   60   41  23  24  46   68  21  56  53   40  91  63  35  29  18\n",
       " 11   9  64   29   53  44  23  40   52  32  43  64   43  57  28  47  20  16\n",
       "  4  11  51  103   39  30  26  48   86  54  29  59   68  66  69  80  41  23\n",
       "  4  14  49   66   41  29  29  55   43  66  22  48   76  89  44  63  40  12\n",
       "  4   4  44   62   65  34  23  77  125  33  30  46   58  89  56  46  41  12\n",
       " 17  11  39   70   61  36  17  63   97  48  18  55   44  60  70  39  37  14\n",
       "  4   4  52   78   73  24  13  31   76  30  18  75   58  67  45  53  32   8\n",
       "  ⋮                     ⋮                    ⋮                    ⋮      \n",
       "  4  10  45  109   31  40  38  41   77  50  22  69  115  52  57  69  36   7\n",
       "  4   8  78   45   66  47  19  62   50  44  43  16   63  89  71  31  29   8\n",
       " 11   6  57   50   42  29  23  51   76  32  44  55   78  78  46  28  31  33\n",
       " 11  10  48   72   48  21  21  57   86  34  24  27   43  68  68  47  17  10\n",
       " 22  10  22   64   59  18  22  34   70  49  61  50   71  62  44  18  37  17\n",
       "  5   4  57  103   81  27  13  51   83  48  30  58   39  74  33  46  60   4\n",
       "  4  14  32   86   50  53  18  43   82  51  21  67   63  96  26  50  29   4\n",
       "  4  28  42   65   75  57  14  43   64  37  23  47   60  56  34  40  27   6\n",
       "  4  14  34   69   26  39  21  38   76  45  35  54   66  92  59  52  30  16\n",
       "  4  13  77   75   67  22  17  70   38  68  28  37   73  53  63  41  22   6\n",
       "  5  12  36   74  105  54  21  49   97  49  23  47   82  46  64  29  22  19\n",
       "  9  11  52   37   79  81  24  92   76  66  68  49   32  54  50  70  57   6"
      ]
     },
     "execution_count": 72,
     "metadata": {},
     "output_type": "execute_result"
    }
   ],
   "source": [
    "D[:,1:4:72]"
   ]
  },
  {
   "cell_type": "code",
   "execution_count": 73,
   "id": "applicable-sudan",
   "metadata": {},
   "outputs": [
    {
     "data": {
      "text/plain": [
       "35×72 Array{Any,2}:\n",
       "  4   4   4   4  29  29  29  29  72  …  51  27  27  27  27   4   4   4   4\n",
       "  7   7   7   7  21  21  21  21  50     37  26  26  26  26  19  19  19  19\n",
       " 24  24  24  24   4   4   4   4  35     53  26  26  26  26  13  13  13  13\n",
       " 12  12  12  12  19  19  19  19  38     40  39  39  39  39  13  13  13  13\n",
       " 11  11  11  11   6   6   6   6  46     40  44  44  44  44  23  23  23  23\n",
       "  8   8   8   8  15  15  15  15  54  …  40  11  11  11  11   6   6   6   6\n",
       "  7   7   7   7  14  14  14  14  33     35  29  29  29  29  18  18  18  18\n",
       " 11  11  11  11   9   9   9   9  64     47  20  20  20  20  16  16  16  16\n",
       "  4   4   4   4  11  11  11  11  51     80  41  41  41  41  23  23  23  23\n",
       "  4   4   4   4  14  14  14  14  49     63  40  40  40  40  12  12  12  12\n",
       "  4   4   4   4   4   4   4   4  44  …  46  41  41  41  41  12  12  12  12\n",
       " 17  17  17  17  11  11  11  11  39     39  37  37  37  37  14  14  14  14\n",
       "  4   4   4   4   4   4   4   4  52     53  32  32  32  32   8   8   8   8\n",
       "  ⋮                   ⋮              ⋱           ⋮                   ⋮  \n",
       "  4   4   4   4  10  10  10  10  45     69  36  36  36  36   7   7   7   7\n",
       "  4   4   4   4   8   8   8   8  78     31  29  29  29  29   8   8   8   8\n",
       " 11  11  11  11   6   6   6   6  57  …  28  31  31  31  31  33  33  33  33\n",
       " 11  11  11  11  10  10  10  10  48     47  17  17  17  17  10  10  10  10\n",
       " 22  22  22  22  10  10  10  10  22     18  37  37  37  37  17  17  17  17\n",
       "  5   5   5   5   4   4   4   4  57     46  60  60  60  60   4   4   4   4\n",
       "  4   4   4   4  14  14  14  14  32     50  29  29  29  29   4   4   4   4\n",
       "  4   4   4   4  28  28  28  28  42  …  40  27  27  27  27   6   6   6   6\n",
       "  4   4   4   4  14  14  14  14  34     52  30  30  30  30  16  16  16  16\n",
       "  4   4   4   4  13  13  13  13  77     41  22  22  22  22   6   6   6   6\n",
       "  5   5   5   5  12  12  12  12  36     29  22  22  22  22  19  19  19  19\n",
       "  9   9   9   9  11  11  11  11  52     70  57  57  57  57   6   6   6   6"
      ]
     },
     "execution_count": 73,
     "metadata": {},
     "output_type": "execute_result"
    }
   ],
   "source": []
  },
  {
   "cell_type": "code",
   "execution_count": 144,
   "id": "wireless-gilbert",
   "metadata": {},
   "outputs": [
    {
     "data": {
      "text/plain": [
       "allocation_1"
      ]
     },
     "execution_count": 144,
     "metadata": {},
     "output_type": "execute_result"
    }
   ],
   "source": [
    "\"Build shelter location model 1\"\n",
    "function allocation_1(D, A, C)\n",
    "    # extract problem dimensions from distance matrix and verify coherence of input data\n",
    "    T,J  = size(A)\n",
    "    M = size(D)[1]\n",
    "    model = Model(Gurobi.Optimizer)\n",
    "    set_optimizer_attribute(model, \"TimeLimit\", 30)\n",
    "    # VARIABLES\n",
    "    # How many of each shift to use\n",
    "    @variable(model, x[1:M,1:J] >=0, Int)\n",
    "    \n",
    "    #Resource allocation constraint\n",
    "    @constraint(model, enough_employees[t=1:T, d=1:M],\n",
    "            sum(A[t, j]*x[d,j]  for j = 1:J) >= D[d, t])\n",
    "    \n",
    "    # OBJECTIVE\n",
    "    @objective(\n",
    "        model, Min, sum(C[j] * x[d, j] for d=1:M, j=1:J)\n",
    "    )\n",
    "    \n",
    "    optimize!(model)\n",
    "    \n",
    "    return model, objective_value(model), x\n",
    "end"
   ]
  },
  {
   "cell_type": "code",
   "execution_count": 146,
   "id": "painted-while",
   "metadata": {},
   "outputs": [
    {
     "name": "stdout",
     "output_type": "stream",
     "text": [
      "Academic license - for non-commercial use only - expires 2021-04-27\n",
      "Gurobi Optimizer version 9.1.1 build v9.1.1rc0 (mac64)\n",
      "Thread count: 6 physical cores, 12 logical processors, using up to 12 threads\n",
      "Optimize a model with 18 rows, 99 columns and 814 nonzeros\n",
      "Model fingerprint: 0x177d10d4\n",
      "Variable types: 0 continuous, 99 integer (0 binary)\n",
      "Coefficient statistics:\n",
      "  Matrix range     [1e+00, 1e+00]\n",
      "  Objective range  [4e+01, 5e+02]\n",
      "  Bounds range     [0e+00, 0e+00]\n",
      "  RHS range        [4e+00, 2e+01]\n",
      "Found heuristic solution: objective 12000.000000\n",
      "Presolve removed 0 rows and 2 columns\n",
      "Presolve time: 0.00s\n",
      "Presolved: 18 rows, 97 columns, 814 nonzeros\n",
      "Variable types: 0 continuous, 97 integer (0 binary)\n",
      "\n",
      "Root relaxation: objective 4.040000e+03, 15 iterations, 0.00 seconds\n",
      "\n",
      "    Nodes    |    Current Node    |     Objective Bounds      |     Work\n",
      " Expl Unexpl |  Obj  Depth IntInf | Incumbent    BestBd   Gap | It/Node Time\n",
      "\n",
      "*    0     0               0    4040.0000000 4040.00000  0.00%     -    0s\n",
      "\n",
      "Explored 0 nodes (15 simplex iterations) in 0.00 seconds\n",
      "Thread count was 12 (of 12 available processors)\n",
      "\n",
      "Solution count 2: 4040 12000 \n",
      "\n",
      "Optimal solution found (tolerance 1.00e-04)\n",
      "Best objective 4.040000000000e+03, best bound 4.040000000000e+03, gap 0.0000%\n",
      "\n",
      "User-callback calls 41, time in user-callback 0.00 sec\n"
     ]
    },
    {
     "data": {
      "text/plain": [
       "99-element Array{Float64,1}:\n",
       " -0.0\n",
       "  3.0\n",
       "  0.0\n",
       " -0.0\n",
       " -0.0\n",
       " -0.0\n",
       " -0.0\n",
       " -0.0\n",
       " -0.0\n",
       " -0.0\n",
       " -0.0\n",
       " -0.0\n",
       " -0.0\n",
       "  ⋮\n",
       " -0.0\n",
       " -0.0\n",
       " -0.0\n",
       " -0.0\n",
       " -0.0\n",
       " -0.0\n",
       " -0.0\n",
       " -0.0\n",
       " -0.0\n",
       " -0.0\n",
       " -0.0\n",
       " -0.0"
      ]
     },
     "execution_count": 146,
     "metadata": {},
     "output_type": "execute_result"
    }
   ],
   "source": [
    "m, o, x = allocation_1(D, A, C)\n",
    "value.(x)"
   ]
  },
  {
   "cell_type": "code",
   "execution_count": 143,
   "id": "liable-recipe",
   "metadata": {},
   "outputs": [
    {
     "data": {
      "text/plain": [
       "99-element Array{VariableRef,1}:\n",
       " x[1]\n",
       " x[2]\n",
       " x[3]\n",
       " x[4]\n",
       " x[5]\n",
       " x[6]\n",
       " x[7]\n",
       " x[8]\n",
       " x[9]\n",
       " x[10]\n",
       " x[11]\n",
       " x[12]\n",
       " x[13]\n",
       " ⋮\n",
       " x[88]\n",
       " x[89]\n",
       " x[90]\n",
       " x[91]\n",
       " x[92]\n",
       " x[93]\n",
       " x[94]\n",
       " x[95]\n",
       " x[96]\n",
       " x[97]\n",
       " x[98]\n",
       " x[99]"
      ]
     },
     "execution_count": 143,
     "metadata": {},
     "output_type": "execute_result"
    }
   ],
   "source": [
    "\"Build shelter location model 1\"\n",
    "function allocation_2(D, A, C)\n",
    "    # extract problem dimensions from distance matrix and verify coherence of input data\n",
    "    T,J  = size(A)\n",
    "    M = size(D)[1]\n",
    "    model = Model(Gurobi.Optimizer)\n",
    "    set_optimizer_attribute(model, \"TimeLimit\", 30)\n",
    "    # VARIABLES\n",
    "    # How many of each shift to use\n",
    "    @variable(model, x[1:M,1:J] >=0, Int)\n",
    "    @variable(model, y[1:M, 1:90, 1:J], Bin)\n",
    "    \n",
    "    #Resource allocation constraint\n",
    "    @constraint(model, enough_employees[t=1:T, d=1:M],\n",
    "            sum(A[t, j]*x[d,j]  for j = 1:J) >= D[d, t])\n",
    "    \n",
    "    @constraint(model, limit_fulltime[d=1:M],\n",
    "            sum(x[d,j]  for j = 16:26) <= 60)\n",
    "    @constraint(model, limit_parttime[d=1:M],\n",
    "            sum(x[d,j]  for j = 1:15) <= 30)\n",
    "    @constraint(model, no_more_two_days[i=1:33, k=1:90],\n",
    "            sum(y[i,k,j]+y[i+1,k,j]+y[i+2,k,j] for j=1:J) <=2)\n",
    "    @constraint(model, meet_shift_employees[d=1:M, j=1:J],\n",
    "            sum(y[d,j]  for j = 1:15) <= 30)\n",
    "    \n",
    "    # OBJECTIVE\n",
    "    @objective(\n",
    "        model, Min, sum(C[j] * x[d, j] for d=1:M, j=1:J)\n",
    "    )\n",
    "    \n",
    "    optimize!(model)\n",
    "    \n",
    "    return model, objective_value(model), x\n",
    "end"
   ]
  }
 ],
 "metadata": {
  "kernelspec": {
   "display_name": "Julia 1.5.3",
   "language": "julia",
   "name": "julia-1.5"
  },
  "language_info": {
   "file_extension": ".jl",
   "mimetype": "application/julia",
   "name": "julia",
   "version": "1.5.3"
  }
 },
 "nbformat": 4,
 "nbformat_minor": 5
}
