{
 "cells": [
  {
   "cell_type": "code",
   "execution_count": 22,
   "id": "twenty-render",
   "metadata": {},
   "outputs": [],
   "source": [
    "using JuMP\n",
    "using Gurobi\n",
    "using DataFrames\n",
    "using CSV\n",
    "using LinearAlgebra\n",
    "using Plots\n",
    "using Statistics"
   ]
  },
  {
   "cell_type": "code",
   "execution_count": 30,
   "id": "extreme-testament",
   "metadata": {},
   "outputs": [],
   "source": [
    "A = zeros(18,15+11+55+18);\n",
    "C = zeros(15+11+55+18)\n",
    "\n",
    "#Shifts of 4h\n",
    "for j=1:15\n",
    "    A[j:j+3,j].+=1\n",
    "    C[j] = 25*4\n",
    "end\n",
    "\n",
    "#Shifts of 8h\n",
    "for j=1:11\n",
    "    A[j:j+7,j+15].+=1\n",
    "    C[j+15] = 20*8\n",
    "end\n",
    "\n",
    "#Shifts of 1h\n",
    "for j=1:18\n",
    "    A[j,j+15+55+11]+=1\n",
    "    C[j+15+55+11] = 40\n",
    "end\n",
    "\n",
    "#Overtime Shifts\n",
    "n = 0\n",
    "for k=9:18\n",
    "    for j=1:(18-k+1)\n",
    "        A[j:j+k-1,j+15+11+n].+=1\n",
    "        if k<11\n",
    "            C[j+15+11+n] = 20*8+30*(k-8)\n",
    "        else\n",
    "            C[j+15+11+n] = 20*8+30*2+35*(k-10)\n",
    "        end\n",
    "    end\n",
    "    n+=(18-k+1)\n",
    "end"
   ]
  },
  {
   "cell_type": "code",
   "execution_count": 31,
   "id": "ready-actor",
   "metadata": {},
   "outputs": [],
   "source": [
    "D1 = convert(Matrix,CSV.File(\"HW2_demand.csv\"; header=true) |> DataFrame!)[:,2:73];\n",
    "D = D1[:,1:4:72]"
   ]
  },
  {
   "cell_type": "code",
   "execution_count": 26,
   "id": "opened-cleanup",
   "metadata": {},
   "outputs": [
    {
     "data": {
      "text/plain": [
       "allocation_1"
      ]
     },
     "execution_count": 26,
     "metadata": {},
     "output_type": "execute_result"
    }
   ],
   "source": [
    "\"Build shift allocation model 1\"\n",
    "function allocation_1(D, A, C)\n",
    "    # extract problem dimensions from distance matrix and verify coherence of input data\n",
    "    T,J  = size(A)\n",
    "    M = size(D)[1]\n",
    "    model = Model(Gurobi.Optimizer)\n",
    "    set_optimizer_attribute(model, \"TimeLimit\", 30)\n",
    "    # VARIABLES\n",
    "    # How many of each shift to use\n",
    "    @variable(model, x[1:M,1:J] >=0, Int)\n",
    "    \n",
    "    #Resource allocation constraint\n",
    "    @constraint(model, enough_employees[t=1:T, d=1:M],\n",
    "            sum(A[t, j]*x[d,j]  for j = 1:J) >= D[d, t])\n",
    "    \n",
    "    # OBJECTIVE\n",
    "    @objective(\n",
    "        model, Min, sum(C[j] * x[d, j] for d=1:M, j=1:J)\n",
    "    )\n",
    "    \n",
    "    optimize!(model)\n",
    "    \n",
    "    return model, objective_value(model), x\n",
    "end"
   ]
  },
  {
   "cell_type": "code",
   "execution_count": 27,
   "id": "impaired-carbon",
   "metadata": {},
   "outputs": [
    {
     "name": "stdout",
     "output_type": "stream",
     "text": [
      "Academic license - for non-commercial use only - expires 2021-04-27\n",
      "Gurobi Optimizer version 9.1.1 build v9.1.1rc0 (mac64)\n",
      "Thread count: 6 physical cores, 12 logical processors, using up to 12 threads\n",
      "Optimize a model with 630 rows, 3465 columns and 28910 nonzeros\n",
      "Model fingerprint: 0xe14d5bff\n",
      "Variable types: 0 continuous, 3465 integer (0 binary)\n",
      "Coefficient statistics:\n",
      "  Matrix range     [1e+00, 1e+00]\n",
      "  Objective range  [4e+01, 5e+02]\n",
      "  Bounds range     [0e+00, 0e+00]\n",
      "  RHS range        [4e+00, 1e+02]\n",
      "Found heuristic solution: objective 1102160.0000\n",
      "Presolve removed 612 rows and 3366 columns\n",
      "Presolve time: 0.06s\n",
      "Presolved: 18 rows, 99 columns, 826 nonzeros\n",
      "Found heuristic solution: objective 691310.00000\n",
      "Variable types: 0 continuous, 99 integer (0 binary)\n",
      "\n",
      "Root relaxation: objective 6.764300e+05, 21 iterations, 0.00 seconds\n",
      "\n",
      "    Nodes    |    Current Node    |     Objective Bounds      |     Work\n",
      " Expl Unexpl |  Obj  Depth IntInf | Incumbent    BestBd   Gap | It/Node Time\n",
      "\n",
      "*    0     0               0    676430.00000 676430.000  0.00%     -    0s\n",
      "\n",
      "Explored 0 nodes (21 simplex iterations) in 0.07 seconds\n",
      "Thread count was 12 (of 12 available processors)\n",
      "\n",
      "Solution count 3: 676430 691310 1.10216e+06 \n",
      "\n",
      "Optimal solution found (tolerance 1.00e-04)\n",
      "Best objective 6.764300000000e+05, best bound 6.764300000000e+05, gap 0.0000%\n",
      "\n",
      "User-callback calls 51, time in user-callback 0.00 sec\n",
      "Objective value: 676430.0"
     ]
    }
   ],
   "source": [
    "m1, o1, x1 = allocation_1(D, A, C)\n",
    "X1 = value.(x1)\n",
    "print(\"Objective value: \", o1)"
   ]
  },
  {
   "cell_type": "code",
   "execution_count": 28,
   "id": "scheduled-institute",
   "metadata": {},
   "outputs": [
    {
     "data": {
      "text/plain": [
       "allocation_2"
      ]
     },
     "execution_count": 28,
     "metadata": {},
     "output_type": "execute_result"
    }
   ],
   "source": [
    "\"Build shelter location model 1\"\n",
    "function allocation_2(D, A, C)\n",
    "    # extract problem dimensions from distance matrix and verify coherence of input data\n",
    "    T,J  = size(A)\n",
    "    M = size(D)[1]\n",
    "    model = Model(Gurobi.Optimizer)\n",
    "    set_optimizer_attribute(model, \"TimeLimit\", 300)\n",
    "    # VARIABLES\n",
    "    # How many of each shift to use\n",
    "    @variable(model, x[1:M,1:J] >=0, Int)\n",
    "    # Match employees with shifts\n",
    "    @variable(model, y[1:M, 1:90, 1:81], Bin)\n",
    "    \n",
    "    #Resource allocation constraint\n",
    "    @constraint(model, enough_shifts[t=1:T, d=1:M],\n",
    "            sum(A[t, j]*x[d,j]  for j = 1:J) >= D[d, t])\n",
    "    \n",
    "    #No more than max employees available\n",
    "    @constraint(model, limit_fulltime[d=1:M],\n",
    "            sum(x[d,j]  for j = 16:81) <= 60)\n",
    "    @constraint(model, limit_parttime[d=1:M],\n",
    "            sum(x[d,j]  for j = 1:15) <= 30)\n",
    "    \n",
    "    #Don't work more than 2 days in a row\n",
    "    @constraint(model, no_more_two_days[d=1:33, k=1:90],\n",
    "            sum(y[d,k,j]+y[d+1,k,j]+y[d+2,k,j] for j=1:81) <=2)\n",
    "    \n",
    "    @constraint(model, no_more_one_shift_per_day[d=1:M, k=1:90],\n",
    "            sum(y[d,k,j] for j=1:81) <=1)\n",
    "    \n",
    "    @constraint(model, no_mixing_full_with_part[d=1:M, k=1:60],\n",
    "            sum(y[d,k,j] for j=1:15) == 0)\n",
    "    \n",
    "    @constraint(model, no_mixing_part_with_full[d=1:M, k=61:90],\n",
    "            sum(y[d,k,j] for j=16:81) == 0)\n",
    "    \n",
    "    @constraint(model, meet_shift_employees[d=1:M, j=1:81],\n",
    "            sum(y[d,k,j]  for k = 1:90) == x[d,j])\n",
    "    \n",
    "    # OBJECTIVE\n",
    "    @objective(\n",
    "        model, Min, sum(C[j] * x[d, j] for d=1:M, j=1:J)\n",
    "    )\n",
    "    \n",
    "    optimize!(model)\n",
    "    \n",
    "    return model, objective_value(model), x, y\n",
    "end"
   ]
  },
  {
   "cell_type": "code",
   "execution_count": 29,
   "id": "african-pastor",
   "metadata": {},
   "outputs": [
    {
     "name": "stdout",
     "output_type": "stream",
     "text": [
      "Academic license - for non-commercial use only - expires 2021-04-27\n",
      "Gurobi Optimizer version 9.1.1 build v9.1.1rc0 (mac64)\n",
      "Thread count: 6 physical cores, 12 logical processors, using up to 12 threads\n",
      "Optimize a model with 12805 rows, 258615 columns and 1367390 nonzeros\n",
      "Model fingerprint: 0xb26f8256\n",
      "Variable types: 0 continuous, 258615 integer (255150 binary)\n",
      "Coefficient statistics:\n",
      "  Matrix range     [1e+00, 1e+00]\n",
      "  Objective range  [4e+01, 5e+02]\n",
      "  Bounds range     [0e+00, 0e+00]\n",
      "  RHS range        [1e+00, 1e+02]\n",
      "Found heuristic solution: objective 1102160.0000\n",
      "Presolve removed 3150 rows and 100800 columns\n",
      "Presolve time: 1.02s\n",
      "Presolved: 9655 rows, 157815 columns, 779870 nonzeros\n",
      "Variable types: 0 continuous, 157815 integer (154350 binary)\n",
      "\n",
      "Root simplex log...\n",
      "\n",
      "Iteration    Objective       Primal Inf.    Dual Inf.      Time\n",
      "   24811    7.3621500e+05   5.724048e+04   0.000000e+00      5s\n",
      "   36065    7.5712250e+05   1.876656e+05   0.000000e+00     10s\n",
      "   43505    7.7430000e+05   9.895155e+04   0.000000e+00     15s\n",
      "   52467    7.8489083e+05   1.070428e+05   0.000000e+00     20s\n",
      "   60688    7.9383250e+05   1.515192e+04   0.000000e+00     25s\n",
      "   67840    7.9858500e+05   7.634539e+04   0.000000e+00     30s\n",
      "   73222    7.9991000e+05   1.010846e+04   0.000000e+00     35s\n",
      "   78582    8.0093000e+05   2.757537e+04   0.000000e+00     40s\n",
      "   81940    8.0111500e+05   1.252853e+03   0.000000e+00     45s\n",
      "   84143    8.0115500e+05   0.000000e+00   0.000000e+00     50s\n",
      "\n",
      "Root relaxation: objective 8.011550e+05, 84143 iterations, 48.57 seconds\n",
      "Total elapsed time = 51.65s\n",
      "\n",
      "    Nodes    |    Current Node    |     Objective Bounds      |     Work\n",
      " Expl Unexpl |  Obj  Depth IntInf | Incumbent    BestBd   Gap | It/Node Time\n",
      "\n",
      "*    0     0               0    801155.00000 801155.000  0.00%     -   53s\n",
      "\n",
      "Explored 0 nodes (101610 simplex iterations) in 53.89 seconds\n",
      "Thread count was 12 (of 12 available processors)\n",
      "\n",
      "Solution count 2: 801155 1.10216e+06 \n",
      "\n",
      "Optimal solution found (tolerance 1.00e-04)\n",
      "Best objective 8.011550000000e+05, best bound 8.011550000000e+05, gap 0.0000%\n",
      "\n",
      "User-callback calls 1300, time in user-callback 0.00 sec\n",
      "Objective value: 801155.0"
     ]
    },
    {
     "data": {
      "text/plain": [
       "35×99 Array{Float64,2}:\n",
       "  0.0  13.0  10.0  0.0  0.0   0.0  0.0  …   0.0  42.0   1.0  17.0  -0.0  -0.0\n",
       "  0.0   0.0  16.0  0.0  0.0   0.0  0.0      5.0  38.0  -0.0  -0.0  -0.0  -0.0\n",
       "  0.0   0.0   0.0  0.0  0.0   0.0  0.0      4.0  33.0  28.0  13.0  -0.0  -0.0\n",
       " -0.0   6.0   8.0  0.0  0.0   0.0  0.0     10.0  15.0  30.0  -0.0   3.0  -0.0\n",
       "  0.0   0.0  13.0  0.0  0.0   0.0  0.0      3.0   5.0  -0.0  -0.0   7.0  -0.0\n",
       " -0.0   0.0   7.0  0.0  0.0   0.0  0.0  …  14.0  22.0  -0.0   4.0  -0.0  -0.0\n",
       "  0.0   7.0   0.0  0.0  0.0   0.0  0.0     -0.0  40.0  14.0  -0.0  -0.0  -0.0\n",
       "  0.0   0.0  13.0  0.0  0.0  -0.0  0.0      0.0  14.0  -0.0  19.0  -0.0  -0.0\n",
       "  0.0  -0.0   4.0  0.0  0.0   0.0  0.0     31.0  24.0  27.0  40.0   5.0  -0.0\n",
       "  0.0   2.0   0.0  0.0  0.0   0.0  0.0     32.0  45.0  -0.0  19.0  18.0  -0.0\n",
       "  0.0   0.0  10.0  0.0  0.0   0.0  0.0  …  10.0  39.0   6.0   0.0  -0.0  -0.0\n",
       "  0.0   0.0   0.0  0.0  0.0   0.0  0.0     18.0  21.0  31.0   2.0   0.0  -0.0\n",
       "  0.0   0.0  11.0  0.0  0.0   0.0  0.0     13.0  22.0  -0.0  16.0   0.0  -0.0\n",
       "  ⋮                           ⋮         ⋱               ⋮                \n",
       "  0.0   0.0   0.0  0.0  0.0   2.0  1.0     76.0  10.0  15.0  29.0   3.0  -0.0\n",
       "  0.0   0.0  13.0  0.0  0.0   0.0  0.0     39.0  58.0  40.0  -0.0  -0.0  -0.0\n",
       "  0.0   0.0   6.0  0.0  0.0   0.0  0.0  …  23.0  23.0  -0.0  -0.0   3.0   5.0\n",
       "  0.0   0.0   0.0  0.0  0.0   0.0  0.0      4.0  29.0  29.0  11.0  -0.0  -0.0\n",
       "  3.0   4.0  -0.0  0.0  0.0   0.0  0.0     21.0  12.0   1.0  -0.0  19.0  -0.0\n",
       "  1.0   3.0  15.0  0.0  0.0   0.0  1.0      6.0  41.0  -0.0  13.0  28.0  -0.0\n",
       "  0.0   0.0  14.0  0.0  0.0   0.0  0.0     38.0  71.0   1.0  25.0   4.0  -0.0\n",
       "  0.0   3.0  10.0  0.0  0.0   0.0  0.0  …  26.0  22.0   0.0   7.0  -0.0  -0.0\n",
       "  0.0   0.0   5.0  0.0  0.0   0.0  0.0     10.0  36.0   3.0  10.0  -0.0  -0.0\n",
       "  0.0   0.0   0.0  0.0  0.0   0.0  0.0     37.0  17.0  27.0   5.0  -0.0  -0.0\n",
       "  0.0   0.0   8.0  0.0  0.0   0.0  0.0     43.0   7.0  25.0   3.0  -0.0  -0.0\n",
       "  0.0   0.0   6.0  0.0  0.0   0.0  0.0     -0.0   8.0   4.0  24.0  11.0  -0.0"
      ]
     },
     "execution_count": 29,
     "metadata": {},
     "output_type": "execute_result"
    }
   ],
   "source": [
    "m2, o2, x2, y2 = allocation_2(D, A, C)\n",
    "print(\"Objective value: \", o2)\n",
    "X2 = value.(x2)"
   ]
  }
 ],
 "metadata": {
  "kernelspec": {
   "display_name": "Julia 1.5.3",
   "language": "julia",
   "name": "julia-1.5"
  },
  "language_info": {
   "file_extension": ".jl",
   "mimetype": "application/julia",
   "name": "julia",
   "version": "1.5.3"
  }
 },
 "nbformat": 4,
 "nbformat_minor": 5
}
