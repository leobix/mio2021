{
 "cells": [
  {
   "cell_type": "code",
   "execution_count": 47,
   "id": "twenty-render",
   "metadata": {},
   "outputs": [],
   "source": [
    "using JuMP\n",
    "using Gurobi\n",
    "using DataFrames\n",
    "using CSV\n",
    "using LinearAlgebra\n",
    "using Plots\n",
    "using Statistics"
   ]
  },
  {
   "cell_type": "code",
   "execution_count": 48,
   "id": "acceptable-retention",
   "metadata": {},
   "outputs": [
    {
     "data": {
      "text/plain": [
       "99-element Array{Float64,1}:\n",
       " 0.0\n",
       " 0.0\n",
       " 0.0\n",
       " 0.0\n",
       " 0.0\n",
       " 0.0\n",
       " 0.0\n",
       " 0.0\n",
       " 0.0\n",
       " 0.0\n",
       " 0.0\n",
       " 0.0\n",
       " 0.0\n",
       " ⋮\n",
       " 0.0\n",
       " 0.0\n",
       " 0.0\n",
       " 0.0\n",
       " 0.0\n",
       " 0.0\n",
       " 0.0\n",
       " 0.0\n",
       " 0.0\n",
       " 0.0\n",
       " 0.0\n",
       " 0.0"
      ]
     },
     "execution_count": 48,
     "metadata": {},
     "output_type": "execute_result"
    }
   ],
   "source": [
    "A = zeros(18,15+11+55+18);\n",
    "C = zeros(15+11+55+18)"
   ]
  },
  {
   "cell_type": "code",
   "execution_count": 49,
   "id": "extreme-testament",
   "metadata": {},
   "outputs": [],
   "source": [
    "#Shifts of 4h\n",
    "for j=1:15\n",
    "    A[j:j+3,j].+=1\n",
    "    C[j] = 25*4\n",
    "end\n",
    "\n",
    "#Shifts of 8h\n",
    "for j=1:11\n",
    "    A[j:j+7,j+15].+=1\n",
    "    C[j+15] = 20*8\n",
    "end\n",
    "\n",
    "#Shifts of 1h\n",
    "for j=1:18\n",
    "    A[j,j+15+55+11]+=1\n",
    "    C[j+15+55+11] = 40\n",
    "end\n",
    "\n",
    "#Overtime Shifts\n",
    "n = 0\n",
    "for k=9:18\n",
    "    for j=1:(18-k+1)\n",
    "        A[j:j+k-1,j+15+11+n].+=1\n",
    "        if k<11\n",
    "            C[j+15+11+n] = 20*8+30*(k-8)\n",
    "        else\n",
    "            C[j+15+11+n] = 20*8+30*2+35*(k-10)\n",
    "        end\n",
    "    end\n",
    "    n+=(18-k+1)\n",
    "end"
   ]
  },
  {
   "cell_type": "code",
   "execution_count": 50,
   "id": "ready-actor",
   "metadata": {},
   "outputs": [
    {
     "data": {
      "text/plain": [
       "35×18 Array{Any,2}:\n",
       "  4  29  72   54   80  26  15  40   87  47  31  34   35  77  36  51  27   4\n",
       "  7  21  50  118   62  54  27  77   45  42  46  73   53  86  45  37  26  19\n",
       " 24   4  35   51   93  36  15  67   84  37  45  54   51  78  71  53  26  13\n",
       " 12  19  38   76   47  21   6  62   48  44  38  19   43  55  70  40  39  13\n",
       " 11   6  46   70  109  34  20  51   62  59  15  46   49  51  46  40  44  23\n",
       "  8  15  54  109   53  35  28  51   69  66  32  48   52  60  38  40  11   6\n",
       "  7  14  33   60   41  23  24  46   68  21  56  53   40  91  63  35  29  18\n",
       " 11   9  64   29   53  44  23  40   52  32  43  64   43  57  28  47  20  16\n",
       "  4  11  51  103   39  30  26  48   86  54  29  59   68  66  69  80  41  23\n",
       "  4  14  49   66   41  29  29  55   43  66  22  48   76  89  44  63  40  12\n",
       "  4   4  44   62   65  34  23  77  125  33  30  46   58  89  56  46  41  12\n",
       " 17  11  39   70   61  36  17  63   97  48  18  55   44  60  70  39  37  14\n",
       "  4   4  52   78   73  24  13  31   76  30  18  75   58  67  45  53  32   8\n",
       "  ⋮                     ⋮                    ⋮                    ⋮      \n",
       "  4  10  45  109   31  40  38  41   77  50  22  69  115  52  57  69  36   7\n",
       "  4   8  78   45   66  47  19  62   50  44  43  16   63  89  71  31  29   8\n",
       " 11   6  57   50   42  29  23  51   76  32  44  55   78  78  46  28  31  33\n",
       " 11  10  48   72   48  21  21  57   86  34  24  27   43  68  68  47  17  10\n",
       " 22  10  22   64   59  18  22  34   70  49  61  50   71  62  44  18  37  17\n",
       "  5   4  57  103   81  27  13  51   83  48  30  58   39  74  33  46  60   4\n",
       "  4  14  32   86   50  53  18  43   82  51  21  67   63  96  26  50  29   4\n",
       "  4  28  42   65   75  57  14  43   64  37  23  47   60  56  34  40  27   6\n",
       "  4  14  34   69   26  39  21  38   76  45  35  54   66  92  59  52  30  16\n",
       "  4  13  77   75   67  22  17  70   38  68  28  37   73  53  63  41  22   6\n",
       "  5  12  36   74  105  54  21  49   97  49  23  47   82  46  64  29  22  19\n",
       "  9  11  52   37   79  81  24  92   76  66  68  49   32  54  50  70  57   6"
      ]
     },
     "execution_count": 50,
     "metadata": {},
     "output_type": "execute_result"
    }
   ],
   "source": [
    "D1 = convert(Matrix,CSV.File(\"HW2_demand.csv\"; header=true) |> DataFrame!)[:,2:73];\n",
    "D = D1[:,1:4:72]"
   ]
  },
  {
   "cell_type": "code",
   "execution_count": 51,
   "id": "circular-morris",
   "metadata": {},
   "outputs": [
    {
     "data": {
      "text/plain": [
       "18×99 Array{Float64,2}:\n",
       " 1.0  0.0  0.0  0.0  0.0  0.0  0.0  0.0  …  0.0  0.0  0.0  0.0  0.0  0.0  0.0\n",
       " 1.0  1.0  0.0  0.0  0.0  0.0  0.0  0.0     0.0  0.0  0.0  0.0  0.0  0.0  0.0\n",
       " 1.0  1.0  1.0  0.0  0.0  0.0  0.0  0.0     0.0  0.0  0.0  0.0  0.0  0.0  0.0\n",
       " 1.0  1.0  1.0  1.0  0.0  0.0  0.0  0.0     0.0  0.0  0.0  0.0  0.0  0.0  0.0\n",
       " 0.0  1.0  1.0  1.0  1.0  0.0  0.0  0.0     0.0  0.0  0.0  0.0  0.0  0.0  0.0\n",
       " 0.0  0.0  1.0  1.0  1.0  1.0  0.0  0.0  …  0.0  0.0  0.0  0.0  0.0  0.0  0.0\n",
       " 0.0  0.0  0.0  1.0  1.0  1.0  1.0  0.0     0.0  0.0  0.0  0.0  0.0  0.0  0.0\n",
       " 0.0  0.0  0.0  0.0  1.0  1.0  1.0  1.0     0.0  0.0  0.0  0.0  0.0  0.0  0.0\n",
       " 0.0  0.0  0.0  0.0  0.0  1.0  1.0  1.0     0.0  0.0  0.0  0.0  0.0  0.0  0.0\n",
       " 0.0  0.0  0.0  0.0  0.0  0.0  1.0  1.0     0.0  0.0  0.0  0.0  0.0  0.0  0.0\n",
       " 0.0  0.0  0.0  0.0  0.0  0.0  0.0  1.0  …  0.0  0.0  0.0  0.0  0.0  0.0  0.0\n",
       " 0.0  0.0  0.0  0.0  0.0  0.0  0.0  0.0     1.0  0.0  0.0  0.0  0.0  0.0  0.0\n",
       " 0.0  0.0  0.0  0.0  0.0  0.0  0.0  0.0     0.0  1.0  0.0  0.0  0.0  0.0  0.0\n",
       " 0.0  0.0  0.0  0.0  0.0  0.0  0.0  0.0     0.0  0.0  1.0  0.0  0.0  0.0  0.0\n",
       " 0.0  0.0  0.0  0.0  0.0  0.0  0.0  0.0     0.0  0.0  0.0  1.0  0.0  0.0  0.0\n",
       " 0.0  0.0  0.0  0.0  0.0  0.0  0.0  0.0  …  0.0  0.0  0.0  0.0  1.0  0.0  0.0\n",
       " 0.0  0.0  0.0  0.0  0.0  0.0  0.0  0.0     0.0  0.0  0.0  0.0  0.0  1.0  0.0\n",
       " 0.0  0.0  0.0  0.0  0.0  0.0  0.0  0.0     0.0  0.0  0.0  0.0  0.0  0.0  1.0"
      ]
     },
     "execution_count": 51,
     "metadata": {},
     "output_type": "execute_result"
    }
   ],
   "source": [
    "A"
   ]
  },
  {
   "cell_type": "code",
   "execution_count": 52,
   "id": "chemical-tourist",
   "metadata": {},
   "outputs": [
    {
     "data": {
      "text/plain": [
       "99-element Array{Float64,1}:\n",
       " 100.0\n",
       " 100.0\n",
       " 100.0\n",
       " 100.0\n",
       " 100.0\n",
       " 100.0\n",
       " 100.0\n",
       " 100.0\n",
       " 100.0\n",
       " 100.0\n",
       " 100.0\n",
       " 100.0\n",
       " 100.0\n",
       "   ⋮\n",
       "  40.0\n",
       "  40.0\n",
       "  40.0\n",
       "  40.0\n",
       "  40.0\n",
       "  40.0\n",
       "  40.0\n",
       "  40.0\n",
       "  40.0\n",
       "  40.0\n",
       "  40.0\n",
       "  40.0"
      ]
     },
     "execution_count": 52,
     "metadata": {},
     "output_type": "execute_result"
    }
   ],
   "source": [
    "C"
   ]
  },
  {
   "cell_type": "code",
   "execution_count": 53,
   "id": "opened-cleanup",
   "metadata": {},
   "outputs": [
    {
     "data": {
      "text/plain": [
       "allocation_1"
      ]
     },
     "execution_count": 53,
     "metadata": {},
     "output_type": "execute_result"
    }
   ],
   "source": [
    "\"Build shift allocation model 1\"\n",
    "function allocation_1(D, A, C)\n",
    "    # extract problem dimensions from distance matrix and verify coherence of input data\n",
    "    T,J  = size(A)\n",
    "    M = size(D)[1]\n",
    "    model = Model(Gurobi.Optimizer)\n",
    "    set_optimizer_attribute(model, \"TimeLimit\", 30)\n",
    "    # VARIABLES\n",
    "    # How many of each shift to use\n",
    "    @variable(model, x[1:M,1:J] >=0, Int)\n",
    "    \n",
    "    #Resource allocation constraint\n",
    "    @constraint(model, enough_employees[t=1:T, d=1:M],\n",
    "            sum(A[t, j]*x[d,j]  for j = 1:J) >= D[d, t])\n",
    "    \n",
    "    # OBJECTIVE\n",
    "    @objective(\n",
    "        model, Min, sum(C[j] * x[d, j] for d=1:M, j=1:J)\n",
    "    )\n",
    "    \n",
    "    optimize!(model)\n",
    "    \n",
    "    return model, objective_value(model), x\n",
    "end"
   ]
  },
  {
   "cell_type": "code",
   "execution_count": 54,
   "id": "impaired-carbon",
   "metadata": {},
   "outputs": [
    {
     "name": "stdout",
     "output_type": "stream",
     "text": [
      "Academic license - for non-commercial use only - expires 2021-04-27\n",
      "Gurobi Optimizer version 9.1.1 build v9.1.1rc0 (mac64)\n",
      "Thread count: 6 physical cores, 12 logical processors, using up to 12 threads\n",
      "Optimize a model with 630 rows, 3465 columns and 28910 nonzeros\n",
      "Model fingerprint: 0xe14d5bff\n",
      "Variable types: 0 continuous, 3465 integer (0 binary)\n",
      "Coefficient statistics:\n",
      "  Matrix range     [1e+00, 1e+00]\n",
      "  Objective range  [4e+01, 5e+02]\n",
      "  Bounds range     [0e+00, 0e+00]\n",
      "  RHS range        [4e+00, 1e+02]\n",
      "Found heuristic solution: objective 1102160.0000\n",
      "Presolve removed 612 rows and 3366 columns\n",
      "Presolve time: 0.06s\n",
      "Presolved: 18 rows, 99 columns, 826 nonzeros\n",
      "Found heuristic solution: objective 691310.00000\n",
      "Variable types: 0 continuous, 99 integer (0 binary)\n",
      "\n",
      "Root relaxation: objective 6.764300e+05, 21 iterations, 0.00 seconds\n",
      "\n",
      "    Nodes    |    Current Node    |     Objective Bounds      |     Work\n",
      " Expl Unexpl |  Obj  Depth IntInf | Incumbent    BestBd   Gap | It/Node Time\n",
      "\n",
      "*    0     0               0    676430.00000 676430.000  0.00%     -    0s\n",
      "\n",
      "Explored 0 nodes (21 simplex iterations) in 0.07 seconds\n",
      "Thread count was 12 (of 12 available processors)\n",
      "\n",
      "Solution count 3: 676430 691310 1.10216e+06 \n",
      "\n",
      "Optimal solution found (tolerance 1.00e-04)\n",
      "Best objective 6.764300000000e+05, best bound 6.764300000000e+05, gap 0.0000%\n",
      "\n",
      "User-callback calls 50, time in user-callback 0.00 sec\n",
      "Objective value: 676430.0"
     ]
    }
   ],
   "source": [
    "m1, o1, x1 = allocation_1(D, A, C)\n",
    "X1 = value.(x1)\n",
    "print(\"Objective value: \", o1)"
   ]
  },
  {
   "cell_type": "code",
   "execution_count": 24,
   "id": "pursuant-visiting",
   "metadata": {},
   "outputs": [
    {
     "data": {
      "text/plain": [
       "35×99 Array{Float64,2}:\n",
       " -0.0  14.0  -0.0  -0.0  -0.0  -0.0  …  -0.0  26.0  -0.0  -0.0  -0.0  -0.0\n",
       " -0.0  -0.0  13.0  -0.0  -0.0  -0.0     -0.0  26.0  -0.0  -0.0  -0.0  -0.0\n",
       " -0.0  -0.0   3.0  -0.0  -0.0  -0.0     -0.0   7.0  -0.0  -0.0  -0.0   7.0\n",
       " -0.0   3.0  -0.0  -0.0  -0.0  -0.0      4.0  -0.0   5.0  -0.0  -0.0  -0.0\n",
       " -0.0   6.0  -0.0  -0.0  -0.0  -0.0     -0.0  -0.0  -0.0  -0.0   7.0  -0.0\n",
       "  1.0  18.0   1.0  -0.0  -0.0  -0.0  …  -0.0   3.0  -0.0  -0.0  -0.0  -0.0\n",
       "  1.0  17.0  -0.0   6.0  -0.0  -0.0     -0.0  27.0  -0.0  -0.0  -0.0  -0.0\n",
       " -0.0  -0.0   8.0  -0.0  -0.0  -0.0     -0.0  10.0  -0.0  -0.0  -0.0   0.0\n",
       "  4.0   9.0   1.0  -0.0  -0.0  -0.0     -0.0  -0.0  -0.0  11.0  -0.0  -0.0\n",
       "  4.0  10.0  -0.0  -0.0  -0.0  -0.0      1.0  14.0  -0.0  -0.0   4.0  -0.0\n",
       " -0.0  -0.0  -0.0  -0.0  -0.0  -0.0  …  -0.0  10.0  -0.0  -0.0   7.0  -0.0\n",
       " -0.0  -0.0  -0.0  -0.0  -0.0  -0.0     -0.0  -0.0   7.0  -0.0  -0.0  -0.0\n",
       " -0.0  21.0  -0.0  -0.0  -0.0  -0.0     -0.0   5.0  -0.0  -0.0  -0.0  -0.0\n",
       "  ⋮                             ⋮    ⋱               ⋮                \n",
       "  4.0  -0.0   2.0  -0.0  -0.0  -0.0     58.0  -0.0  -0.0  12.0  -0.0  -0.0\n",
       " -0.0  -0.0  28.0  -0.0   2.0  -0.0     15.0  18.0  -0.0  -0.0  -0.0   2.0\n",
       "  8.0   7.0  -0.0  -0.0  -0.0  -0.0  …  23.0  23.0  -0.0  -0.0   3.0   5.0\n",
       "  0.0  12.0  -0.0  -0.0  -0.0  -0.0     -0.0  -0.0   0.0  -0.0  -0.0  10.0\n",
       "  5.0  -0.0  -0.0  -0.0  -0.0  -0.0     15.0   6.0  -0.0  -0.0   5.0  -0.0\n",
       " -0.0   6.0  -0.0  -0.0  -0.0  -0.0     -0.0  25.0  -0.0  -0.0  14.0  -0.0\n",
       " -0.0  -0.0  10.0  -0.0  -0.0  -0.0     -0.0  22.0  -0.0  -0.0  -0.0  -0.0\n",
       " -0.0  -0.0  14.0  -0.0  -0.0  -0.0  …   0.0  -0.0  -0.0  -0.0  -0.0  -0.0\n",
       " -0.0  -0.0   3.0  -0.0  -0.0  -0.0     -0.0  24.0  -0.0  -0.0  -0.0  -0.0\n",
       "  4.0  36.0  -0.0  -0.0  -0.0  -0.0     17.0  -0.0   7.0  -0.0  -0.0  -0.0\n",
       " -0.0  -0.0   5.0  -0.0  -0.0  -0.0     35.0  -0.0  17.0  -0.0  -0.0  -0.0\n",
       " -0.0  -0.0  -0.0  -0.0   7.0  -0.0     -0.0  -0.0  -0.0  16.0   3.0  -0.0"
      ]
     },
     "execution_count": 24,
     "metadata": {},
     "output_type": "execute_result"
    }
   ],
   "source": [
    "X1"
   ]
  },
  {
   "cell_type": "code",
   "execution_count": 58,
   "id": "scheduled-institute",
   "metadata": {},
   "outputs": [
    {
     "data": {
      "text/plain": [
       "allocation_2"
      ]
     },
     "execution_count": 58,
     "metadata": {},
     "output_type": "execute_result"
    }
   ],
   "source": [
    "\"Build shelter location model 1\"\n",
    "function allocation_2(D, A, C)\n",
    "    # extract problem dimensions from distance matrix and verify coherence of input data\n",
    "    T,J  = size(A)\n",
    "    M = size(D)[1]\n",
    "    model = Model(Gurobi.Optimizer)\n",
    "    set_optimizer_attribute(model, \"TimeLimit\", 300)\n",
    "    # VARIABLES\n",
    "    # How many of each shift to use\n",
    "    @variable(model, x[1:M,1:J] >=0, Int)\n",
    "    # Match employees with shifts\n",
    "    @variable(model, y[1:M, 1:90, 1:81], Bin)\n",
    "    \n",
    "    #Resource allocation constraint\n",
    "    @constraint(model, enough_shifts[t=1:T, d=1:M],\n",
    "            sum(A[t, j]*x[d,j]  for j = 1:J) >= D[d, t])\n",
    "    \n",
    "    #No more than max employees available\n",
    "    @constraint(model, limit_fulltime[d=1:M],\n",
    "            sum(x[d,j]  for j = 16:81) <= 60)\n",
    "    @constraint(model, limit_parttime[d=1:M],\n",
    "            sum(x[d,j]  for j = 1:15) <= 30)\n",
    "    \n",
    "    #Don't work more than 2 days in a row\n",
    "    @constraint(model, no_more_two_days[d=1:33, k=1:90],\n",
    "            sum(y[d,k,j]+y[d+1,k,j]+y[d+2,k,j] for j=1:81) <=2)\n",
    "    \n",
    "    @constraint(model, no_more_one_shift_per_day[d=1:M, k=1:90],\n",
    "            sum(y[d,k,j] for j=1:81) <=1)\n",
    "    \n",
    "    @constraint(model, no_mixing_full_with_part[d=1:M, k=1:60],\n",
    "            sum(y[d,k,j] for j=1:15) == 0)\n",
    "    \n",
    "    @constraint(model, no_mixing_part_with_full[d=1:M, k=61:90],\n",
    "            sum(y[d,k,j] for j=16:81) == 0)\n",
    "    \n",
    "    @constraint(model, meet_shift_employees[d=1:M, j=1:81],\n",
    "            sum(y[d,k,j]  for k = 1:90) == x[d,j])\n",
    "    \n",
    "    # OBJECTIVE\n",
    "    @objective(\n",
    "        model, Min, sum(C[j] * x[d, j] for d=1:M, j=1:J)\n",
    "    )\n",
    "    \n",
    "    optimize!(model)\n",
    "    \n",
    "    return model, objective_value(model), x, y\n",
    "end"
   ]
  },
  {
   "cell_type": "code",
   "execution_count": 59,
   "id": "martial-elimination",
   "metadata": {},
   "outputs": [
    {
     "name": "stdout",
     "output_type": "stream",
     "text": [
      "Academic license - for non-commercial use only - expires 2021-04-27\n",
      "Gurobi Optimizer version 9.1.1 build v9.1.1rc0 (mac64)\n",
      "Thread count: 6 physical cores, 12 logical processors, using up to 12 threads\n",
      "Optimize a model with 12805 rows, 258615 columns and 1367390 nonzeros\n",
      "Model fingerprint: 0xb26f8256\n",
      "Variable types: 0 continuous, 258615 integer (255150 binary)\n",
      "Coefficient statistics:\n",
      "  Matrix range     [1e+00, 1e+00]\n",
      "  Objective range  [4e+01, 5e+02]\n",
      "  Bounds range     [0e+00, 0e+00]\n",
      "  RHS range        [1e+00, 1e+02]\n",
      "Found heuristic solution: objective 1102160.0000\n",
      "Presolve removed 3150 rows and 100800 columns\n",
      "Presolve time: 0.91s\n",
      "Presolved: 9655 rows, 157815 columns, 779870 nonzeros\n",
      "Variable types: 0 continuous, 157815 integer (154350 binary)\n",
      "\n",
      "Root simplex log...\n",
      "\n",
      "Iteration    Objective       Primal Inf.    Dual Inf.      Time\n",
      "   26116    7.3847333e+05   1.585996e+05   0.000000e+00      5s\n",
      "   37012    7.5942250e+05   5.125332e+04   0.000000e+00     10s\n",
      "   44576    7.7677250e+05   4.693599e+04   0.000000e+00     15s\n",
      "   53212    7.8666250e+05   5.003032e+04   0.000000e+00     20s\n",
      "   61192    7.9385750e+05   3.016411e+04   0.000000e+00     25s\n",
      "   68353    7.9858500e+05   2.582521e+05   0.000000e+00     30s\n",
      "   73660    7.9991000e+05   6.285223e+03   0.000000e+00     35s\n",
      "   79166    8.0099500e+05   1.033295e+04   0.000000e+00     40s\n",
      "   82060    8.0111500e+05   1.151251e+03   0.000000e+00     45s\n",
      "   84143    8.0115500e+05   0.000000e+00   0.000000e+00     50s\n",
      "\n",
      "Root relaxation: objective 8.011550e+05, 84143 iterations, 48.48 seconds\n",
      "Total elapsed time = 51.41s\n",
      "\n",
      "    Nodes    |    Current Node    |     Objective Bounds      |     Work\n",
      " Expl Unexpl |  Obj  Depth IntInf | Incumbent    BestBd   Gap | It/Node Time\n",
      "\n",
      "*    0     0               0    801155.00000 801155.000  0.00%     -   53s\n",
      "\n",
      "Explored 0 nodes (101610 simplex iterations) in 53.63 seconds\n",
      "Thread count was 12 (of 12 available processors)\n",
      "\n",
      "Solution count 2: 801155 1.10216e+06 \n",
      "\n",
      "Optimal solution found (tolerance 1.00e-04)\n",
      "Best objective 8.011550000000e+05, best bound 8.011550000000e+05, gap 0.0000%\n",
      "\n",
      "User-callback calls 1300, time in user-callback 0.00 sec\n",
      "Objective value: 801155.0"
     ]
    },
    {
     "data": {
      "text/plain": [
       "35×99 Array{Float64,2}:\n",
       "  0.0  13.0  10.0  0.0  0.0   0.0  0.0  …   0.0  42.0   1.0  17.0  -0.0  -0.0\n",
       "  0.0   0.0  16.0  0.0  0.0   0.0  0.0      5.0  38.0  -0.0  -0.0  -0.0  -0.0\n",
       "  0.0   0.0   0.0  0.0  0.0   0.0  0.0      4.0  33.0  28.0  13.0  -0.0  -0.0\n",
       " -0.0   6.0   8.0  0.0  0.0   0.0  0.0     10.0  15.0  30.0  -0.0   3.0  -0.0\n",
       "  0.0   0.0  13.0  0.0  0.0   0.0  0.0      3.0   5.0  -0.0  -0.0   7.0  -0.0\n",
       " -0.0   0.0   7.0  0.0  0.0   0.0  0.0  …  14.0  22.0  -0.0   4.0  -0.0  -0.0\n",
       "  0.0   7.0   0.0  0.0  0.0   0.0  0.0     -0.0  40.0  14.0  -0.0  -0.0  -0.0\n",
       "  0.0   0.0  13.0  0.0  0.0  -0.0  0.0      0.0  14.0  -0.0  19.0  -0.0  -0.0\n",
       "  0.0  -0.0   4.0  0.0  0.0   0.0  0.0     31.0  24.0  27.0  40.0   5.0  -0.0\n",
       "  0.0   2.0   0.0  0.0  0.0   0.0  0.0     32.0  45.0  -0.0  19.0  18.0  -0.0\n",
       "  0.0   0.0  10.0  0.0  0.0   0.0  0.0  …  10.0  39.0   6.0   0.0  -0.0  -0.0\n",
       "  0.0   0.0   0.0  0.0  0.0   0.0  0.0     18.0  21.0  31.0   2.0   0.0  -0.0\n",
       "  0.0   0.0  11.0  0.0  0.0   0.0  0.0     13.0  22.0  -0.0  16.0   0.0  -0.0\n",
       "  ⋮                           ⋮         ⋱               ⋮                \n",
       "  0.0   0.0   0.0  0.0  0.0   2.0  1.0     76.0  10.0  15.0  29.0   3.0  -0.0\n",
       "  0.0   0.0  13.0  0.0  0.0   0.0  0.0     39.0  58.0  40.0  -0.0  -0.0  -0.0\n",
       "  0.0   0.0   6.0  0.0  0.0   0.0  0.0  …  23.0  23.0  -0.0  -0.0   3.0   5.0\n",
       "  0.0   0.0   0.0  0.0  0.0   0.0  0.0      4.0  29.0  29.0  11.0  -0.0  -0.0\n",
       "  3.0   4.0  -0.0  0.0  0.0   0.0  0.0     21.0  12.0   1.0  -0.0  19.0  -0.0\n",
       "  1.0   3.0  15.0  0.0  0.0   0.0  1.0      6.0  41.0  -0.0  13.0  28.0  -0.0\n",
       "  0.0   0.0  14.0  0.0  0.0   0.0  0.0     38.0  71.0   1.0  25.0   4.0  -0.0\n",
       "  0.0   3.0  10.0  0.0  0.0   0.0  0.0  …  26.0  22.0   0.0   7.0  -0.0  -0.0\n",
       "  0.0   0.0   5.0  0.0  0.0   0.0  0.0     10.0  36.0   3.0  10.0  -0.0  -0.0\n",
       "  0.0   0.0   0.0  0.0  0.0   0.0  0.0     37.0  17.0  27.0   5.0  -0.0  -0.0\n",
       "  0.0   0.0   8.0  0.0  0.0   0.0  0.0     43.0   7.0  25.0   3.0  -0.0  -0.0\n",
       "  0.0   0.0   6.0  0.0  0.0   0.0  0.0     -0.0   8.0   4.0  24.0  11.0  -0.0"
      ]
     },
     "execution_count": 59,
     "metadata": {},
     "output_type": "execute_result"
    }
   ],
   "source": [
    "m2, o2, x2, y2 = allocation_2(D, A, C)\n",
    "print(\"Objective value: \", o2)\n",
    "X2 = value.(x2)\n",
    "#Y = value.(y2)"
   ]
  }
 ],
 "metadata": {
  "kernelspec": {
   "display_name": "Julia 1.5.3",
   "language": "julia",
   "name": "julia-1.5"
  },
  "language_info": {
   "file_extension": ".jl",
   "mimetype": "application/julia",
   "name": "julia",
   "version": "1.5.3"
  }
 },
 "nbformat": 4,
 "nbformat_minor": 5
}
