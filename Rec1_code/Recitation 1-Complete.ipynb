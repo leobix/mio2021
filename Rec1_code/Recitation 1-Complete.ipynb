{
 "cells": [
  {
   "cell_type": "markdown",
   "metadata": {},
   "source": [
    "# Recitation 1: a crash course in Julia and JuMP\n",
    "\n",
    "<a href=\"http://julialang.org\"><img src=\"figures/julia.png\" alt=\"Julia\" style=\"width: 150px;\"/></a>\n",
    "<a href=\"http://jump.dev\"><img src=\"figures/JuMP-logo.png\" alt=\"JuMP\" style=\"width: 150px;\"/></a>"
   ]
  },
  {
   "cell_type": "markdown",
   "metadata": {},
   "source": [
    "## 1. Why Julia/JuMP?\n",
    "\n",
    "- Julia is a \"high-level, high-performance dynamic programming language for technical computing.\" Think the linear algebra power of Matlab, with the speed of C and the readability of Python.\n",
    "- JuMP is a library that allows us to easily formulate optimization problems and solve them using a variety of solvers. It provides an easy interface to implement advanced optimization techniques.\n",
    "- Check out this [talk](https://github.com/johnfgibson/whyjulia/blob/master/1-whyjulia.ipynb]) for more details on why Julia is awesome."
   ]
  },
  {
   "cell_type": "markdown",
   "metadata": {},
   "source": [
    "## 2. Julia basics\n",
    "\n",
    "### 2.1 Jupyter\n",
    "\n",
    "#### What is a Jupyter notebook?\n",
    "\n",
    "- Jupyter notebooks are **documents** (like a Word document) that can contain and run code.\n",
    "- They were originally created for Python as part of the IPython project, and adapted for Julia by the **IJulia** project.\n",
    "- They are very useful to **prototype**, draw **plots**, or even for teaching material like this one.\n",
    "- The document relies only on a modern browser for rendering, and can easily be **shared**.\n",
    "\n",
    "#### How do I even open this file?\n",
    "\n",
    "Once Julia is installed, start julia and just run the following commands to install the `IJulia` package.\n",
    "```jl\n",
    "using Pkg\n",
    "Pkg.install(\"IJulia\")\n",
    "```\n",
    "This should work on its own. If there is any issue, check out the [IJulia website](https://github.com/JuliaLang/IJulia.jl).\n",
    "\n",
    "Once IJulia is installed, go to the directory containing the notebook file (`Recitation 1.ipynb`), start julia and run:\n",
    "```jl\n",
    "using IJulia\n",
    "notebook()\n",
    "```\n",
    "A webpage should open automatically, just click on the notebook to load it."
   ]
  },
  {
   "cell_type": "markdown",
   "metadata": {},
   "source": [
    "#### Navigating the notebook\n",
    "\n",
    "- Click `Help -> User Interface Tour` for a guided tour of the notebook interface.\n",
    "- Each notebook is composed of **cells**, that either contain code or text (`Markdown`).\n",
    "- You can edit the content of a cell by double-clicking on it (_Edit Mode_).\n",
    "\n",
    "When you are not editing a cell, you are in _Command mode_ and can edit the structure of the notebook (cells, name, options...)\n",
    "\n",
    "- Create a cell by:\n",
    "    - Clicking `Insert -> Insert Cell`\n",
    "    - Pressing `a` or `b` in Command Mode\n",
    "    - Pressing `Alt+Enter` in Edit Mode\n",
    "- Delete a cell by:\n",
    "    - Clicking `Edit -> Delete Cell`\n",
    "    - Pressing `dd`\n",
    "- Execute a cell by:\n",
    "    - Clicking `Cell -> Run`\n",
    "    - Pressing `Ctrl+Enter`\n",
    "    - Pressing `Shift+Enter` (this will also move your focus to the next cell)\n",
    "    \n",
    "Other functions:\n",
    "- Undo last text edit with `Ctrl+z` in Edit Mode\n",
    "- Undo last cell manipulation with `z` in Command Mode\n",
    "- Save notebook with `Ctrl+s` in Edit Mode\n",
    "- Save notebook with `s` in Command Mode\n",
    "\n",
    "Though notebooks rely on your browser to work, they do not require an internet connection (except for math rendering)."
   ]
  },
  {
   "cell_type": "markdown",
   "metadata": {},
   "source": [
    "### 2.2 How to Julia\n",
    "\n",
    "Julia, as a dynamic language, can simply be used as a calculator:"
   ]
  },
  {
   "cell_type": "code",
   "execution_count": 1,
   "metadata": {},
   "outputs": [
    {
     "data": {
      "text/plain": [
       "2"
      ]
     },
     "execution_count": 1,
     "metadata": {},
     "output_type": "execute_result"
    }
   ],
   "source": [
    "1+1"
   ]
  },
  {
   "cell_type": "code",
   "execution_count": 2,
   "metadata": {},
   "outputs": [
    {
     "data": {
      "text/plain": [
       "-0.01136232398070678"
      ]
     },
     "execution_count": 2,
     "metadata": {},
     "output_type": "execute_result"
    }
   ],
   "source": [
    "sin(exp(2*pi)+sqrt(3))"
   ]
  },
  {
   "cell_type": "markdown",
   "metadata": {},
   "source": [
    "The key building blocks of Julia code are variables:"
   ]
  },
  {
   "cell_type": "code",
   "execution_count": 3,
   "metadata": {},
   "outputs": [
    {
     "data": {
      "text/plain": [
       "9"
      ]
     },
     "execution_count": 3,
     "metadata": {},
     "output_type": "execute_result"
    }
   ],
   "source": [
    "a = 1\n",
    "b = 2\n",
    "# This is a comment \n",
    "c = a^2 + b^3 "
   ]
  },
  {
   "cell_type": "markdown",
   "metadata": {},
   "source": [
    "Julia supports the usual `if`, `while` and `for` structures:"
   ]
  },
  {
   "cell_type": "code",
   "execution_count": 4,
   "metadata": {},
   "outputs": [
    {
     "name": "stdout",
     "output_type": "stream",
     "text": [
      "No"
     ]
    }
   ],
   "source": [
    "if c >= 10\n",
    "    print(\"Yes\")\n",
    "else\n",
    "    print(\"No\")\n",
    "end"
   ]
  },
  {
   "cell_type": "code",
   "execution_count": 5,
   "metadata": {},
   "outputs": [
    {
     "name": "stdout",
     "output_type": "stream",
     "text": [
      "Why, hello!\n",
      "Why, hello!\n",
      "Why, hello!\n",
      "Why, hello!\n",
      "Why, hello!\n"
     ]
    }
   ],
   "source": [
    "i = 1\n",
    "while i <= 5\n",
    "    println(\"Why, hello!\") # Print with a new line\n",
    "    i += 1\n",
    "end"
   ]
  },
  {
   "cell_type": "code",
   "execution_count": 6,
   "metadata": {},
   "outputs": [
    {
     "name": "stdout",
     "output_type": "stream",
     "text": [
      "1 banana\n",
      "2 bananas\n",
      "3 bananas\n"
     ]
    }
   ],
   "source": [
    "for i = 1:3\n",
    "    print(\"$i banana\") # '$' can be used to insert variables into text\n",
    "    if i>1\n",
    "        print(\"s\")\n",
    "    end\n",
    "    println() # Just a new line\n",
    "end"
   ]
  },
  {
   "cell_type": "markdown",
   "metadata": {},
   "source": [
    "**Do not worry about writing loops**: in Julia, they are as fast as writing vectorized code, and sometimes faster!"
   ]
  },
  {
   "cell_type": "markdown",
   "metadata": {},
   "source": [
    "**Arrays** (list of numbers) are at the core of research computing and Julia's arrays are extremely optimized."
   ]
  },
  {
   "cell_type": "code",
   "execution_count": 7,
   "metadata": {},
   "outputs": [
    {
     "data": {
      "text/plain": [
       "3-element Array{Int64,1}:\n",
       " 6\n",
       " 7\n",
       " 8"
      ]
     },
     "execution_count": 7,
     "metadata": {},
     "output_type": "execute_result"
    }
   ],
   "source": [
    "myList = [6, 7, 8]"
   ]
  },
  {
   "cell_type": "markdown",
   "metadata": {},
   "source": [
    "Array indexing starts with 1 in Julia, and arrays are mutable."
   ]
  },
  {
   "cell_type": "code",
   "execution_count": 8,
   "metadata": {},
   "outputs": [
    {
     "name": "stdout",
     "output_type": "stream",
     "text": [
      "myList[1] = 6\n",
      "myList = [6, 7, 4]\n"
     ]
    }
   ],
   "source": [
    "@show myList[1]\n",
    "myList[3] = 4\n",
    "@show myList;"
   ]
  },
  {
   "cell_type": "markdown",
   "metadata": {},
   "source": [
    "A 2-dimensional array is a Matrix"
   ]
  },
  {
   "cell_type": "code",
   "execution_count": 9,
   "metadata": {},
   "outputs": [
    {
     "data": {
      "text/plain": [
       "3×3 Array{Int64,2}:\n",
       " 1  2  3\n",
       " 2  1  2\n",
       " 3  2  1"
      ]
     },
     "execution_count": 9,
     "metadata": {},
     "output_type": "execute_result"
    }
   ],
   "source": [
    "A = [1 2 3\n",
    "     2 1 2\n",
    "     3 2 1]\n",
    "\n",
    "A = [1 2 3; 2 1 2; 3 2 1] #same thing"
   ]
  },
  {
   "cell_type": "markdown",
   "metadata": {},
   "source": [
    "## 2.3 Reading data - CSV and DataFrames"
   ]
  },
  {
   "cell_type": "markdown",
   "metadata": {},
   "source": [
    "You can install these packages with:"
   ]
  },
  {
   "cell_type": "code",
   "execution_count": 10,
   "metadata": {},
   "outputs": [
    {
     "name": "stdout",
     "output_type": "stream",
     "text": [
      "\u001b[32m\u001b[1m  Updating\u001b[22m\u001b[39m registry at `~/.julia/registries/General`\n",
      "\u001b[32m\u001b[1m  Updating\u001b[22m\u001b[39m git-repo `https://github.com/JuliaRegistries/General.git`\n",
      "\u001b[2K\u001b[?25h[1mFetching:\u001b[22m\u001b[39m [========================================>]  100.0 %.0 %13.4 %15.7 %>                            ]  29.0 % [=================>                       ]  42.4 %55.6 %8 %>     ]  86.2 % %\u001b[32m\u001b[1m Resolving\u001b[22m\u001b[39m package versions...\n"
     ]
    },
    {
     "ename": "Pkg.Types.ResolverError",
     "evalue": "Unsatisfiable requirements detected for package GLMNet [8d5ece8b]:\n GLMNet [8d5ece8b] log:\n ├─possible versions are: [0.4.0-0.4.2, 0.5.0-0.5.2, 0.6.0-0.6.1] or uninstalled\n ├─restricted to versions 0.4.2 by an explicit requirement, leaving only versions 0.4.2\n └─restricted by compatibility requirements with Distributions [31c24e10] to versions: [0.5.1-0.5.2, 0.6.0-0.6.1] or uninstalled — no versions left\n   └─Distributions [31c24e10] log:\n     ├─possible versions are: [0.16.0-0.16.4, 0.17.0, 0.18.0, 0.19.1-0.19.2, 0.20.0, 0.21.0-0.21.3, 0.21.5-0.21.12, 0.22.0-0.22.6, 0.23.0-0.23.12, 0.24.0-0.24.14] or uninstalled\n     └─restricted to versions 0.23.2 by an explicit requirement, leaving only versions 0.23.2",
     "output_type": "error",
     "traceback": [
      "Unsatisfiable requirements detected for package GLMNet [8d5ece8b]:\n GLMNet [8d5ece8b] log:\n ├─possible versions are: [0.4.0-0.4.2, 0.5.0-0.5.2, 0.6.0-0.6.1] or uninstalled\n ├─restricted to versions 0.4.2 by an explicit requirement, leaving only versions 0.4.2\n └─restricted by compatibility requirements with Distributions [31c24e10] to versions: [0.5.1-0.5.2, 0.6.0-0.6.1] or uninstalled — no versions left\n   └─Distributions [31c24e10] log:\n     ├─possible versions are: [0.16.0-0.16.4, 0.17.0, 0.18.0, 0.19.1-0.19.2, 0.20.0, 0.21.0-0.21.3, 0.21.5-0.21.12, 0.22.0-0.22.6, 0.23.0-0.23.12, 0.24.0-0.24.14] or uninstalled\n     └─restricted to versions 0.23.2 by an explicit requirement, leaving only versions 0.23.2",
      "",
      "Stacktrace:",
      " [1] #propagate_constraints!#61(::Bool, ::typeof(Pkg.GraphType.propagate_constraints!), ::Pkg.GraphType.Graph, ::Set{Int64}) at /Users/sabae/buildbot/worker/package_macos64/build/usr/share/julia/stdlib/v1.2/Pkg/src/GraphType.jl:1007",
      " [2] propagate_constraints! at /Users/sabae/buildbot/worker/package_macos64/build/usr/share/julia/stdlib/v1.2/Pkg/src/GraphType.jl:948 [inlined]",
      " [3] #simplify_graph!#121(::Bool, ::typeof(Pkg.GraphType.simplify_graph!), ::Pkg.GraphType.Graph, ::Set{Int64}) at /Users/sabae/buildbot/worker/package_macos64/build/usr/share/julia/stdlib/v1.2/Pkg/src/GraphType.jl:1462",
      " [4] simplify_graph! at /Users/sabae/buildbot/worker/package_macos64/build/usr/share/julia/stdlib/v1.2/Pkg/src/GraphType.jl:1462 [inlined]",
      " [5] resolve_versions!(::Pkg.Types.Context, ::Array{Pkg.Types.PackageSpec,1}) at /Users/sabae/buildbot/worker/package_macos64/build/usr/share/julia/stdlib/v1.2/Pkg/src/Operations.jl:317",
      " [6] #add#100(::Bool, ::typeof(Pkg.Operations.add), ::Pkg.Types.Context, ::Array{Pkg.Types.PackageSpec,1}, ::Array{Base.UUID,1}) at /Users/sabae/buildbot/worker/package_macos64/build/usr/share/julia/stdlib/v1.2/Pkg/src/Operations.jl:962",
      " [7] #add at ./none:0 [inlined]",
      " [8] #add#25(::Bool, ::Base.Iterators.Pairs{Union{},Union{},Tuple{},NamedTuple{(),Tuple{}}}, ::typeof(Pkg.API.add), ::Pkg.Types.Context, ::Array{Pkg.Types.PackageSpec,1}) at /Users/sabae/buildbot/worker/package_macos64/build/usr/share/julia/stdlib/v1.2/Pkg/src/API.jl:99",
      " [9] add at /Users/sabae/buildbot/worker/package_macos64/build/usr/share/julia/stdlib/v1.2/Pkg/src/API.jl:69 [inlined]",
      " [10] #add#24 at /Users/sabae/buildbot/worker/package_macos64/build/usr/share/julia/stdlib/v1.2/Pkg/src/API.jl:67 [inlined]",
      " [11] add at /Users/sabae/buildbot/worker/package_macos64/build/usr/share/julia/stdlib/v1.2/Pkg/src/API.jl:67 [inlined]",
      " [12] #add#21 at /Users/sabae/buildbot/worker/package_macos64/build/usr/share/julia/stdlib/v1.2/Pkg/src/API.jl:65 [inlined]",
      " [13] add at /Users/sabae/buildbot/worker/package_macos64/build/usr/share/julia/stdlib/v1.2/Pkg/src/API.jl:65 [inlined]",
      " [14] #add#20(::Base.Iterators.Pairs{Union{},Union{},Tuple{},NamedTuple{(),Tuple{}}}, ::typeof(Pkg.API.add), ::String) at /Users/sabae/buildbot/worker/package_macos64/build/usr/share/julia/stdlib/v1.2/Pkg/src/API.jl:64",
      " [15] add(::String) at /Users/sabae/buildbot/worker/package_macos64/build/usr/share/julia/stdlib/v1.2/Pkg/src/API.jl:64",
      " [16] top-level scope at In[10]:2"
     ]
    }
   ],
   "source": [
    "using Pkg\n",
    "Pkg.add(\"CSV\")\n",
    "Pkg.add(\"DataFrames\")"
   ]
  },
  {
   "cell_type": "code",
   "execution_count": 12,
   "metadata": {
    "scrolled": true
   },
   "outputs": [],
   "source": [
    "using DataFrames, CSV"
   ]
  },
  {
   "cell_type": "markdown",
   "metadata": {},
   "source": [
    "We're going to load the data for our optimization example, the transportation problem, where factories and markets are both located in the 2D plane.\n",
    "- `data/supply.csv` has one row per factory, with columns for the (x, y) coordinates, and a column for the capacity\n",
    "- `data/demand.csv` has one row per market, with columns for the (x, y) coordinates, and a column for the demand"
   ]
  },
  {
   "cell_type": "code",
   "execution_count": 13,
   "metadata": {},
   "outputs": [
    {
     "ename": "MethodError",
     "evalue": "MethodError: no method matching read(::String, ::Type{DataFrame})\nYou may have intended to import Base.read\nClosest candidates are:\n  read(::Any; copycols, kwargs...) at /Users/leobix/.julia/packages/CSV/4GOjG/src/CSV.jl:1084",
     "output_type": "error",
     "traceback": [
      "MethodError: no method matching read(::String, ::Type{DataFrame})\nYou may have intended to import Base.read\nClosest candidates are:\n  read(::Any; copycols, kwargs...) at /Users/leobix/.julia/packages/CSV/4GOjG/src/CSV.jl:1084",
      "",
      "Stacktrace:",
      " [1] top-level scope at In[13]:1"
     ]
    }
   ],
   "source": [
    "supply = CSV.read(\"data/supply.csv\", DataFrame)\n",
    "demand = CSV.read(\"data/demand.csv\", DataFrame);\n",
    "first(demand, 5)"
   ]
  },
  {
   "cell_type": "markdown",
   "metadata": {},
   "source": [
    "## 3. Basics of JuMP\n",
    "\n",
    "Now we will use this data to formulate and solve the transportation problem. First, we need to install a solver. A good choice is the Gurobi solver. You can follow [these instructions](https://github.com/jump-dev/Gurobi.jl) to install both Gurobi and its Julia wrapper `Gurobi.jl`.\n",
    "\n",
    "Then we can load JuMP and Gurobi."
   ]
  },
  {
   "cell_type": "code",
   "execution_count": 5,
   "metadata": {},
   "outputs": [
    {
     "name": "stderr",
     "output_type": "stream",
     "text": [
      "┌ Info: Recompiling stale cache file /Users/leobix/.julia/compiled/v1.2/Gurobi/do9v6.ji for Gurobi [2e9cd046-0924-5485-92f1-d5272153d98b]\n",
      "└ @ Base loading.jl:1240\n",
      "WARNING: Method definition ca_chain!(MbedTLS.SSLConfig) in module MbedTLS at /Users/iai/builds/InterpretableAI/SysImgBuilder/.julia/packages/MbedTLS/a1JFn/src/ssl.jl:489 overwritten in module Main at /Users/iai/builds/InterpretableAI/SysImgBuilder/.julia/packages/PackageCompiler/CJQcs/sysimg/precompile.jl:263.\n",
      "  ** incremental compilation may be fatally broken for this module **\n",
      "\n",
      "WARNING: Method definition ca_chain!(MbedTLS.SSLConfig) in module MbedTLS at /Users/iai/builds/InterpretableAI/SysImgBuilder/.julia/packages/MbedTLS/a1JFn/src/ssl.jl:489 overwritten in module Main at /Users/iai/builds/InterpretableAI/SysImgBuilder/.julia/packages/PackageCompiler/CJQcs/sysimg/precompile.jl:263.\n",
      "  ** incremental compilation may be fatally broken for this module **\n",
      "\n",
      "WARNING: Method definition ca_chain!(MbedTLS.SSLConfig) in module MbedTLS at /Users/iai/builds/InterpretableAI/SysImgBuilder/.julia/packages/MbedTLS/a1JFn/src/ssl.jl:489 overwritten in module Main at /Users/iai/builds/InterpretableAI/SysImgBuilder/.julia/packages/PackageCompiler/CJQcs/sysimg/precompile.jl:263.\n",
      "  ** incremental compilation may be fatally broken for this module **\n",
      "\n",
      "WARNING: Method definition ca_chain!(MbedTLS.SSLConfig) in module MbedTLS at /Users/iai/builds/InterpretableAI/SysImgBuilder/.julia/packages/MbedTLS/a1JFn/src/ssl.jl:489 overwritten in module Main at /Users/iai/builds/InterpretableAI/SysImgBuilder/.julia/packages/PackageCompiler/CJQcs/sysimg/precompile.jl:263.\n",
      "  ** incremental compilation may be fatally broken for this module **\n",
      "\n",
      "WARNING: Method definition ca_chain!(MbedTLS.SSLConfig) in module MbedTLS at /Users/iai/builds/InterpretableAI/SysImgBuilder/.julia/packages/MbedTLS/a1JFn/src/ssl.jl:489 overwritten in module Main at /Users/iai/builds/InterpretableAI/SysImgBuilder/.julia/packages/PackageCompiler/CJQcs/sysimg/precompile.jl:263.\n",
      "  ** incremental compilation may be fatally broken for this module **\n",
      "\n"
     ]
    }
   ],
   "source": [
    "using JuMP, Gurobi"
   ]
  },
  {
   "cell_type": "markdown",
   "metadata": {},
   "source": [
    "We're going to use JuMP to \"translate\" our transportation problem (see slides) into something that Gurobi can solve."
   ]
  },
  {
   "cell_type": "code",
   "execution_count": 6,
   "metadata": {},
   "outputs": [
    {
     "data": {
      "text/plain": [
       "build_transportation_model"
      ]
     },
     "execution_count": 6,
     "metadata": {},
     "output_type": "execute_result"
    }
   ],
   "source": [
    "\"Function to build the transportation model, returns model and decision variable handles\"\n",
    "function build_transportation_model(supply::DataFrame, demand::DataFrame)\n",
    "    # initialize the model, and specify the solver\n",
    "    model = Model(Gurobi.Optimizer)\n",
    "    # Decision variables\n",
    "    @variable(model, x[i = 1:nrow(supply), j = 1:nrow(demand)] >= 0)\n",
    "    # Capacity constraint\n",
    "    @constraint(model, capacity_constraint[i=1:nrow(supply)],\n",
    "                sum(x[i, j] for j = 1:nrow(demand)) <= supply[i, \"capacity\"])\n",
    "    # Demand constraint\n",
    "    @constraint(model, demand_constraint[j=1:nrow(demand)],\n",
    "                sum(x[i, j] for i = 1:nrow(supply)) >= demand[j, \"demand\"])\n",
    "    # Objective\n",
    "    @objective(model, Min,\n",
    "               sum(x[i, j] *\n",
    "                   sqrt((supply[i, \"x\"] - demand[j, \"x\"]) ^ 2 + (supply[i, \"y\"] - demand[j, \"y\"]) ^ 2)\n",
    "                   for i = 1:nrow(supply), j=1:nrow(demand)))\n",
    "    return model, x\n",
    "end"
   ]
  },
  {
   "cell_type": "markdown",
   "metadata": {},
   "source": [
    "We can now build the optimization model. Notice that Jupyter can display the model (but beware output overload for large models)."
   ]
  },
  {
   "cell_type": "code",
   "execution_count": null,
   "metadata": {},
   "outputs": [],
   "source": [
    "model, x = build_transportation_model(supply, demand)"
   ]
  },
  {
   "cell_type": "code",
   "execution_count": null,
   "metadata": {},
   "outputs": [],
   "source": [
    "model"
   ]
  },
  {
   "cell_type": "code",
   "execution_count": null,
   "metadata": {
    "scrolled": true
   },
   "outputs": [],
   "source": [
    "x"
   ]
  },
  {
   "cell_type": "markdown",
   "metadata": {},
   "source": [
    "Now we can solve the model using the `optimize!` command. The `!` is a Julia convention that indicates that the function modifies its argument (in this case, by solving the optimization problem)."
   ]
  },
  {
   "cell_type": "code",
   "execution_count": null,
   "metadata": {},
   "outputs": [],
   "source": [
    "optimize!(model)"
   ]
  },
  {
   "cell_type": "markdown",
   "metadata": {},
   "source": [
    "Now we can extract the optimal objective:"
   ]
  },
  {
   "cell_type": "code",
   "execution_count": null,
   "metadata": {},
   "outputs": [],
   "source": [
    "objective_value(model)"
   ]
  },
  {
   "cell_type": "markdown",
   "metadata": {},
   "source": [
    "We can also obtain the optimal variable values:"
   ]
  },
  {
   "cell_type": "code",
   "execution_count": null,
   "metadata": {},
   "outputs": [],
   "source": [
    "value(x[1, 4])"
   ]
  },
  {
   "cell_type": "code",
   "execution_count": null,
   "metadata": {},
   "outputs": [],
   "source": [
    "[value(x[i, j]) for i=1:nrow(supply), j=1:nrow(demand)]"
   ]
  },
  {
   "cell_type": "code",
   "execution_count": null,
   "metadata": {},
   "outputs": [],
   "source": []
  }
 ],
 "metadata": {
  "@webio": {
   "lastCommId": null,
   "lastKernelId": null
  },
  "kernelspec": {
   "display_name": "Julia 1.2.0",
   "language": "julia",
   "name": "julia-1.2"
  },
  "language_info": {
   "file_extension": ".jl",
   "mimetype": "application/julia",
   "name": "julia",
   "version": "1.2.0"
  }
 },
 "nbformat": 4,
 "nbformat_minor": 4
}
