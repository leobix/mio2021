{
 "cells": [
  {
   "cell_type": "markdown",
   "metadata": {},
   "source": [
    "# Recitation 2 - Formulations\n",
    "\n",
    "In today's recitation, we will build different formulations of the same problem, and explore the computational implications.\n",
    "\n",
    "First, we load packages."
   ]
  },
  {
   "cell_type": "code",
   "execution_count": 3,
   "metadata": {},
   "outputs": [
    {
     "name": "stderr",
     "output_type": "stream",
     "text": [
      "┌ Info: Precompiling Gurobi [2e9cd046-0924-5485-92f1-d5272153d98b]\n",
      "└ @ Base loading.jl:1278\n"
     ]
    },
    {
     "ename": "LoadError",
     "evalue": "\u001b[91mArgumentError: Package Combinatorics not found in current path:\u001b[39m\n\u001b[91m- Run `import Pkg; Pkg.add(\"Combinatorics\")` to install the Combinatorics package.\u001b[39m\n",
     "output_type": "error",
     "traceback": [
      "\u001b[91mArgumentError: Package Combinatorics not found in current path:\u001b[39m\n\u001b[91m- Run `import Pkg; Pkg.add(\"Combinatorics\")` to install the Combinatorics package.\u001b[39m\n",
      "",
      "Stacktrace:",
      " [1] require(::Module, ::Symbol) at ./loading.jl:893",
      " [2] include_string(::Function, ::Module, ::String, ::String) at ./loading.jl:1091"
     ]
    }
   ],
   "source": [
    "using JuMP, Gurobi\n",
    "\n",
    "using DataFrames, CSV, Combinatorics\n",
    "using LinearAlgebra"
   ]
  },
  {
   "cell_type": "code",
   "execution_count": 4,
   "metadata": {},
   "outputs": [
    {
     "name": "stderr",
     "output_type": "stream",
     "text": [
      "\u001b[32m\u001b[1m   Updating\u001b[22m\u001b[39m registry at `~/.julia/registries/General`\n",
      "######################################################################### 100.0%\n",
      "\u001b[32m\u001b[1m  Resolving\u001b[22m\u001b[39m package versions...\n",
      "\u001b[32m\u001b[1m  Installed\u001b[22m\u001b[39m Combinatorics ─ v1.0.2\n",
      "\u001b[32m\u001b[1mUpdating\u001b[22m\u001b[39m `~/.julia/environments/v1.5/Project.toml`\n",
      " \u001b[90m [861a8166] \u001b[39m\u001b[92m+ Combinatorics v1.0.2\u001b[39m\n",
      "\u001b[32m\u001b[1mUpdating\u001b[22m\u001b[39m `~/.julia/environments/v1.5/Manifest.toml`\n",
      " \u001b[90m [861a8166] \u001b[39m\u001b[92m+ Combinatorics v1.0.2\u001b[39m\n"
     ]
    }
   ],
   "source": [
    "import Pkg; Pkg.add(\"Combinatorics\")"
   ]
  },
  {
   "cell_type": "markdown",
   "metadata": {},
   "source": [
    "## Part 1: Facility location\n",
    "\n",
    "### 1.1 Problem setup\n",
    "\n",
    "We are now ready to formulate our first integer optimization problem. The facility location problem takes as inputs two sets and two parameters:\n",
    "- Sets:\n",
    "    - facilities $j\\in \\mathcal{J}=\\{1,\\ldots,n\\}$\n",
    "    - customers $i\\in \\mathcal{I}=\\{1, \\ldots, m\\}$\n",
    "- Parameters:\n",
    "    - $d_{ij}$: distance from customer $i$ to facility $j$\n",
    "    - $c_j$: cost of facility $j$\n",
    "    \n",
    "Let's define the size of the problem."
   ]
  },
  {
   "cell_type": "code",
   "execution_count": null,
   "metadata": {},
   "outputs": [],
   "source": [
    "n = 50\n",
    "m = 500"
   ]
  },
  {
   "cell_type": "markdown",
   "metadata": {},
   "source": [
    "In real-life, we would have data on the location of facilities and customers. For simplicity, we assume that the facilities and customers are uniformly sampled over the unit square $[0,1]^2$. The first column of the following arrays denotes the x coordinate, and the second column denotes the y coordinate."
   ]
  },
  {
   "cell_type": "code",
   "execution_count": null,
   "metadata": {},
   "outputs": [],
   "source": [
    "facilities = rand(n,2);\n",
    "customers = rand(m,2); # notice we add a semicolon to suppress Jupyter output"
   ]
  },
  {
   "cell_type": "markdown",
   "metadata": {},
   "source": [
    "We can now define the distance matrix:"
   ]
  },
  {
   "cell_type": "code",
   "execution_count": null,
   "metadata": {},
   "outputs": [],
   "source": [
    "dist = [LinearAlgebra.norm(customers[i, :] .- facilities[j, :]) for i=1:m, j=1:n];\n",
    "@show size(dist);"
   ]
  },
  {
   "cell_type": "markdown",
   "metadata": {},
   "source": [
    "Finally, we sample a vector of facility costs uniformly between 10 and 20:"
   ]
  },
  {
   "cell_type": "code",
   "execution_count": null,
   "metadata": {},
   "outputs": [],
   "source": [
    "c = rand(n)*10 .+ 10;"
   ]
  },
  {
   "cell_type": "markdown",
   "metadata": {},
   "source": [
    "### 1.2 Formulations\n",
    "\n",
    "We covered two formulations of the problem in class, one with many constraints but a tight formulation, the other with fewer constraints but a less tight formulation. Time to implement!\n",
    "\n",
    "#### Formulation 1\n",
    "\n",
    "$$\\min \\sum_{j=1}^nc_j y_j + \\sum_{i=1}^m\\sum_{j=1}^nd_{ij}x_{ij}$$\n",
    "$$\\text{subject to}$$\n",
    "$$\\sum_{j=1}^n x_{ij}=1 \\quad \\forall i\\in[m]$$\n",
    "$$x_{ij}\\le y_j \\quad\\forall i\\in[m], j\\in[n]$$\n",
    "$$x_{ij}\\in\\{0,1\\}\\quad\\forall i\\in[m], j\\in[n]$$\n",
    "$$y_j \\in \\{0,1\\}\\quad \\forall j\\in[n]$$"
   ]
  },
  {
   "cell_type": "code",
   "execution_count": null,
   "metadata": {},
   "outputs": [],
   "source": [
    "\"Build facility location model 1\"\n",
    "function facility_model_1(distance::Matrix, cost::Vector)\n",
    "    # extract problem dimensions from distance matrix and verify coherence of input data\n",
    "    m, n = size(distance)\n",
    "    @assert length(cost) == n\n",
    "    model = Model(Gurobi.Optimizer)\n",
    "    set_optimizer_attribute(model, \"TimeLimit\", 1800)\n",
    "    # VARIABLES\n",
    "    # Whether to open each facility\n",
    "    @variable(model, y[1:n], Bin)\n",
    "    # Whether to solve a particular customer from a particular facility\n",
    "    @variable(model, x[1:m, 1:n], Bin)\n",
    "    # CONSTRAINTS\n",
    "    @constraint(\n",
    "        model, serve_every_customer[i = 1:m],\n",
    "        sum(x[i, j] for j = 1:n) == 1\n",
    "    )\n",
    "    @constraint(\n",
    "        model, only_serve_from_open_facility[i = 1:m, j=1:n],\n",
    "        x[i, j] <= y[j]\n",
    "    )\n",
    "    # OBJECTIVE\n",
    "    @objective(\n",
    "        model, Min, sum(cost[j] * y[j] for j = 1:n) + sum(distance[i, j] * x[i, j] for i=1:m, j=1:n)\n",
    "    )\n",
    "    return model, x, y\n",
    "end"
   ]
  },
  {
   "cell_type": "markdown",
   "metadata": {},
   "source": [
    "Now we can call our function to build the model with our sampled data, then solve and report the elapsed time."
   ]
  },
  {
   "cell_type": "code",
   "execution_count": null,
   "metadata": {
    "scrolled": false
   },
   "outputs": [],
   "source": [
    "buildtime1 = @elapsed model1, x1, y1 = facility_model_1(dist, c);\n",
    "solvetime1 = @elapsed optimize!(model1)\n",
    "@show buildtime1\n",
    "@show solvetime1"
   ]
  },
  {
   "cell_type": "markdown",
   "metadata": {},
   "source": [
    "#### Formulation 2\n",
    "\n",
    "$$\\min \\sum_{j=1}^nc_j y_j + \\sum_{i=1}^m\\sum_{j=1}^nd_{ij}x_{ij}$$\n",
    "$$\\text{subject to}$$\n",
    "$$\\sum_{j=1}^n x_{ij}=1 \\quad \\forall i\\in[m]$$\n",
    "$$\\sum_{i=1}^m x_{ij}\\le my_j \\quad\\forall j\\in[n]$$\n",
    "$$x_{ij}\\in\\{0,1\\}\\quad\\forall i\\in[m], j\\in[n]$$\n",
    "$$y_j \\in \\{0,1\\}\\quad \\forall j\\in[n]$$"
   ]
  },
  {
   "cell_type": "code",
   "execution_count": null,
   "metadata": {},
   "outputs": [],
   "source": [
    "\"Build facility location model 1\"\n",
    "function facility_model_2(distance::Matrix, cost::Vector)\n",
    "    # extract problem dimensions from distance matrix and verify coherence of input data\n",
    "    m, n = size(distance)\n",
    "    @assert length(cost) == n\n",
    "    model = Model(Gurobi.Optimizer)\n",
    "    set_optimizer_attribute(model, \"TimeLimit\", 1800)\n",
    "    # VARIABLES\n",
    "    # Whether to open each facility\n",
    "    @variable(model, y[1:n], Bin)\n",
    "    # Whether to solve a particular customer from a particular facility\n",
    "    @variable(model, x[1:m, 1:n], Bin)\n",
    "    # CONSTRAINTS\n",
    "    @constraint(\n",
    "        model, serve_every_customer[i = 1:m],\n",
    "        sum(x[i, j] for j = 1:n) == 1\n",
    "    )\n",
    "    @constraint(\n",
    "        model, only_serve_from_open_facility[j=1:n],\n",
    "        sum(x[i, j] for i=1:m) <= m * y[j]\n",
    "    )\n",
    "    # OBJECTIVE\n",
    "    @objective(\n",
    "        model, Min, sum(cost[j] * y[j] for j = 1:n) + sum(distance[i, j] * x[i, j] for i=1:m, j=1:n)\n",
    "    )\n",
    "    return model, x, y\n",
    "end"
   ]
  },
  {
   "cell_type": "code",
   "execution_count": null,
   "metadata": {},
   "outputs": [],
   "source": [
    "buildtime2 = @elapsed model2, x2, y2 = facility_model_2(dist, c);\n",
    "solvetime2 = @elapsed optimize!(model2)\n",
    "@show buildtime2\n",
    "@show solvetime2"
   ]
  },
  {
   "cell_type": "markdown",
   "metadata": {},
   "source": [
    "## Part 2: TSP\n",
    "\n",
    "In the traveling salesman problem, we have $n$ locations, or \"cities\", indexed by $[n]=\\{1,\\ldots,n\\}$ with $d_{ij}$ denoting the distance between location $i$ and location $j$.\n",
    "\n",
    "The goal is to find a tour that visits each location exactly once, while minimizing total distance traveled.\n",
    "\n",
    "### 2.1 Problem setup\n",
    "\n",
    "We have a few TSP instances saved in the `tsp` directory. The data are stored as ASCII text files, which we can read as follows."
   ]
  },
  {
   "cell_type": "code",
   "execution_count": 5,
   "metadata": {},
   "outputs": [
    {
     "data": {
      "text/plain": [
       "10-element Array{String,1}:\n",
       " \"NAME: berlin52\"\n",
       " \"TYPE: TSP\"\n",
       " \"COMMENT: 52 locations in Berlin (Groetschel)\"\n",
       " \"DIMENSION: 52\"\n",
       " \"EDGE_WEIGHT_TYPE: EUC_2D\"\n",
       " \"NODE_COORD_SECTION\"\n",
       " \"1 565.0 575.0\"\n",
       " \"2 25.0 185.0\"\n",
       " \"3 345.0 750.0\"\n",
       " \"4 945.0 685.0\""
      ]
     },
     "execution_count": 5,
     "metadata": {},
     "output_type": "execute_result"
    }
   ],
   "source": [
    "file = open(\"tsp/berlin52.tsp\");\n",
    "data = readlines(file)\n",
    "data[1:10]"
   ]
  },
  {
   "cell_type": "markdown",
   "metadata": {},
   "source": [
    "The first few lines describe the file and the problem type, and the following lines list the (x,y) coordinates of each point in a grid. We would to extract the coordinates and define a distance matrix. The function below is one way to do this, but there are many others."
   ]
  },
  {
   "cell_type": "code",
   "execution_count": 8,
   "metadata": {},
   "outputs": [
    {
     "data": {
      "text/plain": [
       "get_distances (generic function with 1 method)"
      ]
     },
     "execution_count": 8,
     "metadata": {},
     "output_type": "execute_result"
    }
   ],
   "source": [
    "function get_distances(filename)\n",
    "    file = open(filename)\n",
    "    data = readlines(file)\n",
    "    close(file)\n",
    "    # get useful lines\n",
    "    dimension_line = findfirst(x -> occursin(\"DIMENSION\", x), data)\n",
    "    metric_line = findfirst(x -> occursin(\"EDGE_WEIGHT_TYPE\", x), data)\n",
    "    first_data_line = findfirst(x -> occursin(\"NODE_COORD_SECTION\", x), data) + 1\n",
    "    last_data_line = findfirst(x -> occursin(r\"EOF\", x), data) - 1\n",
    "    # extract dimension\n",
    "    n = parse(Int64, match(r\"[0-9]+\", data[dimension_line]).match)\n",
    "    # check metric is Euclidean 2D\n",
    "    occursin(\"EUC_2D\", data[metric_line]) || error(\"Unsupported metric type\")\n",
    "    # Create coordinates\n",
    "    coords = zeros(n, 2)\n",
    "    for line in data[first_data_line:last_data_line]\n",
    "        temp = split(line)\n",
    "        parse(Int64,temp[1])\n",
    "        coords[parse(Int64,temp[1]),:] = [parse(Float64,temp[2]) parse(Float64,temp[3])]\n",
    "    end\n",
    "    # Create distance matrix\n",
    "    distances = [norm(coords[i, :] .- coords[j, :]) for i=1:n, j=1:n]\n",
    "    return distances\n",
    "end"
   ]
  },
  {
   "cell_type": "markdown",
   "metadata": {},
   "source": [
    "We can now use our shiny new `get_distances` function to convert a TSP text file to a distance matrix. We can visually check the matrix is 52x52, is symmetric, has nonnegative values, and zeros on the diagonal."
   ]
  },
  {
   "cell_type": "code",
   "execution_count": 9,
   "metadata": {},
   "outputs": [
    {
     "ename": "LoadError",
     "evalue": "\u001b[91mUndefVarError: norm not defined\u001b[39m",
     "output_type": "error",
     "traceback": [
      "\u001b[91mUndefVarError: norm not defined\u001b[39m",
      "",
      "Stacktrace:",
      " [1] (::var\"#15#20\"{Array{Float64,2}})(::Tuple{Int64,Int64}) at ./none:0",
      " [2] iterate at ./generator.jl:47 [inlined]",
      " [3] collect(::Base.Generator{Base.Iterators.ProductIterator{Tuple{UnitRange{Int64},UnitRange{Int64}}},var\"#15#20\"{Array{Float64,2}}}) at ./array.jl:686",
      " [4] get_distances(::String) at ./In[8]:22",
      " [5] top-level scope at In[9]:1",
      " [6] include_string(::Function, ::Module, ::String, ::String) at ./loading.jl:1091"
     ]
    }
   ],
   "source": [
    "get_distances(\"tsp/berlin52.tsp\")"
   ]
  },
  {
   "cell_type": "markdown",
   "metadata": {},
   "source": [
    "### 2.2 Formulations\n",
    "\n",
    "#### Basic formulation\n",
    "\n",
    "$$\\begin{align}\n",
    "\\min\\quad & \\sum_{i=1}^n\\sum_{j=1}^n d_{ij}x_{ij}\\\\\n",
    "\\text{s.t.}\\quad & \\sum_{i=1}^n x_{ij}=1 & \\forall j\\in[n]\\\\\n",
    "&\\sum_{j=1}^nx_{ij} =1 & \\forall i\\in[n]\\\\\n",
    "&x_{ii}=0 & \\forall i\\in[n]\\\\\n",
    "& x_{ij}\\in\\{0,1\\}&\\forall i, j \\in [n]\n",
    "\\end{align}$$\n",
    "\n",
    "_Note: even though our distance matrix is symmetric, it is slightly easier to implement a more general formulation where we do not assume this property. If we know our distance matrix is symmetric, we can cut the number of variables in half by only defining $x_{ij}$ for $i < j$ (i.e. not defining both $x_{12}$ and $x_{21}$), but this is beyond the scope of this recitation._"
   ]
  },
  {
   "cell_type": "code",
   "execution_count": 10,
   "metadata": {},
   "outputs": [
    {
     "data": {
      "text/plain": [
       "prebuild_tsp"
      ]
     },
     "execution_count": 10,
     "metadata": {},
     "output_type": "execute_result"
    }
   ],
   "source": [
    "\"Construct TSP pre-model, without cycle elimination mechanism\"\n",
    "function prebuild_tsp(dist::Matrix)\n",
    "    n = size(dist, 1)\n",
    "    # Definition of model\n",
    "    model = Model(Gurobi.Optimizer)\n",
    "    # Main variable: x_ij=1 if the tour visits i and j in that order, 0 otherwise\n",
    "    @variable(model, x[1:n, 1:n], Bin)\n",
    "    # Objective: minimizing the total cost (distance) of the tour\n",
    "    @objective(model, Min, sum(dist[i, j] * x[i, j] for i = 1:n, j = 1:n))\n",
    "    # SHARED CONSTRAINTS\n",
    "    @constraint(\n",
    "        model, no_self_edges[i = 1:n], x[i,i] == 0\n",
    "    )\n",
    "    @constraint(\n",
    "        model, exactly_one_successor[i = 1:n], sum(x[i, j] for j = 1:n) == 1\n",
    "    )\n",
    "    @constraint(\n",
    "        model, exactly_one_predecessor[j = 1:n], sum(x[i, j] for i = 1:n) == 1\n",
    "    )\n",
    "    return model, x\n",
    "end"
   ]
  },
  {
   "cell_type": "markdown",
   "metadata": {},
   "source": [
    "#### Issues with the formulation\n",
    "\n",
    "The formulation we've built so far is nice, but it has one big flaw! It doesn't ensure that every city must be part of the same tour.\n",
    "\n",
    "For instance, the following solution would be feasible:\n",
    "\n",
    "![](extra/tsp-subtour.png)\n",
    "\n",
    "We need to somehow eliminate these \"subtours\"."
   ]
  },
  {
   "cell_type": "markdown",
   "metadata": {},
   "source": [
    "#### Attempt 1: MTZ formulation (compact)\n",
    "\n",
    "This formulation eliminates subtours using a $u_i$ variable for each node $i$, which defines the \"order\" of the visit starting from node 1 ($u_1=1$). More precisely, we impose the following constraints:\n",
    "\n",
    "$u_1=1$\n",
    "\n",
    "$2\\le u_i \\le n \\quad\\forall i=2, \\ldots, n$\n",
    "\n",
    "$u_j \\ge u_i + 1 - (n-1)(1-x_{ij}) \\quad \\forall i, j \\in [n]$\n",
    "\n",
    "The first two are straightforward. What does the third one mean?\n",
    "\n",
    "- If $x_{ij}=1$, then we impose that $u_j\\ge u_i +1$ (the order of $j$ is at least 1 + the order of $i$). Since all $u_i$ are upper-bounded by $n$, this leads to the order of $j$ being exactly 1 + the order of $i$).\n",
    "- If $x_{ij}=0$, then we impose that $u_j\\ge u_i + 2 - n$. Since $u_i$ is at most $n$, in the worst case we impose $u_j\\ge 2$ which holds as long as $j>1$ (recall our convention that $u_1=1$). So $x_{ij}=0$ effectively \"turns off\" the constraint.\n",
    "\n",
    "We implement the MTZ formulation by appending these constraints to the core assignment model."
   ]
  },
  {
   "cell_type": "code",
   "execution_count": null,
   "metadata": {},
   "outputs": [],
   "source": [
    "\"Solve TSP using MTZ formulation, return runtime and objective\"\n",
    "function solveMTZ(dist::Matrix; time_limit_seconds::Real=1800)\n",
    "    model, x = prebuild_tsp(dist, time_limit_seconds);\n",
    "    set_optimizer_attribute(model, \"TimeLimit\", time_limit_seconds)\n",
    "    n = size(dist,1);\n",
    "    # Lower bound: 1 for node 1, 2 for all other nodes\n",
    "    lb = [1 ; 2*ones(n-1)]\n",
    "    # Upper bound: 1 for node 1, n for all other nodes\n",
    "    ub = [1 ; n*ones(n-1)]\n",
    "    # We define the u variable with lower and upper bounds, ensuring in particular that u_1=1\n",
    "    @variable(model, lb[i] <= u[i = 1:n] <= ub[i])\n",
    "    # Constraint\n",
    "    @constraint(\n",
    "        model, [i = 2:n, j = 2:n], u[i] - u[j] + 1 <= (n-1) * (1 - x[i, j])\n",
    "    )\n",
    "    # We then solve the model and store the runtime\n",
    "    start = time()\n",
    "    optimize!(model)\n",
    "    solvetime = time() - start\n",
    "    return solvetime, objective_value(model)\n",
    "end"
   ]
  },
  {
   "cell_type": "markdown",
   "metadata": {},
   "source": [
    "Let's try it!"
   ]
  },
  {
   "cell_type": "code",
   "execution_count": null,
   "metadata": {},
   "outputs": [],
   "source": [
    "dist52 = getDistances(\"tsp/berlin52.tsp\");\n",
    "solvetime52_MTZ, obj52_MTZ = solveMTZ(dist52);\n",
    "println(\"Runtime: $solvetime52_MTZ seconds\")\n",
    "println(\"Objective: $obj52_MTZ\")"
   ]
  },
  {
   "cell_type": "markdown",
   "metadata": {},
   "source": [
    "Let's try it on a larger instance now."
   ]
  },
  {
   "cell_type": "code",
   "execution_count": null,
   "metadata": {},
   "outputs": [],
   "source": [
    "dist76 = getDistances(\"tsp/pr76.tsp\");\n",
    "solvetime76_MTZ, obj76_MTZ = solveMTZ(dist76, time_limit_seconds=60)\n",
    "println(\"Runtime: $solvetime76_MTZ seconds\")\n",
    "println(\"Objective: $obj76_MTZ\")"
   ]
  },
  {
   "cell_type": "markdown",
   "metadata": {},
   "source": [
    "On 52 cities, we solve in about one second. On 76 cities, we are much slower! Even after 60 seconds, our objective gap is still 6.9%. Clearly this will not scale to hundreds of cities.\n",
    "\n",
    "#### Attempt 2: combinatorial formulation (cutset)\n",
    "\n",
    "OK, so MTZ is a bit of a dud (no offense). Can we do better? Yes, provided we're not afraid of large numbers.\n",
    "\n",
    "*Intuition:* since we seem to dislike subtours so much, let's write a specific constraint for every possible subtour, preventing it from existing.\n",
    "\n",
    "One way to do this is the following pair of \"cutset\" constraints:\n",
    "\n",
    "$$\\sum_{i\\in S}\\sum_{j\\notin S} x_{ij}\\ge 1 \\quad\\forall S\\subset V, S\\neq\\emptyset, V$$\n",
    "\n",
    "$$\\sum_{i\\notin S}\\sum_{j\\in S} x_{ij}\\ge 1 \\quad\\forall S\\subset V, S\\neq\\emptyset, V$$\n",
    "\n",
    "_What's going on here?_ For a subset of nodes $S$, the constraints above ensure that there is at least one edge leaving the subset $S$, and at least another edge entering the subset $S$.\n",
    "\n",
    "![](extra/cut-set-diagram.png)"
   ]
  },
  {
   "cell_type": "markdown",
   "metadata": {},
   "source": [
    "Unfortunately, a direct implementation is simply impossible, even for small-scale instances. Indeed, the number of subsets of $\\{1,n\\}$ is equal to $2^n$. For $n=52$, this means $4.5\\cdot 10^15$ -- clearly impossible with our computer's memory.\n",
    "\n",
    "Instead, we will add constraints *only when we need them*. We have two options:\n",
    "1. We will solve the model naively, without subtour elimination constraints, and add constraints that are violated by the incumbent solution.\n",
    "\n",
    "2. We can also define *lazy constraints* in a callback function. This is a bit harder, but the idea is to give the constraints to the solver, and the solver will use them as needed through the branch-and-cut process. Specifically, the solver will keep the constraints in a \"pool\". As solutions are generated (in the branching tree), the solver checks which constraints are violated and adds them to the active formulation. Hence, the name \"lazy\" constraints because we let the solver use them as needed.\n",
    "\n",
    "Either way, we need to write a function to find a subtour in a candidate solution. If we were trying to make our code as efficient as possible, our best bet would be to write this function ourselves. In this recitation, we're going to pick an easier route, using the `LightGraphs` package."
   ]
  },
  {
   "cell_type": "code",
   "execution_count": null,
   "metadata": {},
   "outputs": [],
   "source": [
    "using LightGraphs"
   ]
  },
  {
   "cell_type": "markdown",
   "metadata": {},
   "source": [
    "The `LightGraphs` package is a way to easily work with graphs in Julia.\n",
    "\n",
    "Given a solution $\\boldsymbol{x}^*$, we can define the _induced_ graph $G(\\boldsymbol{x}^*)$ as the graph with one node per TSP node, and an edge between each pair of nodes $(i,j)$ for which $x^*_{ij}=1$.\n",
    "\n",
    "We know that a graph induced by a feasible solution will have exactly one edge into each node, and one edge out of each node. There is therefore a one-to-one mapping between subtours in the induced TSP graph and connected components of the induced graph."
   ]
  },
  {
   "cell_type": "code",
   "execution_count": null,
   "metadata": {},
   "outputs": [],
   "source": [
    "\"\"\"\n",
    "    Given the induced graph as an adjacency list (i.e., next[i] is the next node to visit after node i),\n",
    "        compute all subtours.\n",
    "    Return them as a list of lists of nodes in the same component\n",
    "\"\"\"\n",
    "function find_subtours(next::Vector{Int})\n",
    "    n = length(next)\n",
    "    g = DiGraph(n)\n",
    "    for i = 1:n\n",
    "        add_edge!(g, i, next[i])\n",
    "    end\n",
    "    components = strongly_connected_components(g)\n",
    "    return sort(components, by=length)\n",
    "end"
   ]
  },
  {
   "cell_type": "markdown",
   "metadata": {},
   "source": [
    "Let's try using this function"
   ]
  },
  {
   "cell_type": "code",
   "execution_count": null,
   "metadata": {},
   "outputs": [],
   "source": [
    "dist52 = getDistances(\"tsp/berlin52.tsp\")\n",
    "model, x = prebuild_tsp(dist52)\n",
    "optimize!(model)\n",
    "next = [findfirst(x -> x > 0.5, value.(x[i, :])) for i = 1:size(x, 1)]\n",
    "find_subtours(next)"
   ]
  },
  {
   "cell_type": "markdown",
   "metadata": {},
   "source": [
    "We notice two things here:\n",
    "\n",
    "1. We have a lot of subtours of length 2 - this is due to the directed formulation, different from the undirected formulation in lecture.\n",
    "\n",
    "2. We have lost some information by using connected components, namely the order of the cycle. But it's ok, because the cutset constraints doesn't care about the order of the cycle anyway.\n",
    "\n",
    "We also notice we have quite a few subtours to eliminate. For the subtours of length 2, we could decide to eliminate all of them at once, or to eliminate them as they come up. We can even see which approach is faster!"
   ]
  },
  {
   "cell_type": "code",
   "execution_count": null,
   "metadata": {},
   "outputs": [],
   "source": [
    "\"Solve the TSP using an iterative approach\"\n",
    "function solve_iterative(dist::Matrix; time_limit_seconds::Real = 1800,\n",
    "                         eliminate_length_2::Bool=false,\n",
    "                         verbose::Bool = true)\n",
    "    # We first solve the model without any subtour elimination consideration\n",
    "    model, x = prebuild_tsp(dist)\n",
    "    n = size(dist,1)\n",
    "    if eliminate_length_2\n",
    "        @constraint(model, no_length_2[i = 1:n, j = 1:n], x[i, j] + x[j, i] <= 1)\n",
    "    end\n",
    "    verbose || set_optimizer_attribute(model, \"OutputFlag\", 0)\n",
    "    start=time()\n",
    "    optimize!(model)\n",
    "\n",
    "    while true\n",
    "        # We store the incumbent solution\n",
    "        next = [findfirst(x -> x > 0.5, value.(x[i, :])) for i = 1:n]\n",
    "        # Note: checking for >0.5 is conservative (x is binary!) but it avoids numerical errors\n",
    "        subtours = find_subtours(next)\n",
    "        println(\"Found $(length(subtours)) subtours after $(time() - start) seconds\")\n",
    "        if length(subtours) == 1 # only one cycle, the TSP solution\n",
    "            solvetime = time() - start\n",
    "            return solvetime, objective_value(model)\n",
    "        else\n",
    "            # eliminate subtours\n",
    "            for subtour in subtours\n",
    "                @constraint(model, sum(x[i, j] for i=subtour, j=setdiff(1:n, subtour)) >= 1)\n",
    "                @constraint(model, sum(x[i, j] for i=setdiff(1:n, subtour), j=subtour) >= 1)\n",
    "            end\n",
    "        end\n",
    "        optimize!(model)\n",
    "        time() - start > time_limit_seconds && return solvetime, objective_value(model)\n",
    "    end\n",
    "end"
   ]
  },
  {
   "cell_type": "code",
   "execution_count": null,
   "metadata": {},
   "outputs": [],
   "source": [
    "solvetime52_iterative, obj52_iterative = solve_iterative(dist52, verbose=false, eliminate_length_2=false)\n",
    "println(\"Runtime: $solvetime52_iterative seconds\")\n",
    "println(\"Objective: $obj52_iterative\")"
   ]
  },
  {
   "cell_type": "markdown",
   "metadata": {},
   "source": [
    "Now let's try that 76-city instance. Remember it didn't solve in one minute using the MTZ formulation."
   ]
  },
  {
   "cell_type": "code",
   "execution_count": null,
   "metadata": {},
   "outputs": [],
   "source": [
    "solvetime76_iterative, obj76_iterative = solve_iterative(dist76, verbose=false,\n",
    "                                                         eliminate_length_2=false)\n",
    "println(\"Runtime: $solvetime76_iterative seconds\")\n",
    "println(\"Objective: $obj76_iterative\")"
   ]
  },
  {
   "cell_type": "markdown",
   "metadata": {},
   "source": [
    "Let's try to solve even larger instances! This one has 280 locations."
   ]
  },
  {
   "cell_type": "code",
   "execution_count": null,
   "metadata": {},
   "outputs": [],
   "source": [
    "dist280 = getDistances(\"tsp/a280.tsp\")\n",
    "solvetime280_iterative, obj280_iterative = solve_iterative(dist280, verbose=false);\n",
    "println(\"Runtime: $solvetime280_iterative seconds\")\n",
    "println(\"Objective: $obj280_iterative\")"
   ]
  },
  {
   "cell_type": "code",
   "execution_count": null,
   "metadata": {},
   "outputs": [],
   "source": []
  }
 ],
 "metadata": {
  "@webio": {
   "lastCommId": null,
   "lastKernelId": null
  },
  "kernelspec": {
   "display_name": "Julia 1.5.3",
   "language": "julia",
   "name": "julia-1.5"
  },
  "language_info": {
   "file_extension": ".jl",
   "mimetype": "application/julia",
   "name": "julia",
   "version": "1.5.3"
  }
 },
 "nbformat": 4,
 "nbformat_minor": 4
}
