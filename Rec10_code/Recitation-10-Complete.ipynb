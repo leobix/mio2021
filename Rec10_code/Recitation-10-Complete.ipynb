{
 "cells": [
  {
   "cell_type": "markdown",
   "metadata": {},
   "source": [
    "# Recitation 10: Column generation and vehicle routing\n",
    "\n",
    "Today we will spend some time thinking about and implementing column generation, in the particular context of vehicle routing problems. Given time, we will also think about heuristic ways to solve vehicle routing problems."
   ]
  },
  {
   "cell_type": "code",
   "execution_count": null,
   "metadata": {},
   "outputs": [],
   "source": [
    "using Plots, Random, LinearAlgebra, Printf"
   ]
  },
  {
   "cell_type": "markdown",
   "metadata": {},
   "source": [
    "## 1 - Vehicle routing problems\n",
    "\n",
    "In an earlier recitation, we talked about the traveling salesman problem (TSP), where the goal is to find a minimum-length tour visiting a set of locations. The TSP has many \"cousins\", i.e., similar problems with additional complexity to represent practical considerations. One family of such problems are called vehicle routing problems (VRP), and seek to find the optimal set of routes for a *fleet* of vehicles to service a set of customers.\n",
    "\n",
    "Some examples include:\n",
    "- Open vehicle routing problem (OVRP): we are given a set of customers that must each be visited exactly once by some vehicle. All routes start from a customer location and must end at a single location, called the \"depot\". An example of an application of this setting is car-pooling.\n",
    "- Capacitated vehicle routing problem (CVRP): in this setting, routes must begin and end at the depot, and each customer $i$ is now associated with a demand $d_i$, such that the total demand along any route cannot excced the vehicle capacity $Q$. This is a simplified version of the problem many delivery services face.\n",
    "\n",
    "## 2 - Solving OVRP using column generation\n",
    "\n",
    "Let's generate a problem instance, with $N$ locations uniformly sampled from a square (side length $L$)"
   ]
  },
  {
   "cell_type": "code",
   "execution_count": null,
   "metadata": {},
   "outputs": [],
   "source": [
    "using JuMP, Gurobi, LightGraphs\n",
    "\n",
    "const GRB_ENV = Gurobi.Env()"
   ]
  },
  {
   "cell_type": "code",
   "execution_count": null,
   "metadata": {},
   "outputs": [],
   "source": [
    "N = 10\n",
    "L = 100"
   ]
  },
  {
   "cell_type": "markdown",
   "metadata": {},
   "source": [
    "We'll use the Euclidean metric for distances."
   ]
  },
  {
   "cell_type": "code",
   "execution_count": null,
   "metadata": {},
   "outputs": [],
   "source": [
    "Random.seed!(1234)\n",
    "locations = rand(N, 2) .* L\n",
    "locations = vcat(locations, [L/2 L/2])\n",
    "dist = [norm(locations[i, :] .- locations[j, :]) for i =1:N+1, j = 1:N+1];"
   ]
  },
  {
   "cell_type": "markdown",
   "metadata": {},
   "source": [
    "Let's plot this example to get a sense of what it looks like!"
   ]
  },
  {
   "cell_type": "code",
   "execution_count": null,
   "metadata": {},
   "outputs": [],
   "source": [
    "plot(size=(500,500), xlim=(0, L), ylim=(0, L))\n",
    "scatter!(locations[1:N, 1], locations[1:N, 2], label=\"Customers\", legend=:topleft)\n",
    "scatter!(locations[[N+1], 1], locations[[N+1], 2], label=\"Depot\")"
   ]
  },
  {
   "cell_type": "markdown",
   "metadata": {},
   "source": [
    "Now we need to formulate the problem. \n",
    "\n",
    "Setup:\n",
    "- Let $\\mathcal{R}$ designate the set of ALL possible routes starting at some customer and ending at the depot.\n",
    "- Let $c_r$ designate the length of route $r\\in\\mathcal{R}$.\n",
    "- Let $\\mathcal{I}_r\\subseteq[N]$ designate the set of customers visited by route $r\\in\\mathcal{R}$.\n",
    "- For any customer $i\\in[N]$, we let $\\mathcal{R}_i\\subseteq\\mathcal{R}$ designate the subset of routes that visit customer $i$.\n",
    "\n",
    "Then we can formulate OVRP as the following set covering problem:\n",
    "\n",
    "$$\\begin{align}\n",
    "\\min\\quad &\\sum_{r\\in\\mathcal{R}}c_r y_r\\\\\n",
    "\\text{s.t.}\\quad & \\sum_{r\\in\\mathcal{R}_i}y_r \\ge 1 & \\forall i \\in [N]\\\\\n",
    "&y_r\\in\\{0,1\\} & \\forall t\\in\\mathcal{R}\n",
    "\\end{align}$$\n",
    "\n",
    "Note that we allow customers to be visited multiple times here. However, given a feasible solution that exhibits this behavior, we can always delete the extra visit and lower the total cost, so we won't worry too much about this.\n",
    "\n",
    "This formulation is so simple! But of course, the complexity is \"hidden\" in the exponential size of the set $\\mathcal{R}$. In fact, we cannot hope to formulate this problem explicitly as written.\n",
    "\n",
    "However, most routes in the set $\\mathcal{R}$ are useless! For example, consider a random route:"
   ]
  },
  {
   "cell_type": "code",
   "execution_count": null,
   "metadata": {},
   "outputs": [],
   "source": [
    "route = vcat(shuffle(1:N)[1:4], N+1)"
   ]
  },
  {
   "cell_type": "markdown",
   "metadata": {},
   "source": [
    "If we plot this, we see that no one in their right mind would recommend this route!"
   ]
  },
  {
   "cell_type": "code",
   "execution_count": null,
   "metadata": {},
   "outputs": [],
   "source": [
    "plot(size=(500,500), xlim=(0, L), ylim=(0, L))\n",
    "scatter!(locations[1:N, 1], locations[1:N, 2], label=\"\", legend=:topleft)\n",
    "scatter!(locations[[N+1], 1], locations[[N+1], 2], label=\"\")\n",
    "plot!(locations[route, 1], locations[route, 2], label=\"\")"
   ]
  },
  {
   "cell_type": "markdown",
   "metadata": {},
   "source": [
    "So clearly, we can get a good solution (maybe even an optimal one!) to the problem with a restricted set of routes.\n",
    "\n",
    "Let's consider the linear relaxation of the problem, denoted by (P):\n",
    "\n",
    "$$\\begin{align}\n",
    "\\min\\quad &\\sum_{r\\in\\mathcal{R}}c_r y_r\\\\\n",
    "\\text{s.t.}\\quad & \\sum_{r\\in\\mathcal{R}_i}y_r \\ge 1 & \\forall i \\in [N]\\\\\n",
    "&y_r\\ge 0 & \\forall r\\in\\mathcal{R}\n",
    "\\end{align}$$\n",
    "\n",
    "Notice that we've eliminated the upper bounds on $y_r$. It doesn't break the validity of the formulation, because from any solution with $y_r>1$, we can construct a feasible solution with $y_r'=1$ which lowers the total cost by $c_r(y_r-1)$.\n",
    "\n",
    "Now we can write down the dual, denoted by (D):\n",
    "$$\\begin{align}\n",
    "\\max\\quad & \\sum_{i=1}^N p_i\\\\\n",
    "\\text{s.t.}\\quad & \\sum_{i\\in\\mathcal{I}_r}p_i \\le c_r & \\forall r\\in\\mathcal{R}\\\\\n",
    "& p_i \\ge 0&\\forall i\\in [N]\n",
    "\\end{align}$$\n",
    "\n",
    "Assume we solve the main problem with a restricted set of routes  $\\mathcal{R}^k\\subset\\mathcal{R}$, and we get a primal feasible solution $y^k$, and a dual solution $p^k$. The solution $y^k$ is optimal in the full primal if the corresponding dual solution $p^k$ is feasible in the full dual.\n",
    "\n",
    "For dual feasibility, we require that $\\sum_{i\\in\\mathcal{I}_r}p^k_i\\le c_r$ for **every** route $r\\in\\mathcal{R}$. We can re-write this requirement as $c_r-\\sum_{i\\in\\mathcal{I}_r}p^k_i\\ge 0$. In other words, the **reduced cost** of each variable $y_r$ must be nonnegative.\n",
    "\n",
    "So we propose the following column generation algorithm:\n",
    "1. Solve (P) over a restricted set of routes $\\mathcal{R}^k$, obtain a primal solution $y^k$ and a dual solution $p^k$\n",
    "2. Find the route $r$ with the smallest reduced cost $\\bar{c} = c_r-\\sum_{i\\in\\mathcal{I}_r}p^k_i$\n",
    "3. If $\\bar{c}\\ge 0$, terminate. Otherwise add the corresponding $r$ to $\\mathcal{R}^k$ (obtaining $\\mathcal{R}^{k+1}$) and iterate.\n",
    "\n",
    "Let's start implementing this algorithm! First, we need an initial set of routes that will produce a feasible primal solution. An easy place to start is to just have each customer in its own route."
   ]
  },
  {
   "cell_type": "code",
   "execution_count": null,
   "metadata": {},
   "outputs": [],
   "source": [
    "\"Create initial set of routes and associated costs\"\n",
    "function initial_routes(distances::Matrix)\n",
    "    n = size(distances, 1) - 1 # number of customers\n",
    "    return [[i, n+1] for i in 1:n], distances[1:n, n+1]\n",
    "end"
   ]
  },
  {
   "cell_type": "markdown",
   "metadata": {},
   "source": [
    "Let's plot these initial routes!"
   ]
  },
  {
   "cell_type": "code",
   "execution_count": null,
   "metadata": {},
   "outputs": [],
   "source": [
    "plot(size=(500,500), xlim=(0, L), ylim=(0, L))\n",
    "scatter!(locations[1:N, 1], locations[1:N, 2], label=\"\", color=\"blue\", legend=:topleft)\n",
    "routes, costs = initial_routes(dist)\n",
    "for route in routes\n",
    "    plot!(locations[route, 1], locations[route, 2], label=\"\", color=\"black\")\n",
    "end\n",
    "scatter!(locations[[N+1], 1], locations[[N+1], 2], label=\"\", color=\"orange\")"
   ]
  },
  {
   "cell_type": "markdown",
   "metadata": {},
   "source": [
    "Second, we need a way to compute the smallest reduced cost, i.e.\n",
    "$$(\\min_{r\\in\\mathcal{R}}c_r - \\sum_{i\\in\\mathcal{I}_r}p_i^k)$$\n",
    "\n",
    "This is a kind of **shortest path problem**, where the distance between nodes $i$ and $j$ is the true distance $d_{ij}$, **minus** the dual variable associated with $i$. We can formulate it as follows:\n",
    "\n",
    "$$\\begin{align}\n",
    "\\min\\quad & \\sum_{i=1}^{N+1}\\sum_{j=1}^{N+1}(d_{ij} - p_i^k)x_{ij}\\\\\n",
    "\\text{s.t.}\\quad & \\sum_{j=1}^{N+1}x_{ji} + z_i = \\sum_{j=1}^{N+1}x_{ij}&\\forall i\\in[N]\\\\\n",
    "& \\sum_{j=1}^{N+1}x_{ij}\\le 1 & \\forall i \\in [N]\\\\\n",
    "& x_{ii}=0 & \\forall i \\in [N]\\\\\n",
    "& \\sum_{j=1}^{N+1}x_{j,N+1} = 1\\\\\n",
    "& \\sum_{j=1}^{N+1}x_{N+1,j} = 0\\\\\n",
    "& \\sum_{(i, j) \\in C} x_{ij} \\le |C| - 1 & \\forall C \\subseteq [N]\\\\\n",
    "& x_{ij}\\in\\{0,1\\}, z_i\\in\\{0,1\\}\\\\\n",
    "\\end{align}$$\n",
    "\n",
    "The first constraint is flow conservation, the second limits the flow through each customer to 1, the third removes self-edges, the fourth ensures the route visits the depot, and the fifth ensures the depot is terminal. The sixth constraint eliminates subtours (which by construction do not include the depot).\n",
    "\n",
    "This subproblem is not that simple! In fact, the formulation sleuths among you will probably notice that if we change the right-hand side of the fourth constraint, we are actually formulating the full OVRP. However, this no longer holds for \"harder\" vehicle routing problems (e.g. CVRP).\n",
    "\n",
    "We can implement this formulation below. Note that we need to include a callback to deal with the exponential number of subtour elimination constraints."
   ]
  },
  {
   "cell_type": "code",
   "execution_count": null,
   "metadata": {},
   "outputs": [],
   "source": [
    "\"\"\"\n",
    "    Given the induced graph as an adjacency list (i.e., next[i] is the next node to visit after node i),\n",
    "        compute all subtours.\n",
    "    Return them as a list of lists of nodes in the same component\n",
    "\"\"\"\n",
    "function find_subtours(next::Vector{Int})\n",
    "    n = length(next)\n",
    "    g = DiGraph(n)\n",
    "    for i = 1:n\n",
    "        if next[i] != 0\n",
    "            add_edge!(g, i, next[i])\n",
    "        end\n",
    "    end\n",
    "    components = strongly_connected_components(g)\n",
    "    return sort(components, by=length)\n",
    "end\n",
    "\n",
    "\"Find next column to add, returns route, cost, and whether or not the reduced cost is nonnegative\"\n",
    "function new_route(distances::Matrix, dual_variables::Vector)\n",
    "    n = size(distances, 1) - 1 # number of customers\n",
    "    @assert length(dual_variables) == n\n",
    "    push!(dual_variables, 0) # depot\n",
    "    model = Model(() -> Gurobi.Optimizer(GRB_ENV))\n",
    "    set_optimizer_attributes(model, \"TimeLimit\" => 10, \"OutputFlag\" => 0)\n",
    "    @variable(model, x[i=1:(n+1), j=1:(n+1)], Bin)\n",
    "    @variable(model, z[i=1:n], Bin)\n",
    "    @constraint(model, flow_conservation[i = 1:n],\n",
    "                sum(x[j, i] for j = 1:(n+1)) + z[i] == sum(x[i, j] for j = 1:(n+1)))\n",
    "    @constraint(model, max_flow[i = 1:n],\n",
    "                sum(x[i, j] for j = 1:(n+1)) <= 1)\n",
    "    @constraint(model, no_self_flow[i = 1:(n+1)], x[i, i] == 0)\n",
    "    @constraint(model, into_depot, sum(x[j, n+1] for j = 1:(n+1)) == 1)\n",
    "    @constraint(model, out_of_depot, sum(x[n+1, j] for j = 1:(n+1)) == 0)\n",
    "    @objective(model, Min, sum(x[i, j] * (distances[i, j] - dual_variables[i]) for i = 1:(n+1), j=1:(n+1)))\n",
    "        \n",
    "    \"Define the callback function\"\n",
    "    function eliminate_subtours(cb_data)\n",
    "        status = callback_node_status(cb_data, model)\n",
    "        if status == MOI.CALLBACK_NODE_STATUS_INTEGER\n",
    "            # get value of current solution\n",
    "            next = zeros(Int, n + 1)\n",
    "            for i = 1:(n+1), j=1:(n+1)\n",
    "                if callback_value(cb_data, x[i, j]) > 0.5\n",
    "                    next[i] = j\n",
    "                end\n",
    "            end\n",
    "            subtours = find_subtours(next)\n",
    "            # solve dual subproblems\n",
    "            for subtour in subtours\n",
    "                if length(subtour) == 1 || n + 1 in subtour\n",
    "                    continue\n",
    "                else\n",
    "                    cut = @build_constraint(sum(x[subtour[i], subtour[i+1]] for i = 1:(length(subtour) - 1)) +\n",
    "                                            x[subtour[length(subtour)], subtour[1]] <= length(subtour) - 1)\n",
    "                    MOI.submit(model, MOI.LazyConstraint(cb_data), cut)\n",
    "                end\n",
    "            end\n",
    "        end\n",
    "    end\n",
    "    # set callback function and attach to model\n",
    "    MOI.set(model, MOI.LazyConstraintCallback(), eliminate_subtours)\n",
    "    optimize!(model)\n",
    "    \n",
    "    next = zeros(Int, n + 1)\n",
    "    for i = 1:(n+1), j=1:(n+1)\n",
    "        if value(x[i, j]) > 0.5\n",
    "            next[i] = j\n",
    "        end\n",
    "    end\n",
    "    \n",
    "    route = [argmax(value.(z))]\n",
    "    while route[end] != n+1\n",
    "        push!(route, argmax(value.(x[route[end], :])))\n",
    "    end\n",
    "    reduced_cost = sum(distances[route[i], route[i+1]] - dual_variables[route[i]] for i = 1:(length(route)-1))\n",
    "    return route, sum(distances[route[i], route[i+1]] for i = 1:(length(route)-1)), reduced_cost\n",
    "end"
   ]
  },
  {
   "cell_type": "markdown",
   "metadata": {},
   "source": [
    "Whew! We implemented the subproblem, which was not easy. Now, the main problem should be a piece of cake!"
   ]
  },
  {
   "cell_type": "code",
   "execution_count": null,
   "metadata": {},
   "outputs": [],
   "source": [
    "\"Solve OVRP relaxation using column generation\"\n",
    "function ovrp(distances::Matrix; T::Int = 10, verbose::Bool = false)\n",
    "    n = size(distances, 1) - 1 # number of customers\n",
    "    routes, costs = initial_routes(dist)\n",
    "    t = 0\n",
    "    while true\n",
    "        t += 1\n",
    "        model = Model(() -> Gurobi.Optimizer(GRB_ENV))\n",
    "        set_optimizer_attributes(model, \"TimeLimit\" => 10, \"OutputFlag\" => 0)\n",
    "        @variable(model, y[r = eachindex(routes)] >= 0)\n",
    "        @constraint(model, visit_customer[i=1:n],\n",
    "                    sum(y[r] for r = eachindex(routes) if i in routes[r]) >= 1)\n",
    "        @objective(model, Min, sum(costs[r] * y[r] for r = eachindex(routes)))\n",
    "        optimize!(model)\n",
    "        p = [-JuMP.shadow_price(visit_customer[i]) for i=1:n]\n",
    "        route, cost, reduced_cost = new_route(distances, p)\n",
    "        verbose && @printf(\"Found column with reduced cost: %.2g\\n\", reduced_cost)\n",
    "        if reduced_cost > -1e-6 || t > T \n",
    "            return [routes[r] for r = eachindex(routes) if value(y[r]) >= 0.1],\n",
    "                   sum(costs[r] for r = eachindex(routes) if value(y[r]) >= 0.1)\n",
    "        end\n",
    "        push!(routes, route); push!(costs, cost)\n",
    "    end\n",
    "end"
   ]
  },
  {
   "cell_type": "markdown",
   "metadata": {},
   "source": [
    "Now, let's try to solve the problem, and look at the solution we obtain!"
   ]
  },
  {
   "cell_type": "code",
   "execution_count": null,
   "metadata": {
    "scrolled": false
   },
   "outputs": [],
   "source": [
    "routes, total_cost = ovrp(dist, T=100, verbose = true)\n",
    "println(\"Initial cost: \", sum(dist[1:N, N+1]))\n",
    "println(\"Final cost: \", total_cost)\n",
    "p = plot(size=(500,500), xlim=(0, L), ylim=(0, L))\n",
    "p = scatter!(locations[1:N, 1], locations[1:N, 2], label=\"\", legend=:topleft)\n",
    "for route in routes\n",
    "    p = plot!(locations[route, 1], locations[route, 2], label=\"\", color=\"black\")\n",
    "end\n",
    "p = scatter!(locations[[N+1], 1], locations[[N+1], 2], label=\"\")"
   ]
  },
  {
   "cell_type": "markdown",
   "metadata": {},
   "source": [
    "In a relatively small number of steps, we converge to this solution, which is optimal.\n",
    "\n",
    "This is great news! Let's try a larger problem."
   ]
  },
  {
   "cell_type": "code",
   "execution_count": null,
   "metadata": {},
   "outputs": [],
   "source": [
    "N = 20\n",
    "L = 100"
   ]
  },
  {
   "cell_type": "code",
   "execution_count": null,
   "metadata": {},
   "outputs": [],
   "source": [
    "Random.seed!(1234)\n",
    "locations = rand(N, 2) .* L\n",
    "locations = vcat(locations, [L/2 L/2])\n",
    "dist = [norm(locations[i, :] .- locations[j, :]) for i =1:N+1, j = 1:N+1];\n",
    "plot(size=(500,500), xlim=(0, L), ylim=(0, L))\n",
    "scatter!(locations[1:N, 1], locations[1:N, 2], label=\"Customers\", legend=:topleft)\n",
    "scatter!(locations[[N+1], 1], locations[[N+1], 2], label=\"Depot\")"
   ]
  },
  {
   "cell_type": "markdown",
   "metadata": {},
   "source": [
    "Now let's solve it using column generation!"
   ]
  },
  {
   "cell_type": "code",
   "execution_count": null,
   "metadata": {},
   "outputs": [],
   "source": [
    "routes, total_cost = ovrp(dist, T=2, verbose = true)\n",
    "println(\"Initial cost: \", sum(dist[1:N, N+1]))\n",
    "println(\"Final cost: \", total_cost)\n",
    "p = plot(size=(500,500), xlim=(0, L), ylim=(0, L))\n",
    "p = scatter!(locations[1:N, 1], locations[1:N, 2], label=\"\", legend=:topleft)\n",
    "for route in routes\n",
    "    p = plot!(locations[route, 1], locations[route, 2], label=\"\", color=\"black\")\n",
    "end\n",
    "p = scatter!(locations[[N+1], 1], locations[[N+1], 2], label=\"\")"
   ]
  },
  {
   "cell_type": "markdown",
   "metadata": {},
   "source": [
    "It looks like we quickly pivot away from the bad initial solution, but then we get stuck on the single-route solution above, which is clearly suboptimal.\n",
    "\n",
    "This is frustrating! What is the point of adding all these columns if we just end up picking the route we added at the very beginning?\n",
    "\n",
    "When we add columns, we are also improving the **lower bound**. So even though we make no primal progress, we are always making dual progress!\n",
    "\n",
    "Let's modify our OVRP solver to report upper and lower bounds at each iteration.\n",
    "\n",
    "- **Upper bound:** this part is easy, we just report the objective of our current feasible solution.\n",
    "- **Lower bound:** this part is trickier. Here, we need to use the fact that in the optimal solution, we will have no more than $N$ routes, so $\\sum_{r\\in\\mathcal{R}}y^*_r \\le N$. Then, given a feasible solution with objective $\\hat{c}$ and the smallest reduced cost $\\bar{c}$, the most improvement we can get on $\\hat{c}$ is $$\\hat{c} + \\sum_{r\\in\\mathcal{R}}\\bar{c}y^*_r \\ge \\hat{c} + \\bar{c}N$$\n",
    "\n",
    "(remember $\\bar{c}$ is negative!)"
   ]
  },
  {
   "cell_type": "code",
   "execution_count": null,
   "metadata": {},
   "outputs": [],
   "source": [
    "\"Solve OVRP relaxation using column generation\"\n",
    "function ovrp_progress(distances::Matrix; T::Int = 10, verbose::Bool = false)\n",
    "    n = size(distances, 1) - 1 # number of customers\n",
    "    routes, costs = initial_routes(dist)\n",
    "    t = 0\n",
    "    upper_bounds = []\n",
    "    lower_bounds = []\n",
    "    while true\n",
    "        t += 1\n",
    "        model = Model(() -> Gurobi.Optimizer(GRB_ENV))\n",
    "        set_optimizer_attributes(model, \"TimeLimit\" => 10, \"OutputFlag\" => 0)\n",
    "        @variable(model, y[r = eachindex(routes)] >= 0)\n",
    "        @constraint(model, visit_customer[i=1:n],\n",
    "                    sum(y[r] for r = eachindex(routes) if i in routes[r]) >= 1)\n",
    "        @objective(model, Min, sum(costs[r] * y[r] for r = eachindex(routes)))\n",
    "        optimize!(model)\n",
    "        push!(upper_bounds, objective_value(model))\n",
    "        p = [-JuMP.shadow_price(visit_customer[i]) for i=1:n]\n",
    "        route, cost, reduced_cost = new_route(distances, p)\n",
    "        verbose && @printf(\"Found column with reduced cost: %.2g\\n\", reduced_cost)\n",
    "        push!(lower_bounds, objective_value(model) + n * reduced_cost)\n",
    "        if reduced_cost > -1e-6 || t > T \n",
    "            return [routes[r] for r = eachindex(routes) if value(y[r]) >= 0.1], objective_value(model),\n",
    "                   upper_bounds, lower_bounds\n",
    "        end\n",
    "        push!(routes, route); push!(costs, cost)\n",
    "    end\n",
    "end"
   ]
  },
  {
   "cell_type": "markdown",
   "metadata": {},
   "source": [
    "Now, let's try again on our 20-city instance!"
   ]
  },
  {
   "cell_type": "code",
   "execution_count": null,
   "metadata": {},
   "outputs": [],
   "source": [
    "routes, total_cost, upper_bounds, lower_bounds = ovrp_progress(dist, T=10, verbose = false)\n",
    "plot(0:(length(upper_bounds) - 1), [upper_bounds, lower_bounds], legend=:bottomright, label=[\"Upper\" \"Lower\"])"
   ]
  },
  {
   "cell_type": "markdown",
   "metadata": {},
   "source": [
    "Notice that unlike Benders decomposition, there are no monotonic guarantees on the lower bound, but there is a monotonic guarantee on the upper bound. Convergence is not great!"
   ]
  },
  {
   "cell_type": "markdown",
   "metadata": {},
   "source": [
    "## 3 - Solving CVRP using column generation\n",
    "\n",
    "As we mentioned earlier, OVRP is kind of \"easy\" and using column generation is probably overkill. But we'll see that we can get a much bigger edge on the harder problem of CVRP.\n",
    "\n",
    "We're going to consider a super-simple version of CVRP, where each customer has a demand of 1, and the capacity of the vehicle is $Q\\ge 1$. Our initial routes remain feasible. \n",
    "\n",
    "All we need to do is modify the subproblem so that it only finds feasible routes, i.e. routes with less than $Q$ customers, or equivalently, less than $Q$ edges."
   ]
  },
  {
   "cell_type": "code",
   "execution_count": null,
   "metadata": {},
   "outputs": [],
   "source": [
    "\"Find next column to add, returns route, cost, and whether or not the reduced cost is nonnegative\"\n",
    "function new_route_cap(distances::Matrix, dual_variables::Vector, Q::Int=length(dual_variables))\n",
    "    n = size(distances, 1) - 1 # number of customers\n",
    "    @assert length(dual_variables) == n\n",
    "    push!(dual_variables, 0) # depot\n",
    "    model = Model(() -> Gurobi.Optimizer(GRB_ENV))\n",
    "    set_optimizer_attributes(model, \"TimeLimit\" => 10, \"OutputFlag\" => 0)\n",
    "    @variable(model, x[i=1:(n+1), j=1:(n+1)], Bin)\n",
    "    @variable(model, z[i=1:n], Bin)\n",
    "    @constraint(model, flow_conservation[i = 1:n],\n",
    "                sum(x[j, i] for j = 1:(n+1)) + z[i] == sum(x[i, j] for j = 1:(n+1)))\n",
    "    @constraint(model, max_flow[i = 1:n],\n",
    "                sum(x[i, j] for j = 1:(n+1)) <= 1)\n",
    "    @constraint(model, no_self_flow[i = 1:(n+1)], x[i, i] == 0)\n",
    "    @constraint(model, into_depot, sum(x[j, n+1] for j = 1:(n+1)) == 1)\n",
    "    @constraint(model, out_of_depot, sum(x[n+1, j] for j = 1:(n+1)) == 0)\n",
    "    @objective(model, Min, sum(x[i, j] * (distances[i, j] - dual_variables[i]) for i = 1:(n+1), j=1:(n+1)))\n",
    "        \n",
    "    # CAPACITY CONSTRAINT\n",
    "    @constraint(model, sum(x[i, j] for i = 1:(n+1), j=1:(n+1)) <= Q)\n",
    "     \n",
    "    \"Define the callback function\"\n",
    "    function eliminate_subtours(cb_data)\n",
    "        status = callback_node_status(cb_data, model)\n",
    "        if status == MOI.CALLBACK_NODE_STATUS_INTEGER\n",
    "            # get value of current solution\n",
    "            next = zeros(Int, n + 1)\n",
    "            for i = 1:(n+1), j=1:(n+1)\n",
    "                if callback_value(cb_data, x[i, j]) > 0.5\n",
    "                    next[i] = j\n",
    "                end\n",
    "            end\n",
    "            subtours = find_subtours(next)\n",
    "            # solve dual subproblems\n",
    "            for subtour in subtours\n",
    "                if length(subtour) == 1 || n + 1 in subtour\n",
    "                    continue\n",
    "                else\n",
    "                    cut = @build_constraint(sum(x[subtour[i], subtour[i+1]] for i = 1:(length(subtour) - 1)) +\n",
    "                                            x[subtour[length(subtour)], subtour[1]] <= length(subtour) - 1)\n",
    "                    MOI.submit(model, MOI.LazyConstraint(cb_data), cut)\n",
    "                end\n",
    "            end\n",
    "        end\n",
    "    end\n",
    "    # set callback function and attach to model\n",
    "    MOI.set(model, MOI.LazyConstraintCallback(), eliminate_subtours)\n",
    "    optimize!(model)\n",
    "    \n",
    "    next = zeros(Int, n + 1)\n",
    "    for i = 1:(n+1), j=1:(n+1)\n",
    "        if value(x[i, j]) > 0.5\n",
    "            next[i] = j\n",
    "        end\n",
    "    end\n",
    "    \n",
    "    route = [argmax(value.(z))]\n",
    "    while route[end] != n+1\n",
    "        push!(route, argmax(value.(x[route[end], :])))\n",
    "    end\n",
    "    reduced_cost = sum(distances[route[i], route[i+1]] - dual_variables[route[i]] for i = 1:(length(route)-1))\n",
    "    return route, sum(distances[route[i], route[i+1]] for i = 1:(length(route)-1)), reduced_cost\n",
    "end"
   ]
  },
  {
   "cell_type": "markdown",
   "metadata": {},
   "source": [
    "And we correspondingly change the main problem:"
   ]
  },
  {
   "cell_type": "code",
   "execution_count": null,
   "metadata": {},
   "outputs": [],
   "source": [
    "\"Solve OVRP relaxation using column generation\"\n",
    "function cvrp_progress(distances::Matrix, Q::Int; T::Int = 10, verbose::Bool = false)\n",
    "    n = size(distances, 1) - 1 # number of customers\n",
    "    routes, costs = initial_routes(dist)\n",
    "    t = 0\n",
    "    upper_bounds = []\n",
    "    lower_bounds = []\n",
    "    while true\n",
    "        t += 1\n",
    "        model = Model(() -> Gurobi.Optimizer(GRB_ENV))\n",
    "        set_optimizer_attributes(model, \"TimeLimit\" => 10, \"OutputFlag\" => 0)\n",
    "        @variable(model, y[r = eachindex(routes)] >= 0)\n",
    "        @constraint(model, visit_customer[i=1:n],\n",
    "                    sum(y[r] for r = eachindex(routes) if i in routes[r]) >= 1)\n",
    "        @objective(model, Min, sum(costs[r] * y[r] for r = eachindex(routes)))\n",
    "        optimize!(model)\n",
    "        push!(upper_bounds, objective_value(model))\n",
    "        p = [-JuMP.shadow_price(visit_customer[i]) for i=1:n]\n",
    "        route, cost, reduced_cost = new_route_cap(distances, p, Q)\n",
    "        verbose && @printf(\"Found column with reduced cost: %.2g\\n\", reduced_cost)\n",
    "        push!(lower_bounds, objective_value(model) + n * reduced_cost)\n",
    "        if reduced_cost > -1e-6 || t > T \n",
    "            return [routes[r] for r = eachindex(routes) if value(y[r]) >= 0.1], objective_value(model),\n",
    "                   upper_bounds, lower_bounds\n",
    "        end\n",
    "        push!(routes, route); push!(costs, cost)\n",
    "    end\n",
    "end"
   ]
  },
  {
   "cell_type": "markdown",
   "metadata": {},
   "source": [
    "Let's try it on our 20-city example."
   ]
  },
  {
   "cell_type": "code",
   "execution_count": null,
   "metadata": {},
   "outputs": [],
   "source": [
    "Q = 4\n",
    "@time routes, total_cost, upper, lower = cvrp_progress(dist, Q, T=100, verbose = true)\n",
    "println(\"Initial cost: \", sum(dist[1:N, N+1]))\n",
    "println(\"Final cost: \", total_cost)"
   ]
  },
  {
   "cell_type": "markdown",
   "metadata": {},
   "source": [
    "Let's look at the progress curve:"
   ]
  },
  {
   "cell_type": "code",
   "execution_count": null,
   "metadata": {},
   "outputs": [],
   "source": [
    "plot(0:(length(upper) - 1), [upper, lower], legend=:bottomright, label=[\"Upper\" \"Lower\"])"
   ]
  },
  {
   "cell_type": "markdown",
   "metadata": {},
   "source": [
    "And let's observe the solution"
   ]
  },
  {
   "cell_type": "code",
   "execution_count": null,
   "metadata": {},
   "outputs": [],
   "source": [
    "p = plot(size=(500,500), xlim=(0, L), ylim=(0, L))\n",
    "p = scatter!(locations[1:N, 1], locations[1:N, 2], label=\"\", legend=:topleft)\n",
    "for route in routes\n",
    "    p = plot!(locations[route, 1], locations[route, 2], label=\"\", color=\"black\")\n",
    "end\n",
    "p = scatter!(locations[[N+1], 1], locations[[N+1], 2], label=\"\")"
   ]
  },
  {
   "cell_type": "markdown",
   "metadata": {},
   "source": [
    "This solution makes sense, but we do observe some funky routes. Recall that all this time, we have been solving the LP relaxation! So we are paying the price of keeping all routes with a nonzero (but possibly fractional) selection variable $y_r$."
   ]
  },
  {
   "cell_type": "markdown",
   "metadata": {},
   "source": [
    "## 4 - Restoring integrality\n",
    "\n",
    "That was all very nice, but we still don't have an integral solution! What should we do about that?\n",
    "\n",
    "Two approaches:\n",
    "- integrate the pricing subproblem into the branch and bound tree. This is called \"branch and price\", it is the state of the art, but also hard to implement. We will discuss in lecture next week.\n",
    "- use heuristics!\n",
    "\n",
    "The simplest heuristic we can use is \"price and branch\". We simply keep adding columns to the relaxation until we no longer can, then we solve an integer program over the columns we've added.\n",
    "\n",
    "We note that this heuristic will produce a feasible solution because of the initial routes we've chosen, but in general, it may not find a feasible solution!\n",
    "\n",
    "Let's implement it for CVRP:"
   ]
  },
  {
   "cell_type": "code",
   "execution_count": null,
   "metadata": {},
   "outputs": [],
   "source": [
    "\"Solve OVRP relaxation using column generation\"\n",
    "function cvrp_progress_integral(distances::Matrix, Q::Int; T::Int = 10, verbose::Bool = false)\n",
    "    n = size(distances, 1) - 1 # number of customers\n",
    "    routes, costs = initial_routes(dist)\n",
    "    t = 0\n",
    "    upper_bounds = []\n",
    "    lower_bounds = []\n",
    "    while true\n",
    "        t += 1\n",
    "        model = Model(() -> Gurobi.Optimizer(GRB_ENV))\n",
    "        set_optimizer_attributes(model, \"TimeLimit\" => 10, \"OutputFlag\" => 0)\n",
    "        @variable(model, y[r = eachindex(routes)] >= 0)\n",
    "        @constraint(model, visit_customer[i=1:n],\n",
    "                    sum(y[r] for r = eachindex(routes) if i in routes[r]) >= 1)\n",
    "        @objective(model, Min, sum(costs[r] * y[r] for r = eachindex(routes)))\n",
    "        optimize!(model)\n",
    "        push!(upper_bounds, objective_value(model))\n",
    "        p = [-JuMP.shadow_price(visit_customer[i]) for i=1:n]\n",
    "        route, cost, reduced_cost = new_route_cap(distances, p, Q)\n",
    "        verbose && @printf(\"Found column with reduced cost: %.2g\\n\", reduced_cost)\n",
    "        push!(lower_bounds, objective_value(model) + n * reduced_cost)\n",
    "        if reduced_cost > -1e-6 || t > T\n",
    "            model = Model(() -> Gurobi.Optimizer(GRB_ENV))\n",
    "            set_optimizer_attributes(model, \"TimeLimit\" => 10, \"OutputFlag\" => 0)\n",
    "            @variable(model, y[r = eachindex(routes)], Bin)\n",
    "            @constraint(model, visit_customer[i=1:n],\n",
    "                        sum(y[r] for r = eachindex(routes) if i in routes[r]) >= 1)\n",
    "            @objective(model, Min, sum(costs[r] * y[r] for r = eachindex(routes)))\n",
    "            optimize!(model)\n",
    "            return [routes[r] for r = eachindex(routes) if value(y[r]) >= 0.1], objective_value(model),\n",
    "                   upper_bounds, lower_bounds\n",
    "        end\n",
    "        push!(routes, route); push!(costs, cost)\n",
    "    end\n",
    "end"
   ]
  },
  {
   "cell_type": "code",
   "execution_count": null,
   "metadata": {},
   "outputs": [],
   "source": [
    "Q = 4\n",
    "@time routes, total_cost, upper, lower = cvrp_progress_integral(dist, Q, T=100, verbose = true)\n",
    "println(\"Initial cost: \", sum(dist[1:N, N+1]))\n",
    "println(\"Final cost: \", total_cost)\n",
    "println(\"Gap: \", (total_cost - lower[end]) / lower[end])"
   ]
  },
  {
   "cell_type": "markdown",
   "metadata": {},
   "source": [
    "We see that we terminated with a tiny gap, so this heuristic worked really well! Let's look at it plotted below:"
   ]
  },
  {
   "cell_type": "code",
   "execution_count": null,
   "metadata": {},
   "outputs": [],
   "source": [
    "plot(0:(length(upper) - 1), [upper, lower], legend=:bottomright, label=[\"Upper\" \"Lower\"])\n",
    "scatter!([length(upper) - 1], [total_cost], label=\"Integer solution\")"
   ]
  },
  {
   "cell_type": "markdown",
   "metadata": {},
   "source": [
    "And we can take a look at the solution:"
   ]
  },
  {
   "cell_type": "code",
   "execution_count": null,
   "metadata": {},
   "outputs": [],
   "source": [
    "p = plot(size=(500,500), xlim=(0, L), ylim=(0, L))\n",
    "p = scatter!(locations[1:N, 1], locations[1:N, 2], label=\"\", legend=:topleft)\n",
    "for route in routes\n",
    "    p = plot!(locations[route, 1], locations[route, 2], label=\"\", color=\"black\")\n",
    "end\n",
    "p = scatter!(locations[[N+1], 1], locations[[N+1], 2], label=\"\")"
   ]
  },
  {
   "cell_type": "markdown",
   "metadata": {},
   "source": [
    "## 5 - Large-scale neighborhood search\n",
    "\n",
    "In the last part of this recitation, we'll talk a little more about heuristics, since this is often a great way to solve practical problems.\n",
    "\n",
    "The one heuristic I want to talk about is large-scale neighborhood search (LNS). It has a fancy name, but it's really the simplest idea in the world:\n",
    "\n",
    "> My MIP doesn't solve? OK, I'll just fix most of the variables. Then I'll keep changing a few at a time until I converge.\n",
    "\n",
    "Let's apply this idea to the CVRP. Recall that its cousin the TSP has a simple formulation with a polynomial number of constraints, which doesn't scale very well. Let's write down the standard MTZ formulation for CVRP:"
   ]
  },
  {
   "cell_type": "code",
   "execution_count": null,
   "metadata": {},
   "outputs": [],
   "source": [
    "function cvrp_mtz(distances::Matrix, Q::Int; verbose::Bool=true)\n",
    "    n = size(distances, 1) - 1 # number of customers\n",
    "    model = Model(() -> Gurobi.Optimizer(GRB_ENV))\n",
    "    set_optimizer_attributes(model, \"TimeLimit\" => 5, \"OutputFlag\" => ifelse(verbose, 1, 0))\n",
    "    @variable(model, x[1:(n+1), 1:(n+1)], Bin)\n",
    "    # Minimize total distance, but don't count distance leaving the depot\n",
    "    @objective(model, Min,\n",
    "               sum(dist[i, j] * x[i, j] for i = 1:n, j = 1:(n+1)))\n",
    "    @constraint(model, one_successor[i=1:n],\n",
    "                sum(x[i, j] for j=1:(n+1)) == 1)\n",
    "    @constraint(model, flow_conservation[i=1:(n+1)],\n",
    "                sum(x[i, j] for j=1:(n+1)) == sum(x[j, i] for j=1:(n+1)))\n",
    "    @constraint(model, no_self_edges[i=1:(n+1)],\n",
    "                x[i, i] == 0)\n",
    "    # variable designates the number of customers that have been visited before this one\n",
    "    @variable(model, 0 <= u[i=1:n] <= Q)\n",
    "    @constraint(model, [i=1:n, j=1:n; j != i], u[j] >= u[i] + 1 - (Q) * (1 - x[i, j]))\n",
    "    # warm start the solution with our initial routes, as before\n",
    "    for i = 1:n\n",
    "        set_start_value(x[i,n+1], 1)\n",
    "        set_start_value(x[n+1, i], 1)\n",
    "    end\n",
    "    optimize!(model)\n",
    "    x_val = value.(x)\n",
    "    routes = []\n",
    "    while sum(x_val) > 1e-6\n",
    "        current = findfirst(a -> a > 0.5, x_val[n+1, :])\n",
    "        x_val[n+1, current] = 0.0\n",
    "        route = []\n",
    "        while true\n",
    "            push!(route, current)\n",
    "            current == n+1 && break\n",
    "            next = findfirst(a -> a > 0.5, x_val[current, :])\n",
    "            x_val[current, next] = 0.0\n",
    "            current = next\n",
    "        end\n",
    "        push!(routes, route)\n",
    "    end\n",
    "    return routes, objective_value(model)\n",
    "end "
   ]
  },
  {
   "cell_type": "markdown",
   "metadata": {},
   "source": [
    "Let's solve our 20-customer instance."
   ]
  },
  {
   "cell_type": "code",
   "execution_count": null,
   "metadata": {},
   "outputs": [],
   "source": [
    "routes, cost = cvrp_mtz(dist, 4)\n",
    "println(\"Total cost: \", cost)"
   ]
  },
  {
   "cell_type": "markdown",
   "metadata": {},
   "source": [
    "Looks like we did pretty well! Let's visualize the routes."
   ]
  },
  {
   "cell_type": "code",
   "execution_count": null,
   "metadata": {},
   "outputs": [],
   "source": [
    "p = plot(size=(500,500), xlim=(0, L), ylim=(0, L))\n",
    "p = scatter!(locations[1:N, 1], locations[1:N, 2], label=\"\", legend=:topleft)\n",
    "for route in routes\n",
    "    p = plot!(locations[route, 1], locations[route, 2], label=\"\", color=\"black\")\n",
    "end\n",
    "p = scatter!(locations[[N+1], 1], locations[[N+1], 2], label=\"\")"
   ]
  },
  {
   "cell_type": "markdown",
   "metadata": {},
   "source": [
    "This matches our price-and-branch solution from earlier. Can we scale up?"
   ]
  },
  {
   "cell_type": "code",
   "execution_count": null,
   "metadata": {},
   "outputs": [],
   "source": [
    "N = 40\n",
    "\n",
    "Random.seed!(1234)\n",
    "locations = rand(N, 2) .* L\n",
    "locations = vcat(locations, [L/2 L/2])\n",
    "dist = [norm(locations[i, :] .- locations[j, :]) for i =1:N+1, j = 1:N+1];\n",
    "plot(size=(500,500), xlim=(0, L), ylim=(0, L))\n",
    "scatter!(locations[1:N, 1], locations[1:N, 2], label=\"Customers\", legend=:topleft)\n",
    "scatter!(locations[[N+1], 1], locations[[N+1], 2], label=\"Depot\")"
   ]
  },
  {
   "cell_type": "code",
   "execution_count": null,
   "metadata": {},
   "outputs": [],
   "source": [
    "routes, total_cost = cvrp_mtz(dist, 4)\n",
    "println(\"Total cost: \", total_cost)"
   ]
  },
  {
   "cell_type": "markdown",
   "metadata": {},
   "source": [
    "Let's visualize:"
   ]
  },
  {
   "cell_type": "code",
   "execution_count": null,
   "metadata": {},
   "outputs": [],
   "source": [
    "p = plot(size=(500,500), xlim=(0, L), ylim=(0, L))\n",
    "p = scatter!(locations[1:N, 1], locations[1:N, 2], label=\"\", legend=:topleft)\n",
    "for route in routes\n",
    "    p = plot!(locations[route, 1], locations[route, 2], label=\"\", color=\"black\")\n",
    "end\n",
    "p = scatter!(locations[[N+1], 1], locations[[N+1], 2], label=\"\")"
   ]
  },
  {
   "cell_type": "markdown",
   "metadata": {},
   "source": [
    "This is visibly suboptimal (for example, see the left quadrant) and the gap is 30%.\n",
    "\n",
    "We would like to \"tweak\" the solution by \"destroying\" some of the edges, then \"repairing\" the solution, hopefully with lower cost!\n",
    "\n",
    "We can destroy the routes by removing $k$ edges, as follows:"
   ]
  },
  {
   "cell_type": "code",
   "execution_count": null,
   "metadata": {},
   "outputs": [],
   "source": [
    "function split_routes(route_list::Vector, k::Int)\n",
    "    num_edges = [length(r) - 1 for r in route_list]\n",
    "    total_edges = sum(num_edges)\n",
    "    cum_edges = cumsum(num_edges)\n",
    "    splits = sort(shuffle(1:total_edges)[1:k])\n",
    "    routes_to_split = [findfirst(x -> x >= s, cum_edges) for s in splits]\n",
    "    places_to_split = [splits[i] - (routes_to_split[i] == 1 ? 0 : cum_edges[routes_to_split[i] - 1])\n",
    "                       for i = eachindex(splits)]\n",
    "    new_routes = []\n",
    "    for (r, route) in enumerate(routes)\n",
    "        if r in routes_to_split\n",
    "            where_to_split = [places_to_split[i] for i = eachindex(places_to_split) if routes_to_split[i] == r]\n",
    "            start = 1\n",
    "            for j in where_to_split\n",
    "                push!(new_routes, route[start:j])\n",
    "                start = j + 1\n",
    "            end\n",
    "            push!(new_routes, route[start:end])\n",
    "        else\n",
    "            push!(new_routes, route)\n",
    "        end\n",
    "    end\n",
    "    return new_routes\n",
    "end"
   ]
  },
  {
   "cell_type": "markdown",
   "metadata": {},
   "source": [
    "For example, we can remove 7 edges."
   ]
  },
  {
   "cell_type": "code",
   "execution_count": null,
   "metadata": {},
   "outputs": [],
   "source": [
    "Random.seed!(1234)\n",
    "fragments = split_routes(routes, 7)"
   ]
  },
  {
   "cell_type": "markdown",
   "metadata": {},
   "source": [
    "The \"fragments\" look like this:"
   ]
  },
  {
   "cell_type": "code",
   "execution_count": null,
   "metadata": {},
   "outputs": [],
   "source": [
    "p = plot(size=(500,500), xlim=(0, L), ylim=(0, L))\n",
    "p = scatter!(locations[1:N, 1], locations[1:N, 2], label=\"\", legend=:topleft)\n",
    "for route in fragments\n",
    "    p = plot!(locations[route, 1], locations[route, 2], label=\"\", color=\"black\")\n",
    "end\n",
    "p = scatter!(locations[[N+1], 1], locations[[N+1], 2], label=\"\")"
   ]
  },
  {
   "cell_type": "markdown",
   "metadata": {},
   "source": [
    "We can then tweak our CVRP formulation to keep fragments intact and simply connect them optimally."
   ]
  },
  {
   "cell_type": "code",
   "execution_count": null,
   "metadata": {},
   "outputs": [],
   "source": [
    "function repair_cvrp_mtz(distances::Matrix, Q::Int, fragments::Vector; verbose::Bool=true)\n",
    "    n = size(distances, 1) - 1 # number of customers\n",
    "    model = Model(() -> Gurobi.Optimizer(GRB_ENV))\n",
    "    set_optimizer_attributes(model, \"TimeLimit\" => 5, \"OutputFlag\" => ifelse(verbose, 1, 0))\n",
    "    @variable(model, x[1:(n+1), 1:(n+1)], Bin)\n",
    "    # Minimize total distance, but don't count distance leaving the depot\n",
    "    @objective(model, Min,\n",
    "               sum(dist[i, j] * x[i, j] for i = 1:n, j = 1:(n+1)))\n",
    "    @constraint(model, one_successor[i=1:n],\n",
    "                sum(x[i, j] for j=1:(n+1)) == 1)\n",
    "    @constraint(model, flow_conservation[i=1:(n+1)],\n",
    "                sum(x[i, j] for j=1:(n+1)) == sum(x[j, i] for j=1:(n+1)))\n",
    "    @constraint(model, no_self_edges[i=1:(n+1)],\n",
    "                x[i, i] == 0)\n",
    "    # variable designates the number of customers that have been visited before this one\n",
    "    @variable(model, 0 <= u[i=1:n] <= Q)\n",
    "    @constraint(model, [i=1:n, j=1:n; j != i], u[j] >= u[i] + 1 - (Q) * (1 - x[i, j]))\n",
    "    # fix our route fragments\n",
    "    for fragment in fragments\n",
    "        for i = 1:(length(fragment)-1)\n",
    "            fix(x[fragment[i], fragment[i+1]], 1)\n",
    "        end\n",
    "    end\n",
    "    optimize!(model)\n",
    "    x_val = value.(x)\n",
    "    routes = []\n",
    "    while sum(x_val) > 1e-6\n",
    "        current = findfirst(a -> a > 0.5, x_val[n+1, :])\n",
    "        x_val[n+1, current] = 0.0\n",
    "        route = []\n",
    "        while true\n",
    "            push!(route, current)\n",
    "            current == n+1 && break\n",
    "            next = findfirst(a -> a > 0.5, x_val[current, :])\n",
    "            x_val[current, next] = 0.0\n",
    "            current = next\n",
    "        end\n",
    "        push!(routes, route)\n",
    "    end\n",
    "    return routes, objective_value(model)\n",
    "end "
   ]
  },
  {
   "cell_type": "markdown",
   "metadata": {},
   "source": [
    "Let's try to repair our fragments..."
   ]
  },
  {
   "cell_type": "code",
   "execution_count": null,
   "metadata": {},
   "outputs": [],
   "source": [
    "routes, cost = repair_cvrp_mtz(dist, 4, fragments)\n",
    "println(\"Total cost: \", cost)"
   ]
  },
  {
   "cell_type": "code",
   "execution_count": null,
   "metadata": {},
   "outputs": [],
   "source": [
    "p = plot(size=(500,500), xlim=(0, L), ylim=(0, L))\n",
    "p = scatter!(locations[1:N, 1], locations[1:N, 2], label=\"\", legend=:topleft)\n",
    "for route in routes\n",
    "    p = plot!(locations[route, 1], locations[route, 2], label=\"\", color=\"black\")\n",
    "end\n",
    "p = scatter!(locations[[N+1], 1], locations[[N+1], 2], label=\"\")"
   ]
  },
  {
   "cell_type": "markdown",
   "metadata": {},
   "source": [
    "Looks like nothing changed, but we can do this iteratively!"
   ]
  },
  {
   "cell_type": "code",
   "execution_count": null,
   "metadata": {},
   "outputs": [],
   "source": [
    "Q = 4\n",
    "routes, total_cost = cvrp_mtz(dist, Q, verbose=false)\n",
    "println(\"Cost: \", total_cost)\n",
    "Random.seed!(1234)\n",
    "@time for t = 1:10\n",
    "    fragments = split_routes(routes, 20)\n",
    "    routes, total_cost = repair_cvrp_mtz(dist, Q, fragments, verbose=false)\n",
    "    println(\"Cost: \", total_cost)\n",
    "end"
   ]
  },
  {
   "cell_type": "markdown",
   "metadata": {},
   "source": [
    "There is a tradeoff here: the more edges we remove, the larger the neighborhood we have to explore, and the more we will gain from an iteration, but the harder it becomes to optimize over the neighborhood."
   ]
  }
 ],
 "metadata": {
  "@webio": {
   "lastCommId": null,
   "lastKernelId": null
  },
  "kernelspec": {
   "display_name": "Julia 1.5.3",
   "language": "julia",
   "name": "julia-1.5"
  },
  "language_info": {
   "file_extension": ".jl",
   "mimetype": "application/julia",
   "name": "julia",
   "version": "1.5.3"
  }
 },
 "nbformat": 4,
 "nbformat_minor": 4
}
