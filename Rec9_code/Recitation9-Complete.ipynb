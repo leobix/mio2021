{
 "cells": [
  {
   "cell_type": "markdown",
   "metadata": {},
   "source": [
    "# Recitation 9: Benders decomposition for stochastic facility location"
   ]
  },
  {
   "cell_type": "code",
   "execution_count": null,
   "metadata": {},
   "outputs": [],
   "source": [
    "using DataFrames, CSV\n",
    "using JuMP, Gurobi\n",
    "using LinearAlgebra, Random, Printf\n",
    "using Plots\n",
    "\n",
    "const GRB_ENV = Gurobi.Env()"
   ]
  },
  {
   "cell_type": "markdown",
   "metadata": {},
   "source": [
    "## 1. Problem setup\n",
    "\n",
    "We want to solve the following stochastic facility location problem:\n",
    "\n",
    "$$\\begin{align}\n",
    "\\min\\quad & \\sum_{i=1}^Nc_ix_i+\\sum_{s=1}^Sp_s\\left(\\sum_{i=1}^N\\sum_{j=1}^Mt_{ij}y_{ij}^s + \\sum_{j=1}^Mq_jz_{j}^s\\right)\\\\\n",
    "\\text{s.t.}\\quad & \\sum_{i=1}^Ny_{ij}^s+z_j^s\\ge d_j^s & \\forall j\\in [M], s\\in [S]\\\\\n",
    "& \\sum_{j=1}^My_{ij}^s \\le C_ix_i&\\forall i\\in[N], s\\in[S]\\\\\n",
    "& \\mathbf{y,z}\\ge 0, \\mathbf{x}\\in\\{0,1\\}^N\n",
    "\\end{align}$$"
   ]
  },
  {
   "cell_type": "markdown",
   "metadata": {},
   "source": [
    "## 2. Data Setup\n",
    "\n",
    "We need to define quite a bit of data, so we're going to need to think a little more carefully than usual about how to store the data and parameters. First, we can use a NamedTuple to keep track of parameters."
   ]
  },
  {
   "cell_type": "code",
   "execution_count": null,
   "metadata": {
    "scrolled": true
   },
   "outputs": [],
   "source": [
    "function create_parameters(N, S)\n",
    "    parameters = (\n",
    "        seed = 1234,\n",
    "        num_facilities = N,\n",
    "        num_customers = N,\n",
    "        num_scenarios = S,\n",
    "        square_size = 100, # km\n",
    "        unit_cost_per_km = 0.1,\n",
    "        # demand generation\n",
    "        min_demand = 1000 / N, max_demand = 2000 / N,\n",
    "        # cost of unmet demand\n",
    "        min_unmet_cost = 10.0, max_unmet_cost = 20.0,\n",
    "        # cost of facility\n",
    "        min_facility_cost = 20.0, max_facility_cost = 30.0,\n",
    "        # capacity at each facility\n",
    "        min_capacity = 10.0, max_capacity = 30.0,\n",
    "    )\n",
    "    return parameters\n",
    "end"
   ]
  },
  {
   "cell_type": "markdown",
   "metadata": {},
   "source": [
    "Let's create a parameters object to play with!"
   ]
  },
  {
   "cell_type": "code",
   "execution_count": null,
   "metadata": {},
   "outputs": [],
   "source": [
    "params = create_parameters(100, 10)"
   ]
  },
  {
   "cell_type": "markdown",
   "metadata": {},
   "source": [
    "Now we can define a data type representing the facility location data. It's nice to have a single container with all the data we need. We could also have used a data frame, but the advantage of this approach is it can handle various shapes (e.g. a distance matrix and a cost vector)."
   ]
  },
  {
   "cell_type": "code",
   "execution_count": null,
   "metadata": {},
   "outputs": [],
   "source": [
    "\"All dimensions assumed to be self-consistent\"\n",
    "struct FacilityLocationData\n",
    "    \"List of facility coordinates as n_facilities x 2 matrix\"\n",
    "    facilities::Matrix\n",
    "    \"List of customer coordinates\"\n",
    "    customers::Matrix\n",
    "    \n",
    "    \"Facility capacities\"\n",
    "    capacity::Vector\n",
    "    \"Cost of unmet demand for each customer\"\n",
    "    cost_unmet_demand::Vector\n",
    "    \"Cost of building each facility\"\n",
    "    facility_cost::Vector\n",
    "    \"Transportation_cost (n_facilites x n_customers)\"\n",
    "    transportation_cost::Matrix\n",
    "    \n",
    "    \"Demand scenarios\"\n",
    "    demand::Matrix\n",
    "    \"Probability of each scenario\"\n",
    "    prob::Vector\n",
    "end\n",
    "\n",
    "\"Build from parameters\"\n",
    "function FacilityLocationData(p::NamedTuple)\n",
    "    Random.seed!(p.seed)\n",
    "    facilities = rand(p.num_facilities, 2) * p.square_size\n",
    "    customers = rand(p.num_customers, 2) * p.square_size\n",
    "    t_cost = [norm(facilities[i, :] .- customers[j, :])\n",
    "              for i = 1:p.num_facilities, j=1:p.num_customers] .* p.unit_cost_per_km\n",
    "    f_cost = rand(p.num_facilities) .* (p.max_facility_cost - p.min_facility_cost) .+ p.min_facility_cost\n",
    "    capacity = rand(p.num_facilities) .* (p.max_capacity - p.min_capacity) .+ p.min_capacity\n",
    "    unmet_cost = rand(p.num_customers) .* (p.max_unmet_cost - p.min_unmet_cost) .+ p.min_unmet_cost\n",
    "    demand = rand(p.num_customers, p.num_scenarios) .* (p.max_demand - p.min_demand) .+ p.min_demand\n",
    "    prob = 1/p.num_scenarios * ones(p.num_scenarios)\n",
    "    return FacilityLocationData(facilities, customers, capacity, unmet_cost, f_cost, t_cost, demand, prob)\n",
    "end"
   ]
  },
  {
   "cell_type": "markdown",
   "metadata": {},
   "source": [
    "OK, let's now create a facility location data object using our parameters, and plot some characteristics."
   ]
  },
  {
   "cell_type": "code",
   "execution_count": null,
   "metadata": {},
   "outputs": [],
   "source": [
    "data = FacilityLocationData(params)"
   ]
  },
  {
   "cell_type": "markdown",
   "metadata": {},
   "source": [
    "This is a really ugly and useless printout! We can actually make this a bit nicer by defining a better print method for the `FacilityLocationData` type. To do this, we override the default print method, which is called `Base.show`."
   ]
  },
  {
   "cell_type": "code",
   "execution_count": null,
   "metadata": {},
   "outputs": [],
   "source": [
    "function Base.show(io::IO, data::FacilityLocationData)\n",
    "    @printf(io, \"Facility location data with %d facilities, %d customers, and %d demand scenarios\",\n",
    "            size(data.facilities, 1), size(data.customers, 1), size(data.demand, 2))\n",
    "end\n",
    "data"
   ]
  },
  {
   "cell_type": "markdown",
   "metadata": {},
   "source": [
    "And now let's plot the facilities and customers!"
   ]
  },
  {
   "cell_type": "code",
   "execution_count": null,
   "metadata": {},
   "outputs": [],
   "source": [
    "scatter(data.facilities[:, 1], data.facilities[:, 2], label=\"Facilities\")\n",
    "scatter!(data.customers[:, 1], data.customers[:, 2], label=\"Customers\")"
   ]
  },
  {
   "cell_type": "markdown",
   "metadata": {},
   "source": [
    "## 2. Direct optimization"
   ]
  },
  {
   "cell_type": "code",
   "execution_count": null,
   "metadata": {},
   "outputs": [],
   "source": [
    "TIME_LIMIT = 180;\n",
    "OPTIMALITY_GAP = 0.01;"
   ]
  },
  {
   "cell_type": "code",
   "execution_count": null,
   "metadata": {},
   "outputs": [],
   "source": [
    "\"Solve the optimization problem directly\"\n",
    "function direct_solve(data::FacilityLocationData; verbose::Bool = true)\n",
    "    model = Model(() -> Gurobi.Optimizer(GRB_ENV))\n",
    "    set_optimizer_attributes(model, \"TimeLimit\" => TIME_LIMIT, \"MIPGap\" => OPTIMALITY_GAP,\n",
    "                             \"OutputFlag\" => ifelse(verbose, 1, 0))\n",
    "    N = size(data.facilities, 1); M = size(data.customers, 1); S = size(data.demand, 2)\n",
    "    @variable(model, x[1:N], Bin)\n",
    "    @variable(model, y[1:N, 1:M, 1:S] >= 0)\n",
    "    @variable(model, z[1:M, 1:S] >= 0)\n",
    "    @objective(model, Min,\n",
    "               sum(data.facility_cost[i] * x[i] for i=1:N) +\n",
    "               sum(data.prob[s] * data.transportation_cost[i, j] * y[i, j, s] for i=1:N, j in 1:M, s in 1:S) +\n",
    "               sum(data.prob[s] * data.cost_unmet_demand[j] * z[j, s] for j in 1:M, s in 1:S))\n",
    "    @constraint(model, [j in 1:M, s in 1:S],\n",
    "                sum(y[i, j, s] for i = 1:N) + z[j, s] >= data.demand[j,s])\n",
    "    @constraint(model, [i in 1:N, s in 1:S],\n",
    "                sum(y[i, j, s] for j=1:M) <= data.capacity[i] * x[i])\n",
    "    solvetime = @elapsed optimize!(model)\n",
    "    opt = objective_value(model)\n",
    "    bound = objective_bound(model)\n",
    "    return opt, bound, solvetime\n",
    "end"
   ]
  },
  {
   "cell_type": "code",
   "execution_count": null,
   "metadata": {},
   "outputs": [],
   "source": [
    "direct_solve(data, verbose=true)"
   ]
  },
  {
   "cell_type": "markdown",
   "metadata": {},
   "source": [
    "## 3. Benders decomposition\n",
    "\n",
    "### 3.1. Multi-cut approach\n",
    "\n",
    "We want to solve the problem using Benders decomposition. Consider the following multi-cut approach.\n",
    "\n",
    "Main problem:\n",
    "$$\\begin{align}\n",
    "\\min\\quad &\\sum_{i=1}^N c_i x_i + \\sum_{s=1}^Sp_s\\theta_s\\\\\n",
    "\\text{s.t.}\\quad & \\mathbf{x}\\in\\{0,1\\}^N, \\mathbf{\\theta}\\ge 0\n",
    "\\end{align}$$\n",
    "\n",
    "Subproblem $s$:\n",
    "$$\\begin{align}\n",
    "\\min\\quad & \\sum_{i=1}^N\\sum_{j=1}^Mt_{ij}y_{ij}^s + \\sum_{j=1}^Mq_jz_{j}^s\\\\\n",
    "\\text{s.t.}\\quad & \\sum_{i=1}^Ny_{ij}^s+z_j^s\\ge d_j^s & \\forall j\\in [M]\\\\\n",
    "& \\sum_{j=1}^My_{ij}^s \\le C_ix_i&\\forall i\\in[N]\\\\\n",
    "& \\mathbf{y,z}\\ge 0\n",
    "\\end{align}$$"
   ]
  },
  {
   "cell_type": "markdown",
   "metadata": {},
   "source": [
    "Dual subproblem $s$:\n",
    "$$\\begin{align}\n",
    "\\max\\quad &  \\sum_{j=1}^M \\mu_j d_j^s - \\sum_{i=1}^N\\lambda_iC_ix_i\\\\\n",
    "\\text{s.t.}\\quad & \\mu_j -\\lambda_i \\le t_{ij} & \\forall i\\in[N], j\\in[M]\\\\\n",
    "& \\mu_j \\le q_j &\\forall j\\in [M]\\\\\n",
    "& \\mathbf{\\mu, \\lambda}\\ge 0\n",
    "\\end{align}$$\n",
    "\n",
    "- If the dual subproblem is unbounded, we obtain an extreme ray $(\\mu^*, \\lambda^*)$ and add a feasibility cut:\n",
    "$$\\sum_{j=1}^M\\mu^*_j d_j^s - \\sum_{i=1}^N \\lambda^*_i C_i x_i \\le 0$$\n",
    "\n",
    "- If the dual subproblem solves to optimality, we obtain an extreme point $(\\mu^*, \\lambda^*)$ and add an optimality cut:\n",
    "$$θ_s \\ge \\sum_{j=1}^M\\mu^*_j d_j^s - \\sum_{i=1}^N\\lambda^*_i C_i x_i$$"
   ]
  },
  {
   "cell_type": "markdown",
   "metadata": {},
   "source": [
    "We can implement this decomposition as follows:"
   ]
  },
  {
   "cell_type": "code",
   "execution_count": null,
   "metadata": {},
   "outputs": [],
   "source": [
    "\"Solve problem using multi-cut Benders decomposition\"\n",
    "function solve_benders_multi(data::FacilityLocationData; verbose::Bool=false)\n",
    "    # define main problem\n",
    "    MP = Model(() -> Gurobi.Optimizer(GRB_ENV));\n",
    "    set_optimizer_attributes(MP, \"TimeLimit\" => 60, \"MIPGap\" => 1e-4, \"OutputFlag\" => 0)\n",
    "    N = size(data.facilities, 1); M = size(data.customers, 1); S = size(data.demand, 2)\n",
    "    @variable(MP, x[1:N], Bin)\n",
    "    @variable(MP, θ[1:S] >= 0)\n",
    "    @objective(MP, Min, sum(data.facility_cost[i] * x[i] for i=1:N) + sum(data.prob[s] * θ[s] for s in 1:S))\n",
    "\n",
    "    lower_bound_all = []; upper_bound_all = []\n",
    "    MP_time = []; SP_max_time = []; SP_time = []\n",
    "    while true\n",
    "        # solve master problem\n",
    "        push!(MP_time, @elapsed optimize!(MP))\n",
    "        lower_bound_new = objective_value(MP)\n",
    "        push!(lower_bound_all, lower_bound_new)\n",
    "        x_MP = value.(MP[:x])\n",
    "        # solve S subproblems\n",
    "        obj_SP = zeros(S)\n",
    "        SP_time_all = zeros(S)\n",
    "        for s = 1:S\n",
    "            SP_dual = Model(() -> Gurobi.Optimizer(GRB_ENV))\n",
    "            set_optimizer_attributes(SP_dual, \"OutputFlag\" => 0)\n",
    "            @variable(SP_dual, λ[1:N] >= 0);\n",
    "            @variable(SP_dual, μ[1:M] >= 0);\n",
    "            @objective(SP_dual, Max,\n",
    "                       sum(μ[j] * data.demand[j,s] for j in 1:M) -\n",
    "                       sum(λ[i] * data.capacity[i] * x_MP[i] for i in 1:N))\n",
    "            @constraint(SP_dual, [i in 1:N, j in 1:M], μ[j] - λ[i] <= data.transportation_cost[i,j])\n",
    "            @constraint(SP_dual, [j in 1:M], μ[j] <= data.cost_unmet_demand[j])\n",
    "            SP_time_all[s] = @elapsed optimize!(SP_dual)\n",
    "            obj_SP_dual = objective_value(SP_dual)\n",
    "            λ_val = value.(SP_dual[:λ])\n",
    "            μ_val = value.(SP_dual[:μ])            \n",
    "            if termination_status(SP_dual) == MOI.DUAL_INFEASIBLE # feasibility cut\n",
    "                @constraint(MP, sum(μ_val[j] * data.demand[j, s] for j in 1:M) -\n",
    "                            sum(λ_val[i] * data.capacity[i] * x[i] for i in 1:N) <= 0)\n",
    "                obj_SP[s] = 999999999\n",
    "            elseif termination_status(SP_dual) == MOI.OPTIMAL\n",
    "                @constraint(MP, θ[s] >= sum(μ_val[j] * data.demand[j,s] for j in 1:M) -\n",
    "                            sum(λ_val[i] * data.capacity[i] * x[i] for i in 1:N))\n",
    "                obj_SP[s] = obj_SP_dual\n",
    "            end\n",
    "        end\n",
    "        push!(SP_max_time, maximum(SP_time_all))\n",
    "        push!(SP_time, sum(SP_time_all))\n",
    "        upper_bound_new = sum(data.facility_cost[i] * x_MP[i] for i=1:N) + sum(data.prob[s] * obj_SP[s] for s in 1:S)\n",
    "        push!(upper_bound_all, upper_bound_new)\n",
    "        verbose && @printf(\"Sol: %.2f - Bound: %.2f\\n\", upper_bound_all[end], lower_bound_all[end])\n",
    "        if sum(MP_time) + sum(SP_time) >= TIME_LIMIT ||\n",
    "            (upper_bound_new-lower_bound_new)/lower_bound_new < OPTIMALITY_GAP\n",
    "            break\n",
    "        end\n",
    "    end\n",
    "    return upper_bound_all, lower_bound_all, MP_time, SP_time, SP_max_time\n",
    "end"
   ]
  },
  {
   "cell_type": "code",
   "execution_count": null,
   "metadata": {},
   "outputs": [],
   "source": [
    "@time upper1, lower1, main_time1, subproblem_time1, subproblem_max_time1 = solve_benders_multi(data, verbose = true);"
   ]
  },
  {
   "cell_type": "markdown",
   "metadata": {},
   "source": [
    "We can take a look at the convergence by iteration:"
   ]
  },
  {
   "cell_type": "code",
   "execution_count": null,
   "metadata": {},
   "outputs": [],
   "source": [
    "plot([upper1 lower1], label=[\"Upper bound\" \"Lower bound\"], xlabel=\"Iteration\")"
   ]
  },
  {
   "cell_type": "markdown",
   "metadata": {},
   "source": [
    "And we can also look at it as a function of time:"
   ]
  },
  {
   "cell_type": "code",
   "execution_count": null,
   "metadata": {},
   "outputs": [],
   "source": [
    "plot(cumsum(main_time1 .+ subproblem_time1), [upper1 lower1], label=[\"Upper bound\" \"Lower bound\"], xlabel=\"Time (s)\")"
   ]
  },
  {
   "cell_type": "markdown",
   "metadata": {},
   "source": [
    "In our implementation, we solved all the subproblems in series, but they are actually independent. We can estimate the runtime on a fully parallel system by using the maximum subproblem runtime instead of the sum of subproblem runtimes."
   ]
  },
  {
   "cell_type": "code",
   "execution_count": null,
   "metadata": {},
   "outputs": [],
   "source": [
    "plot(cumsum(main_time1 .+ subproblem_max_time1),\n",
    "    [upper1 lower1], label=[\"Upper bound\" \"Lower bound\"], xlabel=\"Time in parallel (s)\")"
   ]
  },
  {
   "cell_type": "markdown",
   "metadata": {},
   "source": [
    "### 3.2. Single-cut approach\n",
    "\n",
    "An alternative approach is the following formulation:\n",
    "\n",
    "$$\\begin{align}\n",
    "\\min\\quad &\\sum_{i=1}^N c_i x_i + \\theta\\\\\n",
    "\\text{s.t.}\\quad & \\mathbf{x}\\in\\{0,1\\}^N, \\mathbf{\\theta}\\ge 0\n",
    "\\end{align}$$\n",
    "\n",
    "We keep the same $S$ subproblems, but this time we add cuts as follows:\n",
    "\n",
    "- If **any** dual subproblem is unbounded, we obtain an extreme ray $(\\mu^*, \\lambda^*)$ and add a feasibility cut:\n",
    "$$\\sum_{j=1}^M\\mu^*_j d_j^s - \\sum_{i=1}^N \\lambda^*_i C_i x_i \\le 0$$\n",
    "\n",
    "- If **all** dual subproblems solve to optimality, we obtain extreme points $(\\mu^*_s, \\lambda^*_s)$ and add an optimality cut:\n",
    "$$θ \\ge \\sum_{s=1}^Sp_s\\left(\\sum_{j=1}^M\\mu^*_j d_j^s - \\sum_{i=1}^N\\lambda^*_i C_i x_i\\right)$$"
   ]
  },
  {
   "cell_type": "code",
   "execution_count": null,
   "metadata": {},
   "outputs": [],
   "source": [
    "\"Solve problem using multi-cut Benders decomposition\"\n",
    "function solve_benders_single(data::FacilityLocationData; verbose::Bool=false)\n",
    "    MP = Model(() -> Gurobi.Optimizer(GRB_ENV));\n",
    "    set_optimizer_attributes(MP, \"TimeLimit\" => 60, \"MIPGap\" => 1e-4, \"OutputFlag\" => 0)\n",
    "    N = size(data.facilities, 1); M = size(data.customers, 1); S = size(data.demand, 2)\n",
    "    @variable(MP, x[1:N], Bin)\n",
    "    @variable(MP, θ >= 0)\n",
    "    @objective(MP, Min, sum(data.facility_cost[i] * x[i] for i=1:N) + θ)\n",
    "    lower_bound_all = []; upper_bound_all = []\n",
    "    MP_time = []; SP_time = []; SP_max_time = []\n",
    "    while true\n",
    "        push!(MP_time, @elapsed optimize!(MP))\n",
    "        lower_bound_new = objective_value(MP)\n",
    "        push!(lower_bound_all, lower_bound_new)\n",
    "        x_MP = value.(MP[:x])\n",
    "        # set up subproblem loop\n",
    "        obj_SP = zeros(S)\n",
    "        SP_time_all = zeros(S)\n",
    "        λ_all = zeros(N, S)\n",
    "        μ_all = zeros(M, S)\n",
    "        optimality_cut = true\n",
    "        for s in 1:S\n",
    "            SP_dual = Model(() -> Gurobi.Optimizer(GRB_ENV));\n",
    "            set_optimizer_attributes(SP_dual, \"TimeLimit\" => 60, \"MIPGap\" => 1e-4, \"OutputFlag\" => 0)\n",
    "            @variable(SP_dual, λ[1:N] >= 0)\n",
    "            @variable(SP_dual, μ[1:M] >= 0)\n",
    "            @objective(SP_dual, Max, sum(μ[j] * data.demand[j,s] for j in 1:M)-\n",
    "                       sum(λ[i] * data.capacity[i] * x_MP[i] for i in 1:N))\n",
    "            @constraint(SP_dual, [i in 1:N, j in 1:M], μ[j] - λ[i] <= data.transportation_cost[i, j])\n",
    "            @constraint(SP_dual, [j in 1:M], μ[j] <= data.cost_unmet_demand[j])\n",
    "            SP_time_all[s] = @elapsed optimize!(SP_dual)\n",
    "            obj_SP_dual = objective_value(SP_dual)\n",
    "            λ_all[:, s] = value.(SP_dual[:λ])\n",
    "            μ_all[:, s] = value.(SP_dual[:μ])\n",
    "            if termination_status(SP_dual) == MOI.DUAL_INFEASIBLE # feasibility cut\n",
    "                optimality_cut = false\n",
    "                @constraint(MP, sum(μ_val[j] * data.demand[j, s] for j in 1:M) -\n",
    "                            sum(λ_val[i] * data.capacity[i] * x[i] for i in 1:N) <= 0)\n",
    "                obj_SP[s] = 999999999\n",
    "            elseif termination_status(SP_dual) == MOI.OPTIMAL\n",
    "                obj_SP[s] = obj_SP_dual\n",
    "            end\n",
    "        end\n",
    "        if optimality_cut\n",
    "            @constraint(MP, θ >= sum(- data.prob[s] * λ_all[i, s] * data.capacity[i] * x[i] for i=1:N, s=1:S) +\n",
    "                        sum(data.prob[s] * μ_all[j, s] * data.demand[j, s] for j = 1:M, s = 1:S))\n",
    "        end\n",
    "        push!(SP_max_time, maximum(SP_time_all))\n",
    "        push!(SP_time, sum(SP_time_all))\n",
    "        upper_bound_new = sum(data.facility_cost[i] * x_MP[i] for i=1:N) + sum(data.prob[s] * obj_SP[s] for s in 1:S);\n",
    "        push!(upper_bound_all, upper_bound_new)\n",
    "        verbose && @printf(\"Sol: %.2f - Bound: %.2f\\n\", upper_bound_all[end], lower_bound_all[end])\n",
    "        if sum(MP_time) + sum(SP_time) >= TIME_LIMIT ||\n",
    "            (upper_bound_new - lower_bound_new) / lower_bound_new < OPTIMALITY_GAP\n",
    "            break\n",
    "        end\n",
    "    end\n",
    "    return upper_bound_all, lower_bound_all, MP_time, SP_time, SP_max_time\n",
    "end"
   ]
  },
  {
   "cell_type": "markdown",
   "metadata": {},
   "source": [
    "Let's try this on our problem:"
   ]
  },
  {
   "cell_type": "code",
   "execution_count": null,
   "metadata": {},
   "outputs": [],
   "source": [
    "@time upper2, lower2, main_time2, subproblem_time2, subproblem_max_time2 = solve_benders_single(data, verbose = true);"
   ]
  },
  {
   "cell_type": "markdown",
   "metadata": {},
   "source": [
    "And we can plot the progress, as before..."
   ]
  },
  {
   "cell_type": "code",
   "execution_count": null,
   "metadata": {},
   "outputs": [],
   "source": [
    "plot(cumsum(main_time2 .+ subproblem_time2), [upper2 lower2], label=[\"Upper bound\" \"Lower bound\"], xlabel=\"Time (s)\")"
   ]
  },
  {
   "cell_type": "markdown",
   "metadata": {},
   "source": [
    "### 3.3 Pareto-optimal cuts\n",
    "\n",
    "In lecture, we also discussed Pareto-optimal cuts, i.e. cuts that provide a tighter approximation to the recourse function. We mentioned that we can compute a Pareto-optimal cut by finding the best cut for a particular \"core point\" $x^0$. We first solve the dual subproblem:\n",
    "\n",
    "$$\\begin{align}\n",
    "z^*=\\max\\quad &  \\sum_{j=1}^M \\mu_j d_j^s - \\sum_{i=1}^N\\lambda_iC_ix_i\\\\\n",
    "\\text{s.t.}\\quad & \\mu_j -\\lambda_i \\le t_{ij} & \\forall i\\in[N], j\\in[M]\\\\\n",
    "& \\mu_j \\le q_j& \\forall j\\in [M]\\\\\n",
    "& \\mathbf{\\mu, \\lambda}\\ge 0\n",
    "\\end{align}$$\n",
    "\n",
    "The, given the optimal objective, $x^*$, we solve the problem again with a new objective, i.e.\n",
    "\n",
    "$$\\begin{align}\n",
    "\\max\\quad &  \\sum_{j=1}^M \\mu_j d_j^s - \\sum_{i=1}^N\\lambda_iC_ix^0_i\\\\\n",
    "\\text{s.t.}\\quad & \\mu_j -\\lambda_i \\le t_{ij} & \\forall i\\in[N], j\\in[M]\\\\\n",
    "& \\mu_j \\le q_j& \\forall j\\in [M]\\\\\n",
    "& \\sum_{j=1}^M \\mu_j d_j^s - \\sum_{i=1}^N\\lambda_iC_ix_i=z^*\\\\\n",
    "& \\mathbf{\\mu, \\lambda}\\ge 0\n",
    "\\end{align}$$\n",
    "\n",
    "The core point we use is $x^0=\\{0.5\\}_{i=1}^N$."
   ]
  },
  {
   "cell_type": "code",
   "execution_count": null,
   "metadata": {},
   "outputs": [],
   "source": [
    "\"Solve problem using multi-cut Benders decomposition\"\n",
    "function solve_benders_pareto(data::FacilityLocationData; verbose::Bool=false)\n",
    "    MP = Model(() -> Gurobi.Optimizer(GRB_ENV));\n",
    "    set_optimizer_attributes(MP, \"TimeLimit\" => 60, \"MIPGap\" => 1e-4, \"OutputFlag\" => 0)\n",
    "    N = size(data.facilities, 1); M = size(data.customers, 1); S = size(data.demand, 2)\n",
    "    @variable(MP, x[1:N], Bin)\n",
    "    @variable(MP, θ >= 0)\n",
    "    @objective(MP, Min, sum(data.facility_cost[i] * x[i] for i=1:N) + θ)\n",
    "    lower_bound_all = []; upper_bound_all = []\n",
    "    MP_time = []; SP_time = []; SP_max_time = []\n",
    "    while true\n",
    "        push!(MP_time, @elapsed optimize!(MP))\n",
    "        lower_bound_new = objective_value(MP)\n",
    "        push!(lower_bound_all, lower_bound_new)\n",
    "        x_MP = value.(MP[:x])\n",
    "        # set up subproblem loop\n",
    "        obj_SP = zeros(S)\n",
    "        SP_time_all = zeros(S)\n",
    "        λ_all = zeros(N, S)\n",
    "        μ_all = zeros(M, S)\n",
    "        optimality_cut = true\n",
    "        for s in 1:S\n",
    "            SP_dual = Model(() -> Gurobi.Optimizer(GRB_ENV));\n",
    "            set_optimizer_attributes(SP_dual, \"TimeLimit\" => 60, \"MIPGap\" => 1e-4, \"OutputFlag\" => 0)\n",
    "            @variable(SP_dual, λ[1:N] >= 0)\n",
    "            @variable(SP_dual, μ[1:M] >= 0)\n",
    "            @objective(SP_dual, Max, sum(μ[j] * data.demand[j,s] for j in 1:M)-\n",
    "                       sum(λ[i] * data.capacity[i] * x_MP[i] for i in 1:N))\n",
    "            @constraint(SP_dual, [i in 1:N, j in 1:M], μ[j] - λ[i] <= data.transportation_cost[i, j])\n",
    "            @constraint(SP_dual, [j in 1:M], μ[j] <= data.cost_unmet_demand[j])\n",
    "            SP_time_all[s] = @elapsed optimize!(SP_dual)\n",
    "            obj_SP_dual = objective_value(SP_dual)\n",
    "            λ_all[:, s] = value.(SP_dual[:λ])\n",
    "            μ_all[:, s] = value.(SP_dual[:μ])\n",
    "            if termination_status(SP_dual) == MOI.DUAL_INFEASIBLE # feasibility cut\n",
    "                optimality_cut = false\n",
    "                @constraint(MP, sum(μ_val[j] * data.demand[j, s] for j in 1:M) -\n",
    "                            sum(λ_val[i] * data.capacity[i] * x[i] for i in 1:N) <= 0)\n",
    "                obj_SP[s] = 999999999\n",
    "            elseif termination_status(SP_dual) == MOI.OPTIMAL\n",
    "                obj_SP[s] = obj_SP_dual\n",
    "                @constraint(SP_dual, sum(μ[j] * data.demand[j,s] for j in 1:M)-\n",
    "                            sum(λ[i] * data.capacity[i] * x_MP[i] for i in 1:N) == obj_SP[s])\n",
    "                @objective(SP_dual, Max, sum(μ[j] * data.demand[j,s] for j in 1:M)-\n",
    "                           sum(λ[i] * data.capacity[i] * 0.5 for i in 1:N))\n",
    "                SP_time_all[s] += @elapsed optimize!(SP_dual)\n",
    "                λ_all[:, s] = value.(SP_dual[:λ])\n",
    "                μ_all[:, s] = value.(SP_dual[:μ])\n",
    "            end\n",
    "        end\n",
    "        if optimality_cut\n",
    "            @constraint(MP, θ >= sum(- data.prob[s] * λ_all[i, s] * data.capacity[i] * x[i] for i=1:N, s=1:S) +\n",
    "                        sum(data.prob[s] * μ_all[j, s] * data.demand[j, s] for j = 1:M, s = 1:S))\n",
    "        end\n",
    "        push!(SP_max_time, maximum(SP_time_all))\n",
    "        push!(SP_time, sum(SP_time_all))\n",
    "        upper_bound_new = sum(data.facility_cost[i] * x_MP[i] for i=1:N) + sum(data.prob[s] * obj_SP[s] for s in 1:S);\n",
    "        push!(upper_bound_all, upper_bound_new)\n",
    "        verbose && @printf(\"Sol: %.2f - Bound: %.2f\\n\", upper_bound_all[end], lower_bound_all[end])\n",
    "        if sum(MP_time) + sum(SP_time) >= TIME_LIMIT ||\n",
    "            (upper_bound_new - lower_bound_new) / lower_bound_new < OPTIMALITY_GAP\n",
    "            break\n",
    "        end\n",
    "    end\n",
    "    return upper_bound_all, lower_bound_all, MP_time, SP_time, SP_max_time\n",
    "end"
   ]
  },
  {
   "cell_type": "markdown",
   "metadata": {},
   "source": [
    "Let's solve the problem using Pareto cuts:"
   ]
  },
  {
   "cell_type": "code",
   "execution_count": null,
   "metadata": {},
   "outputs": [],
   "source": [
    "@time upper3, lower3, main_time3, subproblem_time3, subproblem_max_time3 = solve_benders_pareto(data, verbose = true);"
   ]
  },
  {
   "cell_type": "code",
   "execution_count": null,
   "metadata": {},
   "outputs": [],
   "source": [
    "plot(cumsum(main_time3 .+ subproblem_time3), [upper3 lower3], label=[\"Upper bound\" \"Lower bound\"], xlabel=\"Time (s)\")"
   ]
  },
  {
   "cell_type": "markdown",
   "metadata": {},
   "source": [
    "Instead of solving the dual subproblem twice, another way to obtain Pareto-optimal cuts is to add the core point objective with a small weight $\\varepsilon$, to the original dual objective."
   ]
  },
  {
   "cell_type": "markdown",
   "metadata": {},
   "source": [
    "### 3.4 Benders cuts with lazy constraints\n",
    "\n",
    "The main drawback of the approaches above is that we have to restart solving the master problem from scratch every time we add the cuts. One way we can change that is by using lazy constraints.\n",
    "\n",
    "Instead of providing the solver with constraints, we give it a \"callback function\", i.e., a function which takes in a solution and provides a constraint that it violates. The solver will regularly call this function to see if there are new constraints that need to be added."
   ]
  },
  {
   "cell_type": "code",
   "execution_count": null,
   "metadata": {},
   "outputs": [],
   "source": [
    "\"Solve problem using multi-cut Benders decomposition - verbose can be 0, 1 or 2\"\n",
    "function solve_benders_lazy(data::FacilityLocationData; verbose::Int=0)\n",
    "    # define main problem\n",
    "    MP = Model(() -> Gurobi.Optimizer(GRB_ENV));\n",
    "    set_optimizer_attributes(MP, \"TimeLimit\" => TIME_LIMIT, \"MIPGap\" => OPTIMALITY_GAP,\n",
    "                             \"OutputFlag\" => ifelse(verbose > 0, 1, 0), \"LazyConstraints\" => 1)\n",
    "    N = size(data.facilities, 1); M = size(data.customers, 1); S = size(data.demand, 2)\n",
    "    @variable(MP, x[1:N], Bin)\n",
    "    @variable(MP, θ >= 0)\n",
    "    @objective(MP, Min, sum(data.facility_cost[i] * x[i] for i=1:N) + θ)\n",
    "\n",
    "    \"Define the callback function\"\n",
    "    function add_benders_cuts(cb_data)\n",
    "        status = callback_node_status(cb_data, MP)\n",
    "        if status == MOI.CALLBACK_NODE_STATUS_INTEGER\n",
    "            verbose == 2 && println(\"Adding lazy constraints...\")\n",
    "            # get value of current solution\n",
    "            x_MP = [round(callback_value(cb_data, x[i])) for i = 1:N]\n",
    "            λ_all = zeros(N, S)\n",
    "            μ_all = zeros(M, S)\n",
    "            optimality_cut = true\n",
    "            # solve dual subproblems\n",
    "            for s = 1:S\n",
    "                SP_dual = Model(() -> Gurobi.Optimizer(GRB_ENV))\n",
    "                set_optimizer_attributes(SP_dual, \"OutputFlag\" => 0)\n",
    "                @variable(SP_dual, λ[1:N] >= 0);\n",
    "                @variable(SP_dual, μ[1:M] >= 0);\n",
    "                @objective(SP_dual, Max,\n",
    "                           sum(μ[j] * data.demand[j,s] for j in 1:M) -\n",
    "                           sum(λ[i] * data.capacity[i] * x_MP[i] for i in 1:N))\n",
    "                @constraint(SP_dual, [i in 1:N, j in 1:M], μ[j] - λ[i] <= data.transportation_cost[i,j])\n",
    "                @constraint(SP_dual, [j in 1:M], μ[j] <= data.cost_unmet_demand[j])\n",
    "                optimize!(SP_dual)\n",
    "                λ_all[:,s] = value.(SP_dual[:λ])\n",
    "                μ_all[:,s] = value.(SP_dual[:μ])            \n",
    "                if termination_status(SP_dual) == MOI.DUAL_INFEASIBLE # feasibility cut\n",
    "                    optimality_cut = false\n",
    "                    fea = @build_constraint(sum(μ_all[j, s] * data.demand[j, s] for j in 1:M) -\n",
    "                                            sum(λ_all[i, s] * data.capacity[i] * x[i] for i in 1:N) <= 0)\n",
    "                    MOI.submit(MP, MOI.LazyConstraint(cb_data), fea)\n",
    "                elseif termination_status(SP_dual) == MOI.OPTIMAL\n",
    "                    # do nothing\n",
    "                end\n",
    "            end\n",
    "            opt = @build_constraint(θ >= sum(data.prob[s] * μ_all[j, s] * data.demand[j,s] for j = 1:M, s=1:S) -\n",
    "                                    sum(data.prob[s] * λ_all[i, s] * data.capacity[i] * x[i] for i = 1:N, s=1:S))\n",
    "            MOI.submit(MP, MOI.LazyConstraint(cb_data), opt)\n",
    "        end\n",
    "    end\n",
    "    # set callback function and attach to model\n",
    "    MOI.set(MP, MOI.LazyConstraintCallback(), add_benders_cuts)\n",
    "    solvetime = @elapsed optimize!(MP)\n",
    "    opt = objective_value(MP)\n",
    "    bound = objective_bound(MP)\n",
    "    return opt, bound, solvetime\n",
    "end"
   ]
  },
  {
   "cell_type": "markdown",
   "metadata": {},
   "source": [
    "We can solve the problem using lazy constraints:"
   ]
  },
  {
   "cell_type": "code",
   "execution_count": null,
   "metadata": {},
   "outputs": [],
   "source": [
    "solve_benders_lazy(data, verbose=0)"
   ]
  },
  {
   "cell_type": "markdown",
   "metadata": {},
   "source": [
    "Note that here we are using JuMP's solver-independent solver callback syntax. That means we don't have as much control about what to do within the callback, and when to actually call it. For example, when we set `verbose=2` above, we see we generate a lot of lazy constraints even before the end of the presolve. Why might that happen?\n",
    "\n",
    "If we want more fine-grained control over the solver, we can write a solver-dependent callback function, using the `Gurobi.jl` package directly - see [here](https://www.gurobi.com/documentation/9.1/refman/cb_codes.html) for more details!"
   ]
  },
  {
   "cell_type": "markdown",
   "metadata": {},
   "source": [
    "Another drawback of using lazy constraints is that it is harder to parallelize, and we do not have full control over when the callback is run. There are many examples where using lazy constraints considerably speeds up the problem. A usual one is the traveling salesman problem, and related vehicle routing problems."
   ]
  }
 ],
 "metadata": {
  "@webio": {
   "lastCommId": null,
   "lastKernelId": null
  },
  "kernelspec": {
   "display_name": "Julia 1.5.3",
   "language": "julia",
   "name": "julia-1.5"
  },
  "language_info": {
   "file_extension": ".jl",
   "mimetype": "application/julia",
   "name": "julia",
   "version": "1.5.3"
  }
 },
 "nbformat": 4,
 "nbformat_minor": 4
}
